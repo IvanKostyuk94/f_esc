{
 "cells": [
  {
   "cell_type": "code",
   "execution_count": 2,
   "metadata": {},
   "outputs": [
    {
     "data": {
      "text/html": [
       "<style>.container { width:75% !important; }</style>"
      ],
      "text/plain": [
       "<IPython.core.display.HTML object>"
      ]
     },
     "metadata": {},
     "output_type": "display_data"
    }
   ],
   "source": [
    "import matplotlib.pyplot as plt\n",
    "import importlib.util\n",
    "import numpy as np\n",
    "import matplotlib\n",
    "import os\n",
    "from crashpy.utilities import crashMemMap\n",
    "from matplotlib.colors import LogNorm\n",
    "from matplotlib.colors import Normalize\n",
    "\n",
    "import warnings\n",
    "warnings.filterwarnings('ignore')\n",
    "\n",
    "from IPython.core.interactiveshell import InteractiveShell\n",
    "\n",
    "# pretty print all cell's output and not just the last one\n",
    "InteractiveShell.ast_node_interactivity = \"all\"\n",
    "\n",
    "from IPython.core.display import display, HTML\n",
    "display(HTML(\"<style>.container { width:75% !important; }</style>\"))"
   ]
  },
  {
   "cell_type": "code",
   "execution_count": 3,
   "metadata": {},
   "outputs": [],
   "source": [
    "import skspatial"
   ]
  },
  {
   "cell_type": "code",
   "execution_count": 4,
   "metadata": {},
   "outputs": [],
   "source": [
    "from skspatial.objects import Circle\n",
    "from skspatial.objects import Sphere\n",
    "from skspatial.objects import Line\n",
    "from skspatial.objects import Point\n",
    "from skspatial.plotting import plot_2d\n",
    "from skspatial.plotting import plot_3d\n",
    "from skspatial.objects import Plane\n",
    "import random\n",
    "from mpl_toolkits.mplot3d import Axes3D\n",
    "from numba import jit"
   ]
  },
  {
   "cell_type": "code",
   "execution_count": 5,
   "metadata": {},
   "outputs": [],
   "source": [
    "from pyphfit2 import phfit2\n",
    "from crashpy.dataclasses.simulation import LoadedSimulation as Sim\n",
    "from crashpy.dataclasses.spectrum import CrashSpectrum as Spec\n",
    "import scipy.constants as const\n",
    "import astropy.units as u"
   ]
  },
  {
   "cell_type": "code",
   "execution_count": 6,
   "metadata": {},
   "outputs": [],
   "source": [
    "def get_simulation_path(halo_id, redshift, conf):\n",
    "    halo_path = get_sim_path(halo_id=halo_id, redshift=redshift, conf=conf)\n",
    "    path_out =  os.path.join(halo_path, 'Output/phys_ic00_rt05.out')\n",
    "    #path_out =  '/ptmp/mpa/mglatzle/TNG_f_esc/524_1029/run/L35n2160TNG/sn00phys_ic00_rt05.out'\n",
    "    #path_dens = os.path.join(halo_path, 'Input/dens_ic00.in')\n",
    "    return path_out#, path_dens\n",
    "\n",
    "def get_H_map(halo):\n",
    "    return np.ones(halo[1].shape)-halo[1]\n",
    "\n",
    "def get_He_map(halo):\n",
    "    return np.ones(halo[1].shape)-halo[2]-halo[3]"
   ]
  },
  {
   "cell_type": "code",
   "execution_count": 7,
   "metadata": {},
   "outputs": [],
   "source": [
    "def get_sim_path(halo_id, redshift, conf):\n",
    "    snap = get_snap_num(redshift)\n",
    "    return f'/freya/ptmp/mpa/mglatzle/TNG_f_esc/{conf}/run/L35n2160TNG/{snap}/g{halo_id}'"
   ]
  },
  {
   "cell_type": "code",
   "execution_count": 8,
   "metadata": {},
   "outputs": [],
   "source": [
    "def _get_source_info(ic):\n",
    "    source_weights = ic.sources['em'].values\n",
    "    spec = Spec.fromFile(ic.sources['spec_file'].values[0])\n",
    "    freqs = spec.mids['hnu']/const.h*const.e\n",
    "    source_packet_shapes = np.empty((len(freqs), len(source_weights)), order='F')\n",
    "    for i, p in enumerate(ic.sources['spec_file'].values):\n",
    "        spec = Spec.fromFile(ic.sources['spec_file'].values[i])\n",
    "        source_packet_shapes[:, i] = spec.getPhotonPacketShape()\n",
    "    source_pos = np.empty((3, len(source_weights)), order='F')\n",
    "    for i, key in enumerate(['i', 'j', 'k']):\n",
    "        source_pos[i, :] = (ic.sources[key]-0.5)\n",
    "    return freqs, source_weights, source_packet_shapes, source_pos"
   ]
  },
  {
   "cell_type": "code",
   "execution_count": 9,
   "metadata": {},
   "outputs": [],
   "source": [
    "def get_density_fields(halo_id, redshift, conf):\n",
    "    sim_path = get_sim_path(halo_id, redshift, conf)"
   ]
  },
  {
   "cell_type": "code",
   "execution_count": 10,
   "metadata": {},
   "outputs": [],
   "source": [
    "def get_snap_num(redshift):\n",
    "    redshift_dic = {6:'sn013',8:'sn008',10:'sn004'}\n",
    "    return redshift_dic[redshift]"
   ]
  },
  {
   "cell_type": "code",
   "execution_count": 11,
   "metadata": {},
   "outputs": [],
   "source": [
    "def get_sim(halo_id, redshift, conf):\n",
    "    simpath = get_sim_path(halo_id, redshift, conf)\n",
    "    return Sim(simpath)"
   ]
  },
  {
   "cell_type": "code",
   "execution_count": 12,
   "metadata": {},
   "outputs": [],
   "source": [
    "def get_halo_sources_from_sim(sim, ic_num='00'):\n",
    "    ic = sim.ICs[ic_num]\n",
    "    luminosities = ic.sources['em'].values\n",
    "    spec_1 = Spec.fromFile(ic.sources['spec_file'].values[0])\n",
    "    frequencies = spec_1.mids['hnu']/const.h*const.e\n",
    "    \n",
    "    sigma_cm2 = {}\n",
    "    sigma_cm2['HI'] = np.array(phfit2(1, 1, 1, frequencies*u.Hz).value*1e-18)\n",
    "    sigma_cm2['HeI'] = np.array(phfit2(2, 2, 1, frequencies*u.Hz).value*1e-18)\n",
    "    sigma_cm2['HeII'] = np.array(phfit2(2, 1, 1, frequencies*u.Hz).value*1e-18)\n",
    "\n",
    "    positions = []\n",
    "    spectra = []\n",
    "    for i in range(len(luminosities)):\n",
    "        positions.append([ic.sources['i'][i]-0.5,ic.sources['j'][i]-0.5,ic.sources['k'][i]-0.5])\n",
    "        \n",
    "        spec = Spec.fromFile(ic.sources['spec_file'].values[i])\n",
    "        spectra.append(spec.getPhotonPacketShape())\n",
    "    return np.array(luminosities), np.array(positions), np.array(spectra), sigma_cm2"
   ]
  },
  {
   "cell_type": "code",
   "execution_count": 13,
   "metadata": {},
   "outputs": [],
   "source": [
    "def get_halo_sources(halo_id, redshift, conf):\n",
    "    sim = get_sim(halo_id, redshift, conf)\n",
    "    lum, pos, spectra, sigma_cm2 = get_halo_sources_from_sim(sim, ic_num='00')\n",
    "    return lum, pos, spectra, sigma_cm2"
   ]
  },
  {
   "cell_type": "code",
   "execution_count": 14,
   "metadata": {},
   "outputs": [],
   "source": [
    "def get_density_maps(halo_id, redshift, conf, ic_num='00'):\n",
    "    path_out = get_simulation_path(halo_id=halo_id, redshift=redshift, conf=conf)\n",
    "    sim = get_sim(halo_id, redshift, conf)\n",
    "    ic = sim.ICs[ic_num]\n",
    "    halo = crashMemMap(path_out, 'all')\n",
    "    density_maps = {}\n",
    "    density_maps['HI'] = get_H_map(halo)*ic.getHDensity()\n",
    "    density_maps['HeI'] = get_He_map(halo)*ic.getHeDensity()\n",
    "    density_maps['HeII'] = halo[2]*ic.getHeDensity()\n",
    "    \n",
    "    cell_size_cm = get_cell_size_cm(ic)\n",
    "    return cell_size_cm, density_maps"
   ]
  },
  {
   "cell_type": "code",
   "execution_count": 15,
   "metadata": {},
   "outputs": [],
   "source": [
    "def get_cell_size_cm(ic):\n",
    "    cell_size = (ic.getCellSize()[1]*u.Mpc).to(u.cm).value\n",
    "    return cell_size"
   ]
  },
  {
   "cell_type": "code",
   "execution_count": 16,
   "metadata": {},
   "outputs": [],
   "source": [
    "def get_random_line_2d(source_coordinates):\n",
    "    phi = np.random.uniform(0,2*np.pi)\n",
    "    direction = np.array([np.cos(phi), np.sin(phi)])\n",
    "    line = Line(source_coordinates, direction)\n",
    "    return line"
   ]
  },
  {
   "cell_type": "code",
   "execution_count": 17,
   "metadata": {},
   "outputs": [],
   "source": [
    "def get_random_line(source_coordinates):\n",
    "    theta = np.random.uniform(0,2*np.pi)\n",
    "    phi = np.arccos(1-2*np.random.uniform(0,1))\n",
    "    direction = np.array([np.sin(phi)*np.cos(theta), np.sin(phi)*np.sin(theta), np.cos(phi)])\n",
    "    line = Line(source_coordinates, direction)\n",
    "    return line"
   ]
  },
  {
   "cell_type": "code",
   "execution_count": 18,
   "metadata": {},
   "outputs": [],
   "source": [
    "# Return randomly one of the two points where the line crosses \n",
    "def get_point_on_sphere(line, sphere):\n",
    "    s_1, s_2 = sphere.intersect_line(line)\n",
    "    sphere_point = random.sample([s_1, s_2], 1)[0]\n",
    "    return sphere_point"
   ]
  },
  {
   "cell_type": "code",
   "execution_count": 19,
   "metadata": {},
   "outputs": [],
   "source": [
    "def get_crossing_points(source_coordinates, sphere_point, line):\n",
    "    center_ar = source_coordinates\n",
    "    sphere_point_ar = np.array(sphere_point)\n",
    "\n",
    "    epsilon = 1e-13\n",
    "    \n",
    "    crossing_points = []\n",
    "    for i in range(3):\n",
    "        if center_ar[i]<sphere_point_ar[i]:\n",
    "            start = center_ar[i]\n",
    "            end = sphere_point_ar[i]\n",
    "            increasing = True\n",
    "        else:\n",
    "            start = sphere_point_ar[i]\n",
    "            end = center_ar[i]\n",
    "            increasing = False\n",
    "\n",
    "        coordinate = np.ceil(start)\n",
    "        while coordinate<end:\n",
    "            if i == 0:\n",
    "                plane = Plane(point=[coordinate, 0, 0], normal=[1, 0, 0])\n",
    "                if increasing:\n",
    "                    correction=[epsilon,0,0]\n",
    "                else:\n",
    "                    correction=[-1+epsilon,0,0]\n",
    "            elif i == 1:\n",
    "                plane = Plane(point=[0, coordinate, 0], normal=[0, 1, 0])\n",
    "                if increasing:\n",
    "                    correction=[0,epsilon,0]\n",
    "                else:\n",
    "                    correction=[0,-1+epsilon,0]\n",
    "            elif i == 2:\n",
    "                plane = Plane(point=[0, 0, coordinate], normal=[0, 0, 1])\n",
    "                if increasing:\n",
    "                    correction=[0,0,epsilon]\n",
    "                else:\n",
    "                    correction=[0,0,-1+epsilon]\n",
    "            else:\n",
    "                raise ValueError('Dimension has to be 3')\n",
    "                \n",
    "            crossing_points.append((np.array(plane.intersect_line(line)), correction))\n",
    "            coordinate += 1\n",
    "    return crossing_points"
   ]
  },
  {
   "cell_type": "code",
   "execution_count": 20,
   "metadata": {},
   "outputs": [],
   "source": [
    "def sort_crossing_points(source_coordinates, crossing_points):\n",
    "    crossing_tuples = []\n",
    "    for element in crossing_points:\n",
    "        crossing_tuples.append((element[0], np.linalg.norm(source_coordinates-element[0]), element[1]))\n",
    "    sorted_tuples = sorted(crossing_tuples, key=lambda tup: tup[1])\n",
    "    return sorted_tuples"
   ]
  },
  {
   "cell_type": "code",
   "execution_count": 21,
   "metadata": {},
   "outputs": [],
   "source": [
    "def cell_coordinates_with_legths(source_coordinates, sphere_point, sorted_crossing_points):        \n",
    "    coordinate_lengths = []\n",
    "    start_crossing = source_coordinates\n",
    "    correction = np.array([0,0,0])\n",
    "    \n",
    "    counter=0\n",
    "    for element in sorted_crossing_points:\n",
    "        end_crossing = element[0]\n",
    "        coordinates = np.floor(start_crossing+correction).astype(int)\n",
    "        crossing_length = np.linalg.norm(end_crossing-start_crossing)\n",
    "        coordinate_lengths.append((coordinates, crossing_length))\n",
    "        \n",
    "        prev = start_crossing\n",
    "        prev_cor = correction\n",
    "        start_crossing = end_crossing\n",
    "        correction = element[2]\n",
    "    \n",
    "    coordinates = np.floor(start_crossing+correction).astype(int)\n",
    "    crossing_length = np.linalg.norm(sphere_point-start_crossing)\n",
    "    coordinate_lengths.append((coordinates, crossing_length))\n",
    "    return coordinate_lengths"
   ]
  },
  {
   "cell_type": "code",
   "execution_count": 22,
   "metadata": {},
   "outputs": [],
   "source": [
    "def get_optical_depth(densities, coordinate_lengths, cross_sections, cell_size):\n",
    "    individual_depths = []\n",
    "    density_array = []\n",
    "    \n",
    "    optical_depths = np.zeros(len(cross_sections['HI']))\n",
    "    dens_len = {}\n",
    "    for key in densities.keys():\n",
    "        density_length_prod = 0\n",
    "        for element in coordinate_lengths:\n",
    "            dens = densities[key][element[0][0], element[0][1], element[0][2]]\n",
    "            density_array.append(dens)\n",
    "            density_length_prod += dens*element[1]\n",
    "        dens_len[key] = density_length_prod\n",
    "        optical_depths += density_length_prod*cell_size*cross_sections[key]\n",
    "        #individual_depths.append(density_length_prod*cell_size*cross_sections[key])\n",
    "    return optical_depths, dens_len#, np.array(individual_depths), np.array(density_array)"
   ]
  },
  {
   "cell_type": "code",
   "execution_count": 23,
   "metadata": {},
   "outputs": [],
   "source": [
    "def get_line_esc(emitted, optical_depths):\n",
    "    return emitted*np.exp(-1*optical_depths)"
   ]
  },
  {
   "cell_type": "code",
   "execution_count": 24,
   "metadata": {},
   "outputs": [],
   "source": [
    "def batch_esc(sphere, source_pos, densities, emitted, cell_size, ray_number, cross_sections):\n",
    "    escaped = np.zeros(len(cross_sections['HI']))\n",
    "    dens_len_dict = {}\n",
    "    for key in densities.keys():\n",
    "        dens_len_dict[key] = []\n",
    "    for i in range(ray_number):\n",
    "        line = get_random_line(source_coordinates=source_pos)\n",
    "        sphere_point = get_point_on_sphere(line=line, sphere=sphere)\n",
    "        crossing_points = get_crossing_points(source_coordinates=source_pos, \n",
    "                                              sphere_point=sphere_point, line=line)\n",
    "        sorted_crossing_points = sort_crossing_points(source_coordinates=source_pos, \n",
    "                                                      crossing_points=crossing_points)\n",
    "        coord_lengths = cell_coordinates_with_legths(source_coordinates=source_pos, \n",
    "                                                    sphere_point=sphere_point, \n",
    "                                                    sorted_crossing_points=sorted_crossing_points)\n",
    "        optical_depths, dens_len = get_optical_depth(densities=densities, \n",
    "                                           coordinate_lengths=coord_lengths, \n",
    "                                           cross_sections=cross_sections, \n",
    "                                           cell_size=cell_size)\n",
    "        new_escaped = get_line_esc(emitted=emitted, optical_depths=optical_depths) \n",
    "        \n",
    "        for key in dens_len_dict.keys():\n",
    "            dens_len_dict[key].append(dens_len[key])\n",
    "        #print(new_escaped)\n",
    "        escaped += new_escaped\n",
    "    return escaped/ray_number, dens_len_dict"
   ]
  },
  {
   "cell_type": "code",
   "execution_count": 25,
   "metadata": {},
   "outputs": [],
   "source": [
    "def calculate_source_esc(densities, source_pos, cross_sections, luminosity, \n",
    "                         spectrum, cell_size, halo_radius, halo_center, \n",
    "                        ray_number=100, threshold=0.01):\n",
    "\n",
    "    sphere = Sphere(halo_center, halo_radius)\n",
    "    emitted = luminosity*spectrum\n",
    "    escaped, dens_len_dict = batch_esc(sphere=sphere, source_pos=source_pos, \n",
    "                        densities=densities, emitted=emitted, cell_size=cell_size, \n",
    "                        ray_number=ray_number, cross_sections=cross_sections)\n",
    "    current_esc = escaped\n",
    "    current_fesc = np.sum(escaped)/np.sum(emitted)\n",
    "    counter = 1\n",
    "    while True:\n",
    "        new_escaped, _ = batch_esc(sphere=sphere, source_pos=source_pos, \n",
    "                        densities=densities, emitted=emitted, cell_size=cell_size, \n",
    "                        ray_number=ray_number, cross_sections=cross_sections)\n",
    "        updated_fesc = (counter*current_fesc+np.sum(new_escaped)/np.sum(emitted))/(counter+1)\n",
    "        updated_esc = (counter*current_esc+new_escaped)/(counter+1)\n",
    "        if np.abs((updated_fesc-current_fesc)/current_fesc)<threshold:\n",
    "            break\n",
    "        current_fesc = updated_fesc\n",
    "        current_esc = updated_esc\n",
    "        counter += 1\n",
    "        if counter>5:\n",
    "            break\n",
    "    return updated_fesc, updated_esc, dens_len_dict"
   ]
  },
  {
   "cell_type": "code",
   "execution_count": 26,
   "metadata": {},
   "outputs": [],
   "source": [
    "# Testing function to obtain the escape fraction by tracing a single line between two points\n",
    "def two_point_escape(origin_coord, end_coord, densities, emitted, cell_size, cross_sections):\n",
    "    origin = Point(origin_coord)\n",
    "    end = Point(end_coord)\n",
    "    line = Line(origin_coord, np.array(end_coord)-np.array(origin_coord))\n",
    "\n",
    "    crossing_points = get_crossing_points(source_coordinates=origin, \n",
    "                                          sphere_point=end, line=line)\n",
    "    sorted_crossing_points = sort_crossing_points(source_coordinates=origin, \n",
    "                                                  crossing_points=crossing_points)\n",
    "    coord_lengths = cell_coordinates_with_legths(source_coordinates=origin, \n",
    "                                                sphere_point=end, \n",
    "                                                sorted_crossing_points=sorted_crossing_points)\n",
    "    optical_depths, individual_depths, density_array = get_optical_depth(densities=densities, \n",
    "                                       coordinate_lengths=coord_lengths, \n",
    "                                       cross_sections=cross_sections, \n",
    "                                       cell_size=cell_size)\n",
    "    escaped = get_line_esc(emitted=emitted, optical_depths=optical_depths) \n",
    "    fesc = np.sum(escaped)/np.sum(emitted)\n",
    "    return fesc, escaped"
   ]
  },
  {
   "cell_type": "code",
   "execution_count": null,
   "metadata": {
    "scrolled": true
   },
   "outputs": [],
   "source": [
    "# Test 1: f_esc=0.1\n",
    "cell_size = 1\n",
    "dens = {'HI':-np.log(0.1)/50*np.ones((101,101,101))}\n",
    "r_halo = 50\n",
    "luminosity = 1\n",
    "source_pos = [50.5,50.5,50.5]\n",
    "halo_center = [50.5,50.5,50.5]\n",
    "spectrum = 1\n",
    "cross_section =  {'HI':np.array([1])}\n",
    "\n",
    "f_esc, per_freq, _ = calculate_source_esc(densities=dens, source_pos=source_pos, cross_sections=cross_section, \n",
    "                             luminosity=luminosity, spectrum=spectrum, \n",
    "                             cell_size=1, halo_radius=r_halo, halo_center=halo_center)\n",
    "print(per_freq)\n",
    "print(f_esc)"
   ]
  },
  {
   "cell_type": "code",
   "execution_count": null,
   "metadata": {
    "scrolled": true
   },
   "outputs": [],
   "source": [
    "# Test 2: per_freq=[0.1, 0.005, 0.002] f_esc=0.030571428571428576 (several values in the spectrum and the crossection)\n",
    "cell_size = 1\n",
    "sigma = 1\n",
    "dens = -np.log(0.1)/50*np.ones((101,101,101))\n",
    "r_halo = 50\n",
    "luminosity = 1\n",
    "source_pos = [50.5,50.5,50.5]\n",
    "halo_center = [50.5,50.5,50.5]\n",
    "spectrum = np.array([1, 0.5, 2])\n",
    "cross_section = np.array([1, 2, 3])\n",
    "f_esc, per_freq = calculate_source_esc(densities=dens, source_pos=source_pos, cross_sections=cross_section, \n",
    "                             luminosity=luminosity, spectrum=spectrum, \n",
    "                             cell_size=1, halo_radius=r_halo, halo_center=halo_center,\n",
    "                             ray_number=100, threshold=0.01)\n",
    "print(f_esc)\n",
    "print(per_freq)"
   ]
  },
  {
   "cell_type": "code",
   "execution_count": null,
   "metadata": {},
   "outputs": [],
   "source": [
    "# Test 3: approximately per_freq_esc=[0.25, 0.0625, 0.125] f_esc=0.125 (one half opaque)\n",
    "cell_size = 1\n",
    "sigma = 1\n",
    "dens = -np.log(0.5)/50*np.ones((101,101,101))\n",
    "dens[51:, :, :] = 1\n",
    "r_halo = 50\n",
    "luminosity = 1\n",
    "source_pos = [50.5,50.5,50.5]\n",
    "halo_center = [50.5,50.5,50.5]\n",
    "spectrum = np.array([1, 0.5 ,2])\n",
    "cross_section = np.array([1, 2, 3])\n",
    "f_esc, per_freq = calculate_source_esc(densities=dens, source_pos=source_pos, cross_sections=cross_section, \n",
    "                             luminosity=luminosity, spectrum=spectrum, \n",
    "                             cell_size=1, halo_radius=r_halo, halo_center=halo_center,\n",
    "                             ray_number=1000, threshold=0.001)\n",
    "print(f_esc)\n",
    "print(per_freq)"
   ]
  },
  {
   "cell_type": "code",
   "execution_count": null,
   "metadata": {},
   "outputs": [],
   "source": [
    "# Test 4: approximately per_freq=[0.3625] f_esc=0.3625 (4 different densities)\n",
    "cell_size = 1\n",
    "sigma = 1\n",
    "dens = -np.log(0.1)/50*np.ones((101,101,101))\n",
    "dens[51:, 51:, :] = -np.log(0.25)/50\n",
    "dens[:51, 51:, :] = -np.log(0.4)/50\n",
    "dens[:51, :51, :] = -np.log(0.7)/50\n",
    "r_halo = 50\n",
    "luminosity = 1\n",
    "source_pos = [50.5,50.5,50.5]\n",
    "halo_center = [50.5,50.5,50.5]\n",
    "spectrum = np.array([1])\n",
    "cross_section = np.array([1])\n",
    "f_esc, per_freq = calculate_source_esc(densities=dens, source_pos=source_pos, cross_sections=cross_section, \n",
    "                             luminosity=luminosity, spectrum=spectrum, \n",
    "                             cell_size=1, halo_radius=r_halo, halo_center=halo_center,\n",
    "                             ray_number=1000, threshold=0.001)\n",
    "print(f_esc)\n",
    "print(per_freq)"
   ]
  },
  {
   "cell_type": "code",
   "execution_count": null,
   "metadata": {},
   "outputs": [],
   "source": [
    "# Test 5: approximately per_freq=[0.6844607732186937] f_esc=0.6844607732186937 (4 different densities)\n",
    "cell_size = 1\n",
    "sigma = 1\n",
    "dens = -np.log(0.1)/50*np.ones((101,101,101))\n",
    "dens[51:, 51:, :] = -np.log(0.25)/50\n",
    "dens[:51, 51:, :] = -np.log(0.4)/50\n",
    "dens[:51, :51, :] = -np.log(0.7)/50\n",
    "r_halo = 50\n",
    "luminosity = 1\n",
    "spectrum = np.array([1])\n",
    "cross_section = np.array([1])\n",
    "\n",
    "source_pos_1 = [45.5, 55.5, 30.5]  \n",
    "end_pos_1 = [5.5, 90.5, 30.5]\n",
    "line_1 = Line(source_pos_1, np.array(end_pos_1)-np.array(source_pos_1))\n",
    "f_esc_1, per_freq_1 = two_point_escape(origin_coord=source_pos_1, end_coord=end_pos_1, \n",
    "                                   densities=dens, emitted=emitted, cell_size=cell_size, \n",
    "                                   cross_sections=cross_section)\n",
    "print(f_esc_1)\n",
    "print(per_freq_1)\n",
    "\n",
    "source_pos_2 = [60, 20, 30]  \n",
    "end_pos_2 = [63, 80, 30]\n",
    "line_2 = Line(source_pos_2, np.array(end_pos_2)-np.array(source_pos_2))\n",
    "f_esc_2, per_freq_2 = two_point_escape(origin_coord=source_pos_2, end_coord=end_pos_2, \n",
    "                                   densities=dens, emitted=emitted, cell_size=cell_size, \n",
    "                                   cross_sections=cross_section)\n",
    "print(f_esc_2)\n",
    "print(per_freq_2)"
   ]
  },
  {
   "cell_type": "code",
   "execution_count": null,
   "metadata": {},
   "outputs": [],
   "source": [
    "# Test 6: f_esc=0.001\n",
    "cell_size = 1\n",
    "dens = {}\n",
    "dens['HI'] = -np.log(0.1)/50*np.ones((101,101,101))\n",
    "dens['HeI'] = -np.log(0.1)/50*np.ones((101,101,101))\n",
    "dens['HeII'] = -np.log(0.1)/50*np.ones((101,101,101))\n",
    "r_halo = 50\n",
    "luminosity = 1\n",
    "source_pos = [50.5,50.5,50.5]\n",
    "halo_center = [50.5,50.5,50.5]\n",
    "spectrum = 1\n",
    "cross_sections = {'HI':np.array([1]), 'HeI':np.array([1]), 'HeII':np.array([1])}\n",
    "f_esc, per_freq = calculate_source_esc(densities=dens, source_pos=source_pos, cross_sections=cross_sections, \n",
    "                             luminosity=luminosity, spectrum=spectrum, \n",
    "                             cell_size=cell_size, halo_radius=r_halo, halo_center=halo_center)\n",
    "print(per_freq)\n",
    "print(f_esc)"
   ]
  },
  {
   "cell_type": "code",
   "execution_count": null,
   "metadata": {},
   "outputs": [],
   "source": [
    "# Test 6: First test with actual density field\n",
    "np.random.seed(42)\n",
    "random.seed(42)\n",
    "lum, pos, spectra, sigma_cm2 = get_halo_sources(1029, 8, 'single_source_1e5')\n",
    "cell_size_cm, densities =  get_density_maps(1029, 8, 'single_source_1e5')\n",
    "radius = densities['HI'].shape[0]/2\n",
    "halo_center = [radius, radius, radius]\n",
    "f_esc, per_freq, dens_len_dict_1e5 = calculate_source_esc(densities=densities, source_pos=pos[0], cross_sections=sigma_cm2, \n",
    "                             luminosity=lum[0], spectrum=spectra[0], \n",
    "                             cell_size=cell_size_cm, halo_radius=radius, halo_center=halo_center,\n",
    "                            ray_number=1000, threshold=0.01)\n",
    "print(f_esc)\n",
    "print(per_freq)"
   ]
  },
  {
   "cell_type": "code",
   "execution_count": null,
   "metadata": {},
   "outputs": [],
   "source": [
    "np.random.seed(42)\n",
    "random.seed(42)\n",
    "lum, pos, spectra, sigma_cm2 = get_halo_sources(1029, 8, 'single_source_1e6')\n",
    "cell_size_cm, densities =  get_density_maps(1029, 8, 'single_source_1e6')\n",
    "radius = densities['HI'].shape[0]/2\n",
    "halo_center = [radius, radius, radius]\n",
    "f_esc, per_freq, dens_len_dict_1e6 = calculate_source_esc(densities=densities, source_pos=pos[0], cross_sections=sigma_cm2, \n",
    "                             luminosity=lum[0], spectrum=spectra[0], \n",
    "                             cell_size=cell_size_cm, halo_radius=radius, halo_center=halo_center,\n",
    "                            ray_number=1000, threshold=0.01)\n",
    "print(f_esc)\n",
    "print(per_freq)"
   ]
  },
  {
   "cell_type": "code",
   "execution_count": null,
   "metadata": {},
   "outputs": [],
   "source": [
    "# Test 6: First test with actual density field\n",
    "np.random.seed(42)\n",
    "random.seed(42)\n",
    "lum, pos, spectra, sigma_cm2 = get_halo_sources(1029, 8, 'single_source_1e6')\n",
    "cell_size_cm, densities =  get_density_maps(1029, 8, 'single_source_1e6')\n",
    "radius = densities['HI'].shape[0]/2\n",
    "halo_center = [radius, radius, radius]\n",
    "f_esc, per_freq, dens_len_dict_1e6 = calculate_source_esc(densities=densities, source_pos=pos[0], cross_sections=sigma_cm2, \n",
    "                             luminosity=lum[0], spectrum=spectra[0], \n",
    "                             cell_size=cell_size_cm, halo_radius=radius, halo_center=halo_center,\n",
    "                            ray_number=1000, threshold=0.01)\n",
    "print(f_esc)\n",
    "print(per_freq)"
   ]
  },
  {
   "cell_type": "code",
   "execution_count": null,
   "metadata": {},
   "outputs": [],
   "source": [
    "# Test 6: First test with actual density field\n",
    "np.random.seed(42)\n",
    "random.seed(42)\n",
    "lum, pos, spectra, sigma_cm2 = get_halo_sources(1029, 8, 'single_source_1e6')\n",
    "cell_size_cm, densities =  get_density_maps(1029, 8, 'single_source_1e6')\n",
    "radius = densities['HI'].shape[0]/2\n",
    "halo_center = [radius, radius, radius]\n",
    "f_esc, per_freq, dens_len_dict_1e6 = calculate_source_esc(densities=densities, source_pos=pos[0], cross_sections=sigma_cm2, \n",
    "                             luminosity=lum[0], spectrum=spectra[0], \n",
    "                             cell_size=cell_size_cm, halo_radius=radius, halo_center=halo_center,\n",
    "                            ray_number=1000, threshold=0.01)\n",
    "print(f_esc)\n",
    "print(per_freq)"
   ]
  },
  {
   "cell_type": "code",
   "execution_count": null,
   "metadata": {},
   "outputs": [],
   "source": [
    "# Test 6: First test with actual density field\n",
    "np.random.seed(42)\n",
    "random.seed(42)\n",
    "lum, pos, spectra, sigma_cm2 = get_halo_sources(1029, 8, '524_1029')\n",
    "cell_size_cm, densities =  get_density_maps(1029, 8, '524_1029')\n",
    "radius = densities['HI'].shape[0]/2\n",
    "halo_center = [radius, radius, radius]\n",
    "f_esc, per_freq, dens_len_dict_1e6 = calculate_source_esc(densities=densities, source_pos=pos[1], cross_sections=sigma_cm2, \n",
    "                             luminosity=lum[0], spectrum=spectra[0], \n",
    "                             cell_size=cell_size_cm, halo_radius=radius, halo_center=halo_center,\n",
    "                            ray_number=1000, threshold=0.01)\n",
    "print(f_esc)\n",
    "print(per_freq)"
   ]
  },
  {
   "cell_type": "code",
   "execution_count": null,
   "metadata": {},
   "outputs": [],
   "source": [
    "# Test 6: First test with actual density field\n",
    "np.random.seed(42)\n",
    "random.seed(42)\n",
    "lum, pos, spectra, sigma_cm2 = get_halo_sources(1029, 8, '524__1e5')\n",
    "cell_size_cm, densities =  get_density_maps(1029, 8, '524__1e5')\n",
    "radius = densities['HI'].shape[0]/2\n",
    "halo_center = [radius, radius, radius]\n",
    "f_esc, per_freq, dens_len_dict_1e5 = calculate_source_esc(densities=densities, source_pos=pos[1], cross_sections=sigma_cm2, \n",
    "                             luminosity=lum[0], spectrum=spectra[0], \n",
    "                             cell_size=cell_size_cm, halo_radius=radius, halo_center=halo_center,\n",
    "                            ray_number=1000, threshold=0.01)\n",
    "print(f_esc)\n",
    "print(per_freq)"
   ]
  },
  {
   "cell_type": "code",
   "execution_count": null,
   "metadata": {},
   "outputs": [],
   "source": [
    "# Test 6: First test with actual density field\n",
    "np.random.seed(42)\n",
    "random.seed(42)\n",
    "lum, pos, spectra, sigma_cm2 = get_halo_sources(1029, 8, 'full_esc')\n",
    "cell_size_cm, densities =  get_density_maps(1029, 8, 'full_esc')\n",
    "radius = densities['HI'].shape[0]/2\n",
    "halo_center = [radius, radius, radius]\n",
    "f_esc, per_freq, dens_len_dict_1e7 = calculate_source_esc(densities=densities, source_pos=pos[1], cross_sections=sigma_cm2, \n",
    "                             luminosity=lum[0], spectrum=spectra[0], \n",
    "                             cell_size=cell_size_cm, halo_radius=radius, halo_center=halo_center,\n",
    "                            ray_number=1000, threshold=0.01)\n",
    "print(f_esc)\n",
    "print(per_freq)"
   ]
  },
  {
   "cell_type": "code",
   "execution_count": null,
   "metadata": {},
   "outputs": [],
   "source": [
    "# Test 6: First test with actual density field\n",
    "np.random.seed(42)\n",
    "random.seed(42)\n",
    "lum, pos, spectra, sigma_cm2 = get_halo_sources(1029, 8, 'single_source_1e8')\n",
    "cell_size_cm, densities =  get_density_maps(1029, 8, 'single_source_1e8')\n",
    "radius = densities['HI'].shape[0]/2\n",
    "halo_center = [radius, radius, radius]\n",
    "f_esc, per_freq, dens_len_dict_1e8 = calculate_source_esc(densities=densities, source_pos=pos[0], cross_sections=sigma_cm2, \n",
    "                             luminosity=lum[0], spectrum=spectra[0], \n",
    "                             cell_size=cell_size_cm, halo_radius=radius, halo_center=halo_center,\n",
    "                            ray_number=1000, threshold=0.01)\n",
    "print(f_esc)\n",
    "print(per_freq)"
   ]
  },
  {
   "cell_type": "code",
   "execution_count": null,
   "metadata": {},
   "outputs": [],
   "source": [
    "tick_label_size=30\n",
    "labelsize=50\n",
    "x_label = r'$\\log \\left( \\sum_i \\frac{l_i}{l_\\mathrm{cell}} \\rho_i \\right)$'\n",
    "y_label = 'counts'\n",
    "values_1e5 = np.log10(dens_len_dict_1e5['HI'])\n",
    "values_1e6 = np.log10(dens_len_dict_1e6['HI'])\n",
    "values_1e7 = np.log10(dens_len_dict_1e7['HI'])\n",
    "values_1e8 = np.log10(dens_len_dict_1e8['HI'])\n",
    "data = np.zeros((len(values_1e5), 4))\n",
    "data[:,0] = values_1e5\n",
    "data[:,1] = values_1e6\n",
    "data[:,2] = values_1e7\n",
    "data[:,3] = values_1e8\n",
    "labels = ['$10^5$', '$10^6$', '$10^7$', '$10^8$']\n",
    "bins = np.linspace(data.min(),data.max(), 10)\n",
    "plt.hist(data, bins=bins, width = 0.12, label=labels)\n",
    "plt.rcParams[\"figure.figsize\"] = (20,10)\n",
    "plt.rc('xtick', labelsize=tick_label_size) \n",
    "plt.rc('ytick', labelsize=tick_label_size) \n",
    "plt.legend(fontsize=30)\n",
    "plt.xlabel(x_label, fontsize=labelsize)\n",
    "plt.ylabel(y_label, fontsize=labelsize);"
   ]
  },
  {
   "cell_type": "code",
   "execution_count": 27,
   "metadata": {},
   "outputs": [],
   "source": [
    "def get_density_maps_mod(halo_id, redshift, conf, ic_num='00'):\n",
    "    path_out = get_simulation_path(halo_id=halo_id, redshift=redshift, conf=conf)\n",
    "    sim = get_sim(halo_id, redshift, conf)\n",
    "    ic = sim.ICs[ic_num]\n",
    "    \n",
    "    halo = crashMemMap(path_out, 'all')\n",
    "    density_maps = {}\n",
    "    \n",
    "    HI_map = get_H_map(halo)\n",
    "    HeI_map = get_He_map(halo)\n",
    "    HeII_map = np.zeros_like(halo[2])+halo[2]\n",
    "    \n",
    "#     HI_map[HI_map<1e-2] = 0.\n",
    "#     HeI_map[HeI_map<1e-2] = 0.\n",
    "#     HeII_map[HeII_map<1e-2] = 0.\n",
    "    \n",
    "    density_maps['HI'] = HI_map*ic.getHDensity()\n",
    "    density_maps['HeI'] = HeI_map*ic.getHeDensity()\n",
    "    density_maps['HeII'] = HeII_map*ic.getHeDensity()\n",
    "    \n",
    "    cell_size_cm = get_cell_size_cm(ic)\n",
    "    return cell_size_cm, density_maps"
   ]
  },
  {
   "cell_type": "code",
   "execution_count": 28,
   "metadata": {},
   "outputs": [],
   "source": [
    "def stroemgren_rad_from_ion(boxsize, ionfrac):\n",
    "    return (3*(boxsize)**3*ionfrac/(4*np.pi))**(1/3)"
   ]
  },
  {
   "cell_type": "code",
   "execution_count": 29,
   "metadata": {},
   "outputs": [],
   "source": [
    "def stroemgren_rad(density, temperature, luminosity):\n",
    "    beta =2.6e-13\n",
    "    radius = (3/(4*np.pi)*luminosity/(density**2*beta))**(1/3)\n",
    "    return radius"
   ]
  },
  {
   "cell_type": "code",
   "execution_count": 30,
   "metadata": {},
   "outputs": [],
   "source": [
    "from mpl_toolkits.axes_grid1 import make_axes_locatable"
   ]
  },
  {
   "cell_type": "code",
   "execution_count": null,
   "metadata": {},
   "outputs": [],
   "source": [
    "f, ax = plt.subplots(1, 1)\n",
    "ax.imshow(dens[:, :, 30], extent=[0, 101, 0, 101])\n",
    "x = np.arange(5,41)\n",
    "ax.plot(x, 95-x, '--', linewidth=4, color='green', label='line 1: dens=0.007133')\n",
    "x_new = np.arange(1,5)\n",
    "ax.plot(x_new+59, x_new*20, '--', linewidth=4, color='white',  label='line 2: dens=0.0277, 0.01833')\n",
    "ax.scatter(61.55, 50, color='white')\n",
    "plt.legend(fontsize=25)\n",
    "divider = make_axes_locatable(ax)\n",
    "cax = divider.append_axes(\"right\", size=\"5%\", pad=0.1)\n",
    "cbar = f.colorbar(subfig, orientation='vertical',cax=cax)\n",
    "cbar.ax.tick_params(labelsize=25);"
   ]
  },
  {
   "cell_type": "markdown",
   "metadata": {},
   "source": [
    "Line 1: Origin (45, 55, 30)  End (5, 90, 30) l=53.1507 <br>\n",
    "Line 2: Origin (60, 20, 30)  End (63, 80, 30) Crossing (61.55, 51, 30)"
   ]
  },
  {
   "cell_type": "code",
   "execution_count": null,
   "metadata": {},
   "outputs": [],
   "source": [
    "import numba"
   ]
  },
  {
   "cell_type": "code",
   "execution_count": null,
   "metadata": {},
   "outputs": [],
   "source": [
    "# Test 3: per_freq=[0.05, 0.0024, 0.001] f_esc=0.015285714285714288\n",
    "cell_size = 1\n",
    "sigma = 1\n",
    "dens = -np.log(0.1)/50*np.ones((101,101,101))\n",
    "dens[50:, :, :] = 1\n",
    "r_halo = 50\n",
    "luminosity = 1\n",
    "source_pos = [50.5,50.5,50.5]\n",
    "halo_center = [50.5,50.5,50.5]\n",
    "spectrum = np.array([1, 0.5, 2])\n",
    "cross_section = np.array([1, 2, 3])\n",
    "f_esc, per_freq = calculate_source_esc(densities=dens, source_pos=source_pos, cross_sections=cross_section, \n",
    "                             luminosity=luminosity, spectrum=spectrum, \n",
    "                             cell_size=1, halo_radius=r_halo, halo_center=halo_center,\n",
    "                             ray_number=100, threshold=0.0001)\n",
    "print(f_esc)\n",
    "print(per_freq)"
   ]
  },
  {
   "cell_type": "markdown",
   "metadata": {},
   "source": [
    "# Working at healpix maps"
   ]
  },
  {
   "cell_type": "code",
   "execution_count": 35,
   "metadata": {},
   "outputs": [],
   "source": [
    "def center_point(dens_map):\n",
    "    return np.array(dens_map.shape)/2"
   ]
  },
  {
   "cell_type": "code",
   "execution_count": 36,
   "metadata": {},
   "outputs": [],
   "source": [
    "def average_dens(phi, theta, densities, cell_size):\n",
    "    halo_center = np.array(center_point(densities['HI']))\n",
    "    radius =  densities['HI'].shape[0]/2\n",
    "    sphere = Sphere(halo_center, radius)\n",
    "    direct = direction(phi, theta)\n",
    "    average_dens_dict = {}\n",
    "    cross_sections = {}\n",
    "    for key in densities.keys():\n",
    "        cross_sections[key] = np.ones(2)\n",
    "    \n",
    "    line = Line(halo_center, direct)\n",
    "    sphere_point = get_direct_point_on_sphere(sphere, direct, line, halo_center)\n",
    "    crossing_points = get_crossing_points(source_coordinates=halo_center, \n",
    "                                          sphere_point=sphere_point, line=line)\n",
    "    sorted_crossing_points = sort_crossing_points(source_coordinates=halo_center, \n",
    "                                                  crossing_points=crossing_points)\n",
    "    coord_lengths = cell_coordinates_with_legths(source_coordinates=halo_center, \n",
    "                                                sphere_point=sphere_point, \n",
    "                                                sorted_crossing_points=sorted_crossing_points)\n",
    "    optical_depths, dens_len_dict = get_optical_depth(densities=densities, \n",
    "                                       coordinate_lengths=coord_lengths, \n",
    "                                       cross_sections=cross_sections, \n",
    "                                       cell_size=cell_size)\n",
    "\n",
    "    for key in dens_len_dict.keys():\n",
    "        averaged_dens = np.sum(dens_len_dict[key])/radius\n",
    "        average_dens_dict[key] = averaged_dens\n",
    "    #print(average_dens_dict['HI'])\n",
    "    return average_dens_dict['HI']"
   ]
  },
  {
   "cell_type": "code",
   "execution_count": 37,
   "metadata": {},
   "outputs": [],
   "source": [
    "def direction(phi, theta):\n",
    "    x = np.sin(phi)*np.cos(theta)\n",
    "    y = np.sin(phi)*np.sin(theta)\n",
    "    z = np.cos(phi)\n",
    "    return np.array([x,y,z])"
   ]
  },
  {
   "cell_type": "code",
   "execution_count": 38,
   "metadata": {},
   "outputs": [],
   "source": [
    "def get_direct_point_on_sphere(sphere, direct, line, center):\n",
    "    s_1, s_2 = sphere.intersect_line(line)\n",
    "    if np.all((np.array(s_1) >= center) == (direct >= 0)):\n",
    "        sphere_point = s_1\n",
    "    else:\n",
    "        sphere_point = s_2\n",
    "    return sphere_point"
   ]
  },
  {
   "cell_type": "code",
   "execution_count": 39,
   "metadata": {},
   "outputs": [],
   "source": [
    "def density_map(phi_arr, theta_arr, densities, cell_size, save=False, name=None, path='/u/ivkos/analysis/plots/maps'):\n",
    "    density_map = []\n",
    "    for phi in phi_arr:\n",
    "        sub_dens = []\n",
    "        for theta in theta_arr:\n",
    "            sub_dens.append(average_dens(phi, theta, densities, cell_size))\n",
    "        #print(sub_dens)\n",
    "        density_map.append(sub_dens)\n",
    "    if save:\n",
    "        save_path = os.path.join(path, name+'_' + str(len(phi_arr)))\n",
    "        np.save(save_path, np.array(density_map))\n",
    "    return density_map"
   ]
  },
  {
   "cell_type": "code",
   "execution_count": 40,
   "metadata": {},
   "outputs": [],
   "source": [
    "def los_esc(phi, theta, densities, cell_size, cross_sections, source_pos, spectrum):\n",
    "    halo_center = np.array(center_point(densities['HI']))\n",
    "    radius =  densities['HI'].shape[0]/2\n",
    "    sphere = Sphere(halo_center, radius)\n",
    "    direct = direction(phi, theta)\n",
    "    \n",
    "    line = Line(halo_center, direct)\n",
    "    sphere_point = get_direct_point_on_sphere(sphere, direct, line, halo_center)\n",
    "    line_source_sphere = line.from_points(source_pos, sphere_point)\n",
    "    crossing_points = get_crossing_points(source_coordinates=source_pos, \n",
    "                                          sphere_point=sphere_point, line=line_source_sphere)\n",
    "    sorted_crossing_points = sort_crossing_points(source_coordinates=source_pos, \n",
    "                                                  crossing_points=crossing_points)\n",
    "    coord_lengths = cell_coordinates_with_legths(source_coordinates=source_pos, \n",
    "                                                sphere_point=sphere_point, \n",
    "                                                sorted_crossing_points=sorted_crossing_points)\n",
    "    optical_depths, dens_len_dict = get_optical_depth(densities=densities, \n",
    "                                       coordinate_lengths=coord_lengths, \n",
    "                                       cross_sections=cross_sections, \n",
    "                                       cell_size=cell_size)\n",
    "    escape_frac = np.sum(np.exp(-1*optical_depths)*spectrum)/np.sum(spectrum)\n",
    "    return escape_frac"
   ]
  },
  {
   "cell_type": "code",
   "execution_count": 41,
   "metadata": {},
   "outputs": [],
   "source": [
    "def calculate_source_esc_map(densities, source_pos, cross_sections,\n",
    "                        cell_size, phi_arr, theta_arr, spectrum):\n",
    "    escape_map = []\n",
    "    for phi in phi_arr:\n",
    "        sub_esc = []\n",
    "        for theta in theta_arr:\n",
    "            esc = los_esc(phi, theta, densities, cell_size, cross_sections, source_pos, spectrum)\n",
    "            sub_esc.append(esc)\n",
    "        escape_map.append(sub_esc)\n",
    "    #save_path = os.path.join(path, name+'_' + str(len(phi_arr)))\n",
    "    #np.save(save_path, np.array(density_map))\n",
    "    return escape_map"
   ]
  },
  {
   "cell_type": "code",
   "execution_count": 42,
   "metadata": {},
   "outputs": [],
   "source": [
    "def calculate_full_esc_map(densities, sources, cross_sections, cell_size, phi_arr, theta_arr, \n",
    "                           spectra, luminosities, save=False, name=None, path='/u/ivkos/analysis/plots/maps'):\n",
    "    \n",
    "    map_sum = np.zeros([len(phi_arr), len(theta_arr)])\n",
    "    for i, pos in enumerate(sources):\n",
    "        new_map = calculate_source_esc_map(densities, pos, cross_sections, cell_size, phi_arr, theta_arr, spectra[i])\n",
    "        map_sum += np.array(new_map)*luminosities[i]\n",
    "    escape_map = map_sum/np.sum(luminosities)\n",
    "    if save:\n",
    "        save_path = os.path.join(path, name+'_' + 'esc_' + str(len(phi_arr)))\n",
    "        np.save(save_path, escape_map)\n",
    "    return escape_map"
   ]
  },
  {
   "cell_type": "code",
   "execution_count": 48,
   "metadata": {},
   "outputs": [],
   "source": [
    "halo_num = 1544#2989"
   ]
  },
  {
   "cell_type": "code",
   "execution_count": 49,
   "metadata": {},
   "outputs": [],
   "source": [
    "path_out = get_simulation_path(halo_id=halo_num, redshift=8, conf='new_main')\n",
    "sim = get_sim(halo_id=halo_num, redshift=8, conf='new_main')\n",
    "ic = sim.ICs['00']\n",
    "halo = crashMemMap(path_out, 'all')\n",
    "density_maps = {}\n",
    "density_maps['HI'] = get_H_map(halo)\n",
    "density_maps['HeI'] = get_He_map(halo)\n",
    "density_maps['HeII'] = halo[2]"
   ]
  },
  {
   "cell_type": "code",
   "execution_count": 50,
   "metadata": {},
   "outputs": [],
   "source": [
    "size, dens = get_density_maps_mod(halo_id=halo_num, redshift=8, conf='new_main', ic_num='00')"
   ]
  },
  {
   "cell_type": "code",
   "execution_count": 51,
   "metadata": {},
   "outputs": [],
   "source": [
    "lum, pos, spectra, sigma_cm2 = get_halo_sources(halo_id=halo_num, redshift=8, conf='new_main')"
   ]
  },
  {
   "cell_type": "code",
   "execution_count": 53,
   "metadata": {},
   "outputs": [],
   "source": [
    "theta = np.linspace(0, 2*np.pi, 360)\n",
    "phi = np.linspace(0, np.pi, 180)\n",
    "\n",
    "#avg_densities = density_map(phi, theta, densities=dens, cell_size=size, save=True, name=f'{halo_num}')"
   ]
  },
  {
   "cell_type": "code",
   "execution_count": 56,
   "metadata": {},
   "outputs": [],
   "source": [
    "low_esc_dens = np.load('/u/ivkos/analysis/plots/maps/1544_180.npy')\n",
    "low_esc_esc = np.load('/u/ivkos/analysis/plots/maps/1544_test_esc_180.npy')\n",
    "low_esc_ion = np.load('/u/ivkos/analysis/plots/maps/1544_test_ion.npy')\n",
    "\n",
    "high_esc_dens = np.load('/u/ivkos/analysis/plots/maps/2989_test_180.npy')\n",
    "high_esc_esc = np.load('/u/ivkos/analysis/plots/maps/2989_test_esc_180.npy')\n",
    "high_esc_ion = np.load('/u/ivkos/analysis/plots/maps/2989_ion_180.npy')"
   ]
  },
  {
   "cell_type": "code",
   "execution_count": 57,
   "metadata": {},
   "outputs": [],
   "source": [
    "import matplotlib.ticker as ticker"
   ]
  },
  {
   "cell_type": "code",
   "execution_count": 58,
   "metadata": {},
   "outputs": [],
   "source": [
    "base = '/u/ivkos/analysis/plots'"
   ]
  },
  {
   "cell_type": "code",
   "execution_count": 70,
   "metadata": {},
   "outputs": [
    {
     "data": {
      "image/png": "[encoded data removed]",
      "text/plain": [
       "<Figure size 2160x1080 with 2 Axes>"
      ]
     },
     "metadata": {
      "needs_background": "light"
     },
     "output_type": "display_data"
    }
   ],
   "source": [
    "fig = plt.figure()\n",
    "ax = fig.add_subplot(111, projection='mollweide')\n",
    "Lon,Lat = np.meshgrid(theta, phi)\n",
    "im = ax.pcolormesh(Lon - np.pi ,Lat - np.pi/2, np.log(low_esc_esc), cmap=plt.get_cmap('inferno'), vmin = -5.0, vmax= 0.0)\n",
    "#cax = divider.append_axes(\"right\", size=\"5%\", pad=0.1)\n",
    "cbar = plt.colorbar(im, orientation='horizontal', shrink=0.7)#,cax=cax)\n",
    "cbar.set_label(r'log($\\langle x\\mathrm{HI} \\rangle$)', size=80)\n",
    "#cbar.ax.tick_params(labelsize=10)\n",
    "plt.rcParams[\"figure.figsize\"] = (30, 15)\n",
    "\n",
    "ax.xaxis.set_major_locator(ticker.NullLocator())\n",
    "ax.yaxis.set_major_locator(ticker.NullLocator())\n",
    "#plt.title('Average HI density', size=50)\n",
    "plt.rcParams['axes.titlepad'] = 45\n",
    "cbar.ax.tick_params(labelsize=55)\n",
    "savepath = os.path.join(base, 'low_esc_esc.png')\n",
    "plt.savefig(savepath, bbox_inches='tight')\n",
    "plt.show()"
   ]
  },
  {
   "cell_type": "code",
   "execution_count": 73,
   "metadata": {},
   "outputs": [
    {
     "data": {
      "image/png": "[encoded data removed]",
      "text/plain": [
       "<Figure size 2160x1080 with 2 Axes>"
      ]
     },
     "metadata": {
      "needs_background": "light"
     },
     "output_type": "display_data"
    }
   ],
   "source": [
    "fig = plt.figure()\n",
    "ax = fig.add_subplot(111, projection='mollweide')\n",
    "Lon,Lat = np.meshgrid(theta, phi)\n",
    "im = ax.pcolormesh(Lon - np.pi ,Lat - np.pi/2, low_esc_esc, cmap=plt.get_cmap('inferno'), vmin = 0, vmax= 1.0)\n",
    "#cax = divider.append_axes(\"right\", size=\"5%\", pad=0.1)\n",
    "cbar = plt.colorbar(im, orientation='horizontal', shrink=0.7)#,cax=cax)\n",
    "cbar.set_label(r'$f_\\mathrm{esc}$', size=80)\n",
    "#cbar.ax.tick_params(labelsize=10)\n",
    "plt.rcParams[\"figure.figsize\"] = (30, 15)\n",
    "\n",
    "ax.xaxis.set_major_locator(ticker.NullLocator())\n",
    "ax.yaxis.set_major_locator(ticker.NullLocator())\n",
    "#plt.title('Average HI density', size=50)\n",
    "plt.rcParams['axes.titlepad'] = 45\n",
    "cbar.ax.tick_params(labelsize=55)\n",
    "savepath = os.path.join(base, 'low_esc_esc.png')\n",
    "plt.savefig(savepath, bbox_inches='tight')\n",
    "plt.show()"
   ]
  }
 ],
 "metadata": {
  "kernelspec": {
   "display_name": "envcrash",
   "language": "python",
   "name": "envcrash"
  },
  "language_info": {
   "codemirror_mode": {
    "name": "ipython",
    "version": 3
   },
   "file_extension": ".py",
   "mimetype": "text/x-python",
   "name": "python",
   "nbconvert_exporter": "python",
   "pygments_lexer": "ipython3",
   "version": "3.8.2"
  }
 },
 "nbformat": 4,
 "nbformat_minor": 4
}
