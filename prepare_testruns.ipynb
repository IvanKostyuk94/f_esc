{
 "cells": [
  {
   "cell_type": "code",
   "execution_count": 1,
   "metadata": {},
   "outputs": [
    {
     "data": {
      "text/html": [
       "<style>.container { width:75% !important; }</style>"
      ],
      "text/plain": [
       "<IPython.core.display.HTML object>"
      ]
     },
     "metadata": {},
     "output_type": "display_data"
    }
   ],
   "source": [
    "import matplotlib.pyplot as plt\n",
    "import importlib.util\n",
    "import pandas as pd\n",
    "import numpy as np\n",
    "\n",
    "import random\n",
    "import os\n",
    "\n",
    "import warnings\n",
    "warnings.filterwarnings('ignore')\n",
    "\n",
    "from IPython.core.interactiveshell import InteractiveShell\n",
    "\n",
    "# pretty print all cell's output and not just the last one\n",
    "InteractiveShell.ast_node_interactivity = \"all\"\n",
    "\n",
    "from IPython.core.display import display, HTML\n",
    "display(HTML(\"<style>.container { width:75% !important; }</style>\"))"
   ]
  },
  {
   "cell_type": "code",
   "execution_count": 2,
   "metadata": {},
   "outputs": [],
   "source": [
    "def redshift_to_snap(redshift):\n",
    "    correspondense = {6:'sn013', 8:'sn008', 10:'sn004'}\n",
    "    return correspondense[redshift]"
   ]
  },
  {
   "cell_type": "code",
   "execution_count": 3,
   "metadata": {},
   "outputs": [],
   "source": [
    "def get_paths(ID, snap, setting):\n",
    "    base_path = '/ptmp/mpa/mglatzle/TNG_f_esc'\n",
    "    input_path = f'input/L35n2160TNG/{snap}'\n",
    "    \n",
    "    fid_path = os.path.join(base_path, 'full_esc')\n",
    "    numerical_path = os.path.join(base_path, setting)\n",
    "    \n",
    "    origin_path = os.path.join(fid_path, input_path)\n",
    "    from_path = os.path.join(origin_path, f'g{ID}')\n",
    "    \n",
    "    to_path = os.path.join(numerical_path, input_path)\n",
    "    return from_path, to_path"
   ]
  },
  {
   "cell_type": "code",
   "execution_count": 39,
   "metadata": {},
   "outputs": [],
   "source": [
    "def copy_halos(df, setting='new_numerical_1e6', halos_per_bin=1):\n",
    "    edges = 10**np.linspace(6.0 ,11., 51)\n",
    "    halos_used = {6:[],8:[],10:[]}\n",
    "    for i in range(len(edges)-1):\n",
    "        sub_IDs = df[(edges[i]<df['StarMass']) & (df['StarMass']<edges[i+1])][['ID', 'z']]\n",
    "        sub_IDs.reset_index(inplace=True)\n",
    "        if len(sub_IDs)>0:\n",
    "            if len(sub_IDs)>halos_per_bin:\n",
    "                indices = random.sample(list(np.arange(0,len(sub_IDs))), halos_per_bin)\n",
    "            else:\n",
    "                indices = list(np.arange(len(sub_IDs)))\n",
    "            for index in indices:\n",
    "                ID = sub_IDs.iloc[index]['ID']\n",
    "                z = sub_IDs.iloc[index]['z']\n",
    "                halos_used[z].append(ID)\n",
    "                snap = redshift_to_snap(z)\n",
    "                from_path, to_path = get_paths(ID, snap, setting)\n",
    "                os.system(f'cp -lr {from_path} {to_path}')\n",
    "                print(f'Copied {from_path} to {to_path}')\n",
    "    for key in halos_used:\n",
    "        base_path = '/ptmp/mpa/mglatzle/TNG_f_esc'\n",
    "        to_path = os.path.join(base_path, setting, 'input', 'L35n2160TNG', redshift_to_snap(key))\n",
    "        selected_halos_path = os.path.join(to_path, 'selected_halos') \n",
    "        np.save(selected_halos_path, halos_used[key])\n",
    "    return"
   ]
  },
  {
   "cell_type": "code",
   "execution_count": 17,
   "metadata": {},
   "outputs": [],
   "source": [
    "def update_df(df, h=0.6774):\n",
    "    mult=1e10/h\n",
    "    df['StarMass']= df['HaloMass']*df['FractionStars']*mult\n",
    "    return"
   ]
  },
  {
   "cell_type": "code",
   "execution_count": 18,
   "metadata": {},
   "outputs": [],
   "source": [
    "df=pd.read_pickle('dfs/fid2.pickle')\n",
    "update_df(df)"
   ]
  },
  {
   "cell_type": "code",
   "execution_count": 21,
   "metadata": {},
   "outputs": [
    {
     "data": {
      "text/plain": [
       "1.94186063723681"
      ]
     },
     "execution_count": 21,
     "metadata": {},
     "output_type": "execute_result"
    },
    {
     "data": {
      "text/plain": [
       "1.0001171083107883"
      ]
     },
     "execution_count": 21,
     "metadata": {},
     "output_type": "execute_result"
    }
   ],
   "source": [
    "df.StarMass.max()/1e9\n",
    "df.StarMass.min()/1e6"
   ]
  },
  {
   "cell_type": "code",
   "execution_count": 42,
   "metadata": {},
   "outputs": [
    {
     "name": "stdout",
     "output_type": "stream",
     "text": [
      "Copied /ptmp/mpa/mglatzle/TNG_f_esc/full_esc/input/L35n2160TNG/sn013/g40553 to /ptmp/mpa/mglatzle/TNG_f_esc/new_numerical_5e6/input/L35n2160TNG/sn013\n",
      "Copied /ptmp/mpa/mglatzle/TNG_f_esc/full_esc/input/L35n2160TNG/sn008/g17656 to /ptmp/mpa/mglatzle/TNG_f_esc/new_numerical_5e6/input/L35n2160TNG/sn008\n",
      "Copied /ptmp/mpa/mglatzle/TNG_f_esc/full_esc/input/L35n2160TNG/sn004/g7348 to /ptmp/mpa/mglatzle/TNG_f_esc/new_numerical_5e6/input/L35n2160TNG/sn004\n",
      "Copied /ptmp/mpa/mglatzle/TNG_f_esc/full_esc/input/L35n2160TNG/sn013/g24258 to /ptmp/mpa/mglatzle/TNG_f_esc/new_numerical_5e6/input/L35n2160TNG/sn013\n",
      "Copied /ptmp/mpa/mglatzle/TNG_f_esc/full_esc/input/L35n2160TNG/sn013/g20088 to /ptmp/mpa/mglatzle/TNG_f_esc/new_numerical_5e6/input/L35n2160TNG/sn013\n",
      "Copied /ptmp/mpa/mglatzle/TNG_f_esc/full_esc/input/L35n2160TNG/sn013/g41526 to /ptmp/mpa/mglatzle/TNG_f_esc/new_numerical_5e6/input/L35n2160TNG/sn013\n",
      "Copied /ptmp/mpa/mglatzle/TNG_f_esc/full_esc/input/L35n2160TNG/sn013/g62846 to /ptmp/mpa/mglatzle/TNG_f_esc/new_numerical_5e6/input/L35n2160TNG/sn013\n",
      "Copied /ptmp/mpa/mglatzle/TNG_f_esc/full_esc/input/L35n2160TNG/sn004/g6053 to /ptmp/mpa/mglatzle/TNG_f_esc/new_numerical_5e6/input/L35n2160TNG/sn004\n",
      "Copied /ptmp/mpa/mglatzle/TNG_f_esc/full_esc/input/L35n2160TNG/sn008/g12909 to /ptmp/mpa/mglatzle/TNG_f_esc/new_numerical_5e6/input/L35n2160TNG/sn008\n",
      "Copied /ptmp/mpa/mglatzle/TNG_f_esc/full_esc/input/L35n2160TNG/sn013/g61869 to /ptmp/mpa/mglatzle/TNG_f_esc/new_numerical_5e6/input/L35n2160TNG/sn013\n",
      "Copied /ptmp/mpa/mglatzle/TNG_f_esc/full_esc/input/L35n2160TNG/sn013/g34017 to /ptmp/mpa/mglatzle/TNG_f_esc/new_numerical_5e6/input/L35n2160TNG/sn013\n",
      "Copied /ptmp/mpa/mglatzle/TNG_f_esc/full_esc/input/L35n2160TNG/sn013/g20915 to /ptmp/mpa/mglatzle/TNG_f_esc/new_numerical_5e6/input/L35n2160TNG/sn013\n",
      "Copied /ptmp/mpa/mglatzle/TNG_f_esc/full_esc/input/L35n2160TNG/sn013/g33619 to /ptmp/mpa/mglatzle/TNG_f_esc/new_numerical_5e6/input/L35n2160TNG/sn013\n",
      "Copied /ptmp/mpa/mglatzle/TNG_f_esc/full_esc/input/L35n2160TNG/sn004/g3995 to /ptmp/mpa/mglatzle/TNG_f_esc/new_numerical_5e6/input/L35n2160TNG/sn004\n",
      "Copied /ptmp/mpa/mglatzle/TNG_f_esc/full_esc/input/L35n2160TNG/sn008/g16090 to /ptmp/mpa/mglatzle/TNG_f_esc/new_numerical_5e6/input/L35n2160TNG/sn008\n",
      "Copied /ptmp/mpa/mglatzle/TNG_f_esc/full_esc/input/L35n2160TNG/sn004/g3854 to /ptmp/mpa/mglatzle/TNG_f_esc/new_numerical_5e6/input/L35n2160TNG/sn004\n",
      "Copied /ptmp/mpa/mglatzle/TNG_f_esc/full_esc/input/L35n2160TNG/sn004/g2302 to /ptmp/mpa/mglatzle/TNG_f_esc/new_numerical_5e6/input/L35n2160TNG/sn004\n",
      "Copied /ptmp/mpa/mglatzle/TNG_f_esc/full_esc/input/L35n2160TNG/sn013/g21424 to /ptmp/mpa/mglatzle/TNG_f_esc/new_numerical_5e6/input/L35n2160TNG/sn013\n",
      "Copied /ptmp/mpa/mglatzle/TNG_f_esc/full_esc/input/L35n2160TNG/sn004/g4276 to /ptmp/mpa/mglatzle/TNG_f_esc/new_numerical_5e6/input/L35n2160TNG/sn004\n",
      "Copied /ptmp/mpa/mglatzle/TNG_f_esc/full_esc/input/L35n2160TNG/sn013/g22258 to /ptmp/mpa/mglatzle/TNG_f_esc/new_numerical_5e6/input/L35n2160TNG/sn013\n",
      "Copied /ptmp/mpa/mglatzle/TNG_f_esc/full_esc/input/L35n2160TNG/sn008/g10638 to /ptmp/mpa/mglatzle/TNG_f_esc/new_numerical_5e6/input/L35n2160TNG/sn008\n",
      "Copied /ptmp/mpa/mglatzle/TNG_f_esc/full_esc/input/L35n2160TNG/sn013/g17206 to /ptmp/mpa/mglatzle/TNG_f_esc/new_numerical_5e6/input/L35n2160TNG/sn013\n",
      "Copied /ptmp/mpa/mglatzle/TNG_f_esc/full_esc/input/L35n2160TNG/sn008/g3837 to /ptmp/mpa/mglatzle/TNG_f_esc/new_numerical_5e6/input/L35n2160TNG/sn008\n",
      "Copied /ptmp/mpa/mglatzle/TNG_f_esc/full_esc/input/L35n2160TNG/sn008/g4994 to /ptmp/mpa/mglatzle/TNG_f_esc/new_numerical_5e6/input/L35n2160TNG/sn008\n",
      "Copied /ptmp/mpa/mglatzle/TNG_f_esc/full_esc/input/L35n2160TNG/sn004/g2184 to /ptmp/mpa/mglatzle/TNG_f_esc/new_numerical_5e6/input/L35n2160TNG/sn004\n",
      "Copied /ptmp/mpa/mglatzle/TNG_f_esc/full_esc/input/L35n2160TNG/sn008/g5970 to /ptmp/mpa/mglatzle/TNG_f_esc/new_numerical_5e6/input/L35n2160TNG/sn008\n",
      "Copied /ptmp/mpa/mglatzle/TNG_f_esc/full_esc/input/L35n2160TNG/sn008/g4679 to /ptmp/mpa/mglatzle/TNG_f_esc/new_numerical_5e6/input/L35n2160TNG/sn008\n",
      "Copied /ptmp/mpa/mglatzle/TNG_f_esc/full_esc/input/L35n2160TNG/sn008/g7984 to /ptmp/mpa/mglatzle/TNG_f_esc/new_numerical_5e6/input/L35n2160TNG/sn008\n",
      "Copied /ptmp/mpa/mglatzle/TNG_f_esc/full_esc/input/L35n2160TNG/sn004/g2048 to /ptmp/mpa/mglatzle/TNG_f_esc/new_numerical_5e6/input/L35n2160TNG/sn004\n",
      "Copied /ptmp/mpa/mglatzle/TNG_f_esc/full_esc/input/L35n2160TNG/sn004/g1415 to /ptmp/mpa/mglatzle/TNG_f_esc/new_numerical_5e6/input/L35n2160TNG/sn004\n",
      "Copied /ptmp/mpa/mglatzle/TNG_f_esc/full_esc/input/L35n2160TNG/sn008/g2226 to /ptmp/mpa/mglatzle/TNG_f_esc/new_numerical_5e6/input/L35n2160TNG/sn008\n",
      "Copied /ptmp/mpa/mglatzle/TNG_f_esc/full_esc/input/L35n2160TNG/sn008/g5604 to /ptmp/mpa/mglatzle/TNG_f_esc/new_numerical_5e6/input/L35n2160TNG/sn008\n",
      "Copied /ptmp/mpa/mglatzle/TNG_f_esc/full_esc/input/L35n2160TNG/sn013/g19512 to /ptmp/mpa/mglatzle/TNG_f_esc/new_numerical_5e6/input/L35n2160TNG/sn013\n",
      "Copied /ptmp/mpa/mglatzle/TNG_f_esc/full_esc/input/L35n2160TNG/sn013/g20279 to /ptmp/mpa/mglatzle/TNG_f_esc/new_numerical_5e6/input/L35n2160TNG/sn013\n",
      "Copied /ptmp/mpa/mglatzle/TNG_f_esc/full_esc/input/L35n2160TNG/sn004/g825 to /ptmp/mpa/mglatzle/TNG_f_esc/new_numerical_5e6/input/L35n2160TNG/sn004\n",
      "Copied /ptmp/mpa/mglatzle/TNG_f_esc/full_esc/input/L35n2160TNG/sn013/g4238 to /ptmp/mpa/mglatzle/TNG_f_esc/new_numerical_5e6/input/L35n2160TNG/sn013\n",
      "Copied /ptmp/mpa/mglatzle/TNG_f_esc/full_esc/input/L35n2160TNG/sn008/g3203 to /ptmp/mpa/mglatzle/TNG_f_esc/new_numerical_5e6/input/L35n2160TNG/sn008\n",
      "Copied /ptmp/mpa/mglatzle/TNG_f_esc/full_esc/input/L35n2160TNG/sn004/g611 to /ptmp/mpa/mglatzle/TNG_f_esc/new_numerical_5e6/input/L35n2160TNG/sn004\n",
      "Copied /ptmp/mpa/mglatzle/TNG_f_esc/full_esc/input/L35n2160TNG/sn008/g2149 to /ptmp/mpa/mglatzle/TNG_f_esc/new_numerical_5e6/input/L35n2160TNG/sn008\n",
      "Copied /ptmp/mpa/mglatzle/TNG_f_esc/full_esc/input/L35n2160TNG/sn008/g2268 to /ptmp/mpa/mglatzle/TNG_f_esc/new_numerical_5e6/input/L35n2160TNG/sn008\n",
      "Copied /ptmp/mpa/mglatzle/TNG_f_esc/full_esc/input/L35n2160TNG/sn013/g25191 to /ptmp/mpa/mglatzle/TNG_f_esc/new_numerical_5e6/input/L35n2160TNG/sn013\n",
      "Copied /ptmp/mpa/mglatzle/TNG_f_esc/full_esc/input/L35n2160TNG/sn004/g872 to /ptmp/mpa/mglatzle/TNG_f_esc/new_numerical_5e6/input/L35n2160TNG/sn004\n",
      "Copied /ptmp/mpa/mglatzle/TNG_f_esc/full_esc/input/L35n2160TNG/sn004/g758 to /ptmp/mpa/mglatzle/TNG_f_esc/new_numerical_5e6/input/L35n2160TNG/sn004\n",
      "Copied /ptmp/mpa/mglatzle/TNG_f_esc/full_esc/input/L35n2160TNG/sn013/g5500 to /ptmp/mpa/mglatzle/TNG_f_esc/new_numerical_5e6/input/L35n2160TNG/sn013\n",
      "Copied /ptmp/mpa/mglatzle/TNG_f_esc/full_esc/input/L35n2160TNG/sn008/g2397 to /ptmp/mpa/mglatzle/TNG_f_esc/new_numerical_5e6/input/L35n2160TNG/sn008\n",
      "Copied /ptmp/mpa/mglatzle/TNG_f_esc/full_esc/input/L35n2160TNG/sn008/g1940 to /ptmp/mpa/mglatzle/TNG_f_esc/new_numerical_5e6/input/L35n2160TNG/sn008\n",
      "Copied /ptmp/mpa/mglatzle/TNG_f_esc/full_esc/input/L35n2160TNG/sn008/g2634 to /ptmp/mpa/mglatzle/TNG_f_esc/new_numerical_5e6/input/L35n2160TNG/sn008\n",
      "Copied /ptmp/mpa/mglatzle/TNG_f_esc/full_esc/input/L35n2160TNG/sn013/g8727 to /ptmp/mpa/mglatzle/TNG_f_esc/new_numerical_5e6/input/L35n2160TNG/sn013\n",
      "Copied /ptmp/mpa/mglatzle/TNG_f_esc/full_esc/input/L35n2160TNG/sn008/g1201 to /ptmp/mpa/mglatzle/TNG_f_esc/new_numerical_5e6/input/L35n2160TNG/sn008\n",
      "Copied /ptmp/mpa/mglatzle/TNG_f_esc/full_esc/input/L35n2160TNG/sn008/g2310 to /ptmp/mpa/mglatzle/TNG_f_esc/new_numerical_5e6/input/L35n2160TNG/sn008\n",
      "Copied /ptmp/mpa/mglatzle/TNG_f_esc/full_esc/input/L35n2160TNG/sn004/g663 to /ptmp/mpa/mglatzle/TNG_f_esc/new_numerical_5e6/input/L35n2160TNG/sn004\n",
      "Copied /ptmp/mpa/mglatzle/TNG_f_esc/full_esc/input/L35n2160TNG/sn004/g361 to /ptmp/mpa/mglatzle/TNG_f_esc/new_numerical_5e6/input/L35n2160TNG/sn004\n",
      "Copied /ptmp/mpa/mglatzle/TNG_f_esc/full_esc/input/L35n2160TNG/sn013/g4690 to /ptmp/mpa/mglatzle/TNG_f_esc/new_numerical_5e6/input/L35n2160TNG/sn013\n",
      "Copied /ptmp/mpa/mglatzle/TNG_f_esc/full_esc/input/L35n2160TNG/sn008/g1997 to /ptmp/mpa/mglatzle/TNG_f_esc/new_numerical_5e6/input/L35n2160TNG/sn008\n",
      "Copied /ptmp/mpa/mglatzle/TNG_f_esc/full_esc/input/L35n2160TNG/sn004/g214 to /ptmp/mpa/mglatzle/TNG_f_esc/new_numerical_5e6/input/L35n2160TNG/sn004\n"
     ]
    },
    {
     "name": "stdout",
     "output_type": "stream",
     "text": [
      "Copied /ptmp/mpa/mglatzle/TNG_f_esc/full_esc/input/L35n2160TNG/sn008/g1029 to /ptmp/mpa/mglatzle/TNG_f_esc/new_numerical_5e6/input/L35n2160TNG/sn008\n",
      "Copied /ptmp/mpa/mglatzle/TNG_f_esc/full_esc/input/L35n2160TNG/sn004/g218 to /ptmp/mpa/mglatzle/TNG_f_esc/new_numerical_5e6/input/L35n2160TNG/sn004\n",
      "Copied /ptmp/mpa/mglatzle/TNG_f_esc/full_esc/input/L35n2160TNG/sn013/g3361 to /ptmp/mpa/mglatzle/TNG_f_esc/new_numerical_5e6/input/L35n2160TNG/sn013\n",
      "Copied /ptmp/mpa/mglatzle/TNG_f_esc/full_esc/input/L35n2160TNG/sn008/g577 to /ptmp/mpa/mglatzle/TNG_f_esc/new_numerical_5e6/input/L35n2160TNG/sn008\n",
      "Copied /ptmp/mpa/mglatzle/TNG_f_esc/full_esc/input/L35n2160TNG/sn013/g5037 to /ptmp/mpa/mglatzle/TNG_f_esc/new_numerical_5e6/input/L35n2160TNG/sn013\n",
      "Copied /ptmp/mpa/mglatzle/TNG_f_esc/full_esc/input/L35n2160TNG/sn013/g3090 to /ptmp/mpa/mglatzle/TNG_f_esc/new_numerical_5e6/input/L35n2160TNG/sn013\n",
      "Copied /ptmp/mpa/mglatzle/TNG_f_esc/full_esc/input/L35n2160TNG/sn008/g1285 to /ptmp/mpa/mglatzle/TNG_f_esc/new_numerical_5e6/input/L35n2160TNG/sn008\n",
      "Copied /ptmp/mpa/mglatzle/TNG_f_esc/full_esc/input/L35n2160TNG/sn008/g919 to /ptmp/mpa/mglatzle/TNG_f_esc/new_numerical_5e6/input/L35n2160TNG/sn008\n",
      "Copied /ptmp/mpa/mglatzle/TNG_f_esc/full_esc/input/L35n2160TNG/sn013/g3919 to /ptmp/mpa/mglatzle/TNG_f_esc/new_numerical_5e6/input/L35n2160TNG/sn013\n",
      "Copied /ptmp/mpa/mglatzle/TNG_f_esc/full_esc/input/L35n2160TNG/sn008/g1218 to /ptmp/mpa/mglatzle/TNG_f_esc/new_numerical_5e6/input/L35n2160TNG/sn008\n",
      "Copied /ptmp/mpa/mglatzle/TNG_f_esc/full_esc/input/L35n2160TNG/sn008/g804 to /ptmp/mpa/mglatzle/TNG_f_esc/new_numerical_5e6/input/L35n2160TNG/sn008\n",
      "Copied /ptmp/mpa/mglatzle/TNG_f_esc/full_esc/input/L35n2160TNG/sn008/g575 to /ptmp/mpa/mglatzle/TNG_f_esc/new_numerical_5e6/input/L35n2160TNG/sn008\n",
      "Copied /ptmp/mpa/mglatzle/TNG_f_esc/full_esc/input/L35n2160TNG/sn008/g693 to /ptmp/mpa/mglatzle/TNG_f_esc/new_numerical_5e6/input/L35n2160TNG/sn008\n",
      "Copied /ptmp/mpa/mglatzle/TNG_f_esc/full_esc/input/L35n2160TNG/sn008/g897 to /ptmp/mpa/mglatzle/TNG_f_esc/new_numerical_5e6/input/L35n2160TNG/sn008\n",
      "Copied /ptmp/mpa/mglatzle/TNG_f_esc/full_esc/input/L35n2160TNG/sn013/g1992 to /ptmp/mpa/mglatzle/TNG_f_esc/new_numerical_5e6/input/L35n2160TNG/sn013\n",
      "Copied /ptmp/mpa/mglatzle/TNG_f_esc/full_esc/input/L35n2160TNG/sn008/g791 to /ptmp/mpa/mglatzle/TNG_f_esc/new_numerical_5e6/input/L35n2160TNG/sn008\n",
      "Copied /ptmp/mpa/mglatzle/TNG_f_esc/full_esc/input/L35n2160TNG/sn013/g1812 to /ptmp/mpa/mglatzle/TNG_f_esc/new_numerical_5e6/input/L35n2160TNG/sn013\n",
      "Copied /ptmp/mpa/mglatzle/TNG_f_esc/full_esc/input/L35n2160TNG/sn013/g2154 to /ptmp/mpa/mglatzle/TNG_f_esc/new_numerical_5e6/input/L35n2160TNG/sn013\n",
      "Copied /ptmp/mpa/mglatzle/TNG_f_esc/full_esc/input/L35n2160TNG/sn008/g663 to /ptmp/mpa/mglatzle/TNG_f_esc/new_numerical_5e6/input/L35n2160TNG/sn008\n",
      "Copied /ptmp/mpa/mglatzle/TNG_f_esc/full_esc/input/L35n2160TNG/sn004/g71 to /ptmp/mpa/mglatzle/TNG_f_esc/new_numerical_5e6/input/L35n2160TNG/sn004\n",
      "Copied /ptmp/mpa/mglatzle/TNG_f_esc/full_esc/input/L35n2160TNG/sn013/g2498 to /ptmp/mpa/mglatzle/TNG_f_esc/new_numerical_5e6/input/L35n2160TNG/sn013\n",
      "Copied /ptmp/mpa/mglatzle/TNG_f_esc/full_esc/input/L35n2160TNG/sn013/g1913 to /ptmp/mpa/mglatzle/TNG_f_esc/new_numerical_5e6/input/L35n2160TNG/sn013\n",
      "Copied /ptmp/mpa/mglatzle/TNG_f_esc/full_esc/input/L35n2160TNG/sn013/g1401 to /ptmp/mpa/mglatzle/TNG_f_esc/new_numerical_5e6/input/L35n2160TNG/sn013\n",
      "Copied /ptmp/mpa/mglatzle/TNG_f_esc/full_esc/input/L35n2160TNG/sn013/g1757 to /ptmp/mpa/mglatzle/TNG_f_esc/new_numerical_5e6/input/L35n2160TNG/sn013\n",
      "Copied /ptmp/mpa/mglatzle/TNG_f_esc/full_esc/input/L35n2160TNG/sn013/g2537 to /ptmp/mpa/mglatzle/TNG_f_esc/new_numerical_5e6/input/L35n2160TNG/sn013\n",
      "Copied /ptmp/mpa/mglatzle/TNG_f_esc/full_esc/input/L35n2160TNG/sn008/g294 to /ptmp/mpa/mglatzle/TNG_f_esc/new_numerical_5e6/input/L35n2160TNG/sn008\n",
      "Copied /ptmp/mpa/mglatzle/TNG_f_esc/full_esc/input/L35n2160TNG/sn008/g386 to /ptmp/mpa/mglatzle/TNG_f_esc/new_numerical_5e6/input/L35n2160TNG/sn008\n",
      "Copied /ptmp/mpa/mglatzle/TNG_f_esc/full_esc/input/L35n2160TNG/sn013/g2251 to /ptmp/mpa/mglatzle/TNG_f_esc/new_numerical_5e6/input/L35n2160TNG/sn013\n",
      "Copied /ptmp/mpa/mglatzle/TNG_f_esc/full_esc/input/L35n2160TNG/sn013/g3528 to /ptmp/mpa/mglatzle/TNG_f_esc/new_numerical_5e6/input/L35n2160TNG/sn013\n",
      "Copied /ptmp/mpa/mglatzle/TNG_f_esc/full_esc/input/L35n2160TNG/sn013/g2104 to /ptmp/mpa/mglatzle/TNG_f_esc/new_numerical_5e6/input/L35n2160TNG/sn013\n",
      "Copied /ptmp/mpa/mglatzle/TNG_f_esc/full_esc/input/L35n2160TNG/sn013/g1679 to /ptmp/mpa/mglatzle/TNG_f_esc/new_numerical_5e6/input/L35n2160TNG/sn013\n",
      "Copied /ptmp/mpa/mglatzle/TNG_f_esc/full_esc/input/L35n2160TNG/sn013/g2668 to /ptmp/mpa/mglatzle/TNG_f_esc/new_numerical_5e6/input/L35n2160TNG/sn013\n",
      "Copied /ptmp/mpa/mglatzle/TNG_f_esc/full_esc/input/L35n2160TNG/sn013/g1399 to /ptmp/mpa/mglatzle/TNG_f_esc/new_numerical_5e6/input/L35n2160TNG/sn013\n",
      "Copied /ptmp/mpa/mglatzle/TNG_f_esc/full_esc/input/L35n2160TNG/sn013/g1176 to /ptmp/mpa/mglatzle/TNG_f_esc/new_numerical_5e6/input/L35n2160TNG/sn013\n",
      "Copied /ptmp/mpa/mglatzle/TNG_f_esc/full_esc/input/L35n2160TNG/sn008/g252 to /ptmp/mpa/mglatzle/TNG_f_esc/new_numerical_5e6/input/L35n2160TNG/sn008\n",
      "Copied /ptmp/mpa/mglatzle/TNG_f_esc/full_esc/input/L35n2160TNG/sn008/g418 to /ptmp/mpa/mglatzle/TNG_f_esc/new_numerical_5e6/input/L35n2160TNG/sn008\n",
      "Copied /ptmp/mpa/mglatzle/TNG_f_esc/full_esc/input/L35n2160TNG/sn013/g2044 to /ptmp/mpa/mglatzle/TNG_f_esc/new_numerical_5e6/input/L35n2160TNG/sn013\n",
      "Copied /ptmp/mpa/mglatzle/TNG_f_esc/full_esc/input/L35n2160TNG/sn008/g314 to /ptmp/mpa/mglatzle/TNG_f_esc/new_numerical_5e6/input/L35n2160TNG/sn008\n",
      "Copied /ptmp/mpa/mglatzle/TNG_f_esc/full_esc/input/L35n2160TNG/sn013/g1466 to /ptmp/mpa/mglatzle/TNG_f_esc/new_numerical_5e6/input/L35n2160TNG/sn013\n",
      "Copied /ptmp/mpa/mglatzle/TNG_f_esc/full_esc/input/L35n2160TNG/sn013/g665 to /ptmp/mpa/mglatzle/TNG_f_esc/new_numerical_5e6/input/L35n2160TNG/sn013\n",
      "Copied /ptmp/mpa/mglatzle/TNG_f_esc/full_esc/input/L35n2160TNG/sn013/g1205 to /ptmp/mpa/mglatzle/TNG_f_esc/new_numerical_5e6/input/L35n2160TNG/sn013\n",
      "Copied /ptmp/mpa/mglatzle/TNG_f_esc/full_esc/input/L35n2160TNG/sn013/g1207 to /ptmp/mpa/mglatzle/TNG_f_esc/new_numerical_5e6/input/L35n2160TNG/sn013\n",
      "Copied /ptmp/mpa/mglatzle/TNG_f_esc/full_esc/input/L35n2160TNG/sn013/g723 to /ptmp/mpa/mglatzle/TNG_f_esc/new_numerical_5e6/input/L35n2160TNG/sn013\n",
      "Copied /ptmp/mpa/mglatzle/TNG_f_esc/full_esc/input/L35n2160TNG/sn008/g127 to /ptmp/mpa/mglatzle/TNG_f_esc/new_numerical_5e6/input/L35n2160TNG/sn008\n",
      "Copied /ptmp/mpa/mglatzle/TNG_f_esc/full_esc/input/L35n2160TNG/sn013/g1278 to /ptmp/mpa/mglatzle/TNG_f_esc/new_numerical_5e6/input/L35n2160TNG/sn013\n",
      "Copied /ptmp/mpa/mglatzle/TNG_f_esc/full_esc/input/L35n2160TNG/sn013/g512 to /ptmp/mpa/mglatzle/TNG_f_esc/new_numerical_5e6/input/L35n2160TNG/sn013\n",
      "Copied /ptmp/mpa/mglatzle/TNG_f_esc/full_esc/input/L35n2160TNG/sn013/g890 to /ptmp/mpa/mglatzle/TNG_f_esc/new_numerical_5e6/input/L35n2160TNG/sn013\n",
      "Copied /ptmp/mpa/mglatzle/TNG_f_esc/full_esc/input/L35n2160TNG/sn013/g532 to /ptmp/mpa/mglatzle/TNG_f_esc/new_numerical_5e6/input/L35n2160TNG/sn013\n",
      "Copied /ptmp/mpa/mglatzle/TNG_f_esc/full_esc/input/L35n2160TNG/sn013/g1260 to /ptmp/mpa/mglatzle/TNG_f_esc/new_numerical_5e6/input/L35n2160TNG/sn013\n",
      "Copied /ptmp/mpa/mglatzle/TNG_f_esc/full_esc/input/L35n2160TNG/sn004/g5 to /ptmp/mpa/mglatzle/TNG_f_esc/new_numerical_5e6/input/L35n2160TNG/sn004\n",
      "Copied /ptmp/mpa/mglatzle/TNG_f_esc/full_esc/input/L35n2160TNG/sn013/g744 to /ptmp/mpa/mglatzle/TNG_f_esc/new_numerical_5e6/input/L35n2160TNG/sn013\n",
      "Copied /ptmp/mpa/mglatzle/TNG_f_esc/full_esc/input/L35n2160TNG/sn013/g411 to /ptmp/mpa/mglatzle/TNG_f_esc/new_numerical_5e6/input/L35n2160TNG/sn013\n",
      "Copied /ptmp/mpa/mglatzle/TNG_f_esc/full_esc/input/L35n2160TNG/sn013/g301 to /ptmp/mpa/mglatzle/TNG_f_esc/new_numerical_5e6/input/L35n2160TNG/sn013\n",
      "Copied /ptmp/mpa/mglatzle/TNG_f_esc/full_esc/input/L35n2160TNG/sn013/g646 to /ptmp/mpa/mglatzle/TNG_f_esc/new_numerical_5e6/input/L35n2160TNG/sn013\n",
      "Copied /ptmp/mpa/mglatzle/TNG_f_esc/full_esc/input/L35n2160TNG/sn008/g144 to /ptmp/mpa/mglatzle/TNG_f_esc/new_numerical_5e6/input/L35n2160TNG/sn008\n",
      "Copied /ptmp/mpa/mglatzle/TNG_f_esc/full_esc/input/L35n2160TNG/sn013/g735 to /ptmp/mpa/mglatzle/TNG_f_esc/new_numerical_5e6/input/L35n2160TNG/sn013\n"
     ]
    },
    {
     "name": "stdout",
     "output_type": "stream",
     "text": [
      "Copied /ptmp/mpa/mglatzle/TNG_f_esc/full_esc/input/L35n2160TNG/sn013/g180 to /ptmp/mpa/mglatzle/TNG_f_esc/new_numerical_5e6/input/L35n2160TNG/sn013\n",
      "Copied /ptmp/mpa/mglatzle/TNG_f_esc/full_esc/input/L35n2160TNG/sn013/g494 to /ptmp/mpa/mglatzle/TNG_f_esc/new_numerical_5e6/input/L35n2160TNG/sn013\n",
      "Copied /ptmp/mpa/mglatzle/TNG_f_esc/full_esc/input/L35n2160TNG/sn008/g110 to /ptmp/mpa/mglatzle/TNG_f_esc/new_numerical_5e6/input/L35n2160TNG/sn008\n",
      "Copied /ptmp/mpa/mglatzle/TNG_f_esc/full_esc/input/L35n2160TNG/sn004/g3 to /ptmp/mpa/mglatzle/TNG_f_esc/new_numerical_5e6/input/L35n2160TNG/sn004\n",
      "Copied /ptmp/mpa/mglatzle/TNG_f_esc/full_esc/input/L35n2160TNG/sn013/g259 to /ptmp/mpa/mglatzle/TNG_f_esc/new_numerical_5e6/input/L35n2160TNG/sn013\n",
      "Copied /ptmp/mpa/mglatzle/TNG_f_esc/full_esc/input/L35n2160TNG/sn013/g359 to /ptmp/mpa/mglatzle/TNG_f_esc/new_numerical_5e6/input/L35n2160TNG/sn013\n",
      "Copied /ptmp/mpa/mglatzle/TNG_f_esc/full_esc/input/L35n2160TNG/sn013/g410 to /ptmp/mpa/mglatzle/TNG_f_esc/new_numerical_5e6/input/L35n2160TNG/sn013\n",
      "Copied /ptmp/mpa/mglatzle/TNG_f_esc/full_esc/input/L35n2160TNG/sn013/g423 to /ptmp/mpa/mglatzle/TNG_f_esc/new_numerical_5e6/input/L35n2160TNG/sn013\n",
      "Copied /ptmp/mpa/mglatzle/TNG_f_esc/full_esc/input/L35n2160TNG/sn013/g574 to /ptmp/mpa/mglatzle/TNG_f_esc/new_numerical_5e6/input/L35n2160TNG/sn013\n",
      "Copied /ptmp/mpa/mglatzle/TNG_f_esc/full_esc/input/L35n2160TNG/sn013/g213 to /ptmp/mpa/mglatzle/TNG_f_esc/new_numerical_5e6/input/L35n2160TNG/sn013\n",
      "Copied /ptmp/mpa/mglatzle/TNG_f_esc/full_esc/input/L35n2160TNG/sn013/g185 to /ptmp/mpa/mglatzle/TNG_f_esc/new_numerical_5e6/input/L35n2160TNG/sn013\n",
      "Copied /ptmp/mpa/mglatzle/TNG_f_esc/full_esc/input/L35n2160TNG/sn013/g317 to /ptmp/mpa/mglatzle/TNG_f_esc/new_numerical_5e6/input/L35n2160TNG/sn013\n",
      "Copied /ptmp/mpa/mglatzle/TNG_f_esc/full_esc/input/L35n2160TNG/sn013/g335 to /ptmp/mpa/mglatzle/TNG_f_esc/new_numerical_5e6/input/L35n2160TNG/sn013\n",
      "Copied /ptmp/mpa/mglatzle/TNG_f_esc/full_esc/input/L35n2160TNG/sn013/g278 to /ptmp/mpa/mglatzle/TNG_f_esc/new_numerical_5e6/input/L35n2160TNG/sn013\n",
      "Copied /ptmp/mpa/mglatzle/TNG_f_esc/full_esc/input/L35n2160TNG/sn013/g178 to /ptmp/mpa/mglatzle/TNG_f_esc/new_numerical_5e6/input/L35n2160TNG/sn013\n",
      "Copied /ptmp/mpa/mglatzle/TNG_f_esc/full_esc/input/L35n2160TNG/sn013/g270 to /ptmp/mpa/mglatzle/TNG_f_esc/new_numerical_5e6/input/L35n2160TNG/sn013\n",
      "Copied /ptmp/mpa/mglatzle/TNG_f_esc/full_esc/input/L35n2160TNG/sn013/g119 to /ptmp/mpa/mglatzle/TNG_f_esc/new_numerical_5e6/input/L35n2160TNG/sn013\n",
      "Copied /ptmp/mpa/mglatzle/TNG_f_esc/full_esc/input/L35n2160TNG/sn013/g217 to /ptmp/mpa/mglatzle/TNG_f_esc/new_numerical_5e6/input/L35n2160TNG/sn013\n",
      "Copied /ptmp/mpa/mglatzle/TNG_f_esc/full_esc/input/L35n2160TNG/sn013/g136 to /ptmp/mpa/mglatzle/TNG_f_esc/new_numerical_5e6/input/L35n2160TNG/sn013\n",
      "Copied /ptmp/mpa/mglatzle/TNG_f_esc/full_esc/input/L35n2160TNG/sn013/g202 to /ptmp/mpa/mglatzle/TNG_f_esc/new_numerical_5e6/input/L35n2160TNG/sn013\n",
      "Copied /ptmp/mpa/mglatzle/TNG_f_esc/full_esc/input/L35n2160TNG/sn013/g367 to /ptmp/mpa/mglatzle/TNG_f_esc/new_numerical_5e6/input/L35n2160TNG/sn013\n",
      "Copied /ptmp/mpa/mglatzle/TNG_f_esc/full_esc/input/L35n2160TNG/sn013/g100 to /ptmp/mpa/mglatzle/TNG_f_esc/new_numerical_5e6/input/L35n2160TNG/sn013\n",
      "Copied /ptmp/mpa/mglatzle/TNG_f_esc/full_esc/input/L35n2160TNG/sn013/g179 to /ptmp/mpa/mglatzle/TNG_f_esc/new_numerical_5e6/input/L35n2160TNG/sn013\n",
      "Copied /ptmp/mpa/mglatzle/TNG_f_esc/full_esc/input/L35n2160TNG/sn013/g170 to /ptmp/mpa/mglatzle/TNG_f_esc/new_numerical_5e6/input/L35n2160TNG/sn013\n",
      "Copied /ptmp/mpa/mglatzle/TNG_f_esc/full_esc/input/L35n2160TNG/sn013/g219 to /ptmp/mpa/mglatzle/TNG_f_esc/new_numerical_5e6/input/L35n2160TNG/sn013\n",
      "Copied /ptmp/mpa/mglatzle/TNG_f_esc/full_esc/input/L35n2160TNG/sn013/g175 to /ptmp/mpa/mglatzle/TNG_f_esc/new_numerical_5e6/input/L35n2160TNG/sn013\n",
      "Copied /ptmp/mpa/mglatzle/TNG_f_esc/full_esc/input/L35n2160TNG/sn013/g168 to /ptmp/mpa/mglatzle/TNG_f_esc/new_numerical_5e6/input/L35n2160TNG/sn013\n",
      "Copied /ptmp/mpa/mglatzle/TNG_f_esc/full_esc/input/L35n2160TNG/sn013/g134 to /ptmp/mpa/mglatzle/TNG_f_esc/new_numerical_5e6/input/L35n2160TNG/sn013\n",
      "Copied /ptmp/mpa/mglatzle/TNG_f_esc/full_esc/input/L35n2160TNG/sn013/g96 to /ptmp/mpa/mglatzle/TNG_f_esc/new_numerical_5e6/input/L35n2160TNG/sn013\n",
      "Copied /ptmp/mpa/mglatzle/TNG_f_esc/full_esc/input/L35n2160TNG/sn013/g147 to /ptmp/mpa/mglatzle/TNG_f_esc/new_numerical_5e6/input/L35n2160TNG/sn013\n",
      "Copied /ptmp/mpa/mglatzle/TNG_f_esc/full_esc/input/L35n2160TNG/sn013/g103 to /ptmp/mpa/mglatzle/TNG_f_esc/new_numerical_5e6/input/L35n2160TNG/sn013\n",
      "Copied /ptmp/mpa/mglatzle/TNG_f_esc/full_esc/input/L35n2160TNG/sn008/g8 to /ptmp/mpa/mglatzle/TNG_f_esc/new_numerical_5e6/input/L35n2160TNG/sn008\n",
      "Copied /ptmp/mpa/mglatzle/TNG_f_esc/full_esc/input/L35n2160TNG/sn013/g89 to /ptmp/mpa/mglatzle/TNG_f_esc/new_numerical_5e6/input/L35n2160TNG/sn013\n",
      "Copied /ptmp/mpa/mglatzle/TNG_f_esc/full_esc/input/L35n2160TNG/sn008/g4 to /ptmp/mpa/mglatzle/TNG_f_esc/new_numerical_5e6/input/L35n2160TNG/sn008\n",
      "Copied /ptmp/mpa/mglatzle/TNG_f_esc/full_esc/input/L35n2160TNG/sn013/g59 to /ptmp/mpa/mglatzle/TNG_f_esc/new_numerical_5e6/input/L35n2160TNG/sn013\n",
      "Copied /ptmp/mpa/mglatzle/TNG_f_esc/full_esc/input/L35n2160TNG/sn013/g35 to /ptmp/mpa/mglatzle/TNG_f_esc/new_numerical_5e6/input/L35n2160TNG/sn013\n",
      "Copied /ptmp/mpa/mglatzle/TNG_f_esc/full_esc/input/L35n2160TNG/sn013/g123 to /ptmp/mpa/mglatzle/TNG_f_esc/new_numerical_5e6/input/L35n2160TNG/sn013\n",
      "Copied /ptmp/mpa/mglatzle/TNG_f_esc/full_esc/input/L35n2160TNG/sn013/g87 to /ptmp/mpa/mglatzle/TNG_f_esc/new_numerical_5e6/input/L35n2160TNG/sn013\n",
      "Copied /ptmp/mpa/mglatzle/TNG_f_esc/full_esc/input/L35n2160TNG/sn013/g60 to /ptmp/mpa/mglatzle/TNG_f_esc/new_numerical_5e6/input/L35n2160TNG/sn013\n",
      "Copied /ptmp/mpa/mglatzle/TNG_f_esc/full_esc/input/L35n2160TNG/sn008/g3 to /ptmp/mpa/mglatzle/TNG_f_esc/new_numerical_5e6/input/L35n2160TNG/sn008\n",
      "Copied /ptmp/mpa/mglatzle/TNG_f_esc/full_esc/input/L35n2160TNG/sn013/g90 to /ptmp/mpa/mglatzle/TNG_f_esc/new_numerical_5e6/input/L35n2160TNG/sn013\n",
      "Copied /ptmp/mpa/mglatzle/TNG_f_esc/full_esc/input/L35n2160TNG/sn013/g65 to /ptmp/mpa/mglatzle/TNG_f_esc/new_numerical_5e6/input/L35n2160TNG/sn013\n",
      "Copied /ptmp/mpa/mglatzle/TNG_f_esc/full_esc/input/L35n2160TNG/sn013/g72 to /ptmp/mpa/mglatzle/TNG_f_esc/new_numerical_5e6/input/L35n2160TNG/sn013\n",
      "Copied /ptmp/mpa/mglatzle/TNG_f_esc/full_esc/input/L35n2160TNG/sn013/g31 to /ptmp/mpa/mglatzle/TNG_f_esc/new_numerical_5e6/input/L35n2160TNG/sn013\n",
      "Copied /ptmp/mpa/mglatzle/TNG_f_esc/full_esc/input/L35n2160TNG/sn013/g27 to /ptmp/mpa/mglatzle/TNG_f_esc/new_numerical_5e6/input/L35n2160TNG/sn013\n",
      "Copied /ptmp/mpa/mglatzle/TNG_f_esc/full_esc/input/L35n2160TNG/sn008/g1 to /ptmp/mpa/mglatzle/TNG_f_esc/new_numerical_5e6/input/L35n2160TNG/sn008\n",
      "Copied /ptmp/mpa/mglatzle/TNG_f_esc/full_esc/input/L35n2160TNG/sn013/g14 to /ptmp/mpa/mglatzle/TNG_f_esc/new_numerical_5e6/input/L35n2160TNG/sn013\n",
      "Copied /ptmp/mpa/mglatzle/TNG_f_esc/full_esc/input/L35n2160TNG/sn008/g2 to /ptmp/mpa/mglatzle/TNG_f_esc/new_numerical_5e6/input/L35n2160TNG/sn008\n"
     ]
    }
   ],
   "source": [
    "copy_halos(df, setting='new_numerical_5e6', halos_per_bin=5)"
   ]
  },
  {
   "cell_type": "code",
   "execution_count": 27,
   "metadata": {},
   "outputs": [
    {
     "ename": "ValueError",
     "evalue": "Sample larger than population or is negative",
     "output_type": "error",
     "traceback": [
      "\u001b[0;31m---------------------------------------------------------------------------\u001b[0m",
      "\u001b[0;31mValueError\u001b[0m                                Traceback (most recent call last)",
      "\u001b[0;32m<ipython-input-27-966ad3e0f7a0>\u001b[0m in \u001b[0;36m<module>\u001b[0;34m\u001b[0m\n\u001b[0;32m----> 1\u001b[0;31m \u001b[0mrandom\u001b[0m\u001b[0;34m.\u001b[0m\u001b[0msample\u001b[0m\u001b[0;34m(\u001b[0m\u001b[0mlist\u001b[0m\u001b[0;34m(\u001b[0m\u001b[0mnp\u001b[0m\u001b[0;34m.\u001b[0m\u001b[0marange\u001b[0m\u001b[0;34m(\u001b[0m\u001b[0;36m0\u001b[0m\u001b[0;34m,\u001b[0m\u001b[0;36m5\u001b[0m\u001b[0;34m)\u001b[0m\u001b[0;34m)\u001b[0m\u001b[0;34m,\u001b[0m\u001b[0;36m6\u001b[0m\u001b[0;34m)\u001b[0m\u001b[0;34m\u001b[0m\u001b[0;34m\u001b[0m\u001b[0m\n\u001b[0m",
      "\u001b[0;32m~/conda-envs/crash_analysis/lib/python3.8/random.py\u001b[0m in \u001b[0;36msample\u001b[0;34m(self, population, k)\u001b[0m\n\u001b[1;32m    361\u001b[0m         \u001b[0mn\u001b[0m \u001b[0;34m=\u001b[0m \u001b[0mlen\u001b[0m\u001b[0;34m(\u001b[0m\u001b[0mpopulation\u001b[0m\u001b[0;34m)\u001b[0m\u001b[0;34m\u001b[0m\u001b[0;34m\u001b[0m\u001b[0m\n\u001b[1;32m    362\u001b[0m         \u001b[0;32mif\u001b[0m \u001b[0;32mnot\u001b[0m \u001b[0;36m0\u001b[0m \u001b[0;34m<=\u001b[0m \u001b[0mk\u001b[0m \u001b[0;34m<=\u001b[0m \u001b[0mn\u001b[0m\u001b[0;34m:\u001b[0m\u001b[0;34m\u001b[0m\u001b[0;34m\u001b[0m\u001b[0m\n\u001b[0;32m--> 363\u001b[0;31m             \u001b[0;32mraise\u001b[0m \u001b[0mValueError\u001b[0m\u001b[0;34m(\u001b[0m\u001b[0;34m\"Sample larger than population or is negative\"\u001b[0m\u001b[0;34m)\u001b[0m\u001b[0;34m\u001b[0m\u001b[0;34m\u001b[0m\u001b[0m\n\u001b[0m\u001b[1;32m    364\u001b[0m         \u001b[0mresult\u001b[0m \u001b[0;34m=\u001b[0m \u001b[0;34m[\u001b[0m\u001b[0;32mNone\u001b[0m\u001b[0;34m]\u001b[0m \u001b[0;34m*\u001b[0m \u001b[0mk\u001b[0m\u001b[0;34m\u001b[0m\u001b[0;34m\u001b[0m\u001b[0m\n\u001b[1;32m    365\u001b[0m         \u001b[0msetsize\u001b[0m \u001b[0;34m=\u001b[0m \u001b[0;36m21\u001b[0m        \u001b[0;31m# size of a small set minus size of an empty list\u001b[0m\u001b[0;34m\u001b[0m\u001b[0;34m\u001b[0m\u001b[0m\n",
      "\u001b[0;31mValueError\u001b[0m: Sample larger than population or is negative"
     ]
    }
   ],
   "source": [
    "random.sample(list(np.arange(0,5)),6)"
   ]
  },
  {
   "cell_type": "code",
   "execution_count": null,
   "metadata": {},
   "outputs": [],
   "source": []
  }
 ],
 "metadata": {
  "kernelspec": {
   "display_name": "envcrash",
   "language": "python",
   "name": "envcrash"
  },
  "language_info": {
   "codemirror_mode": {
    "name": "ipython",
    "version": 3
   },
   "file_extension": ".py",
   "mimetype": "text/x-python",
   "name": "python",
   "nbconvert_exporter": "python",
   "pygments_lexer": "ipython3",
   "version": "3.8.2"
  }
 },
 "nbformat": 4,
 "nbformat_minor": 4
}
