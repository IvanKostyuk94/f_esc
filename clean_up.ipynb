{
 "cells": [
  {
   "cell_type": "code",
   "execution_count": null,
   "metadata": {},
   "outputs": [],
   "source": [
    "import os\n",
    "\n",
    "from IPython.core.display import display, HTML\n",
    "display(HTML(\"<style>.container { width:75% !important; }</style>\"))"
   ]
  },
  {
   "cell_type": "code",
   "execution_count": null,
   "metadata": {},
   "outputs": [],
   "source": [
    "ptmp_path = '/freya/ptmp/mpa/mglatzle/TNG_f_esc'\n",
    "snaps = ['sn008', 'sn004', 'sn013', 'sn025']\n",
    "run='new_main'"
   ]
  },
  {
   "cell_type": "code",
   "execution_count": null,
   "metadata": {},
   "outputs": [],
   "source": [
    "for run in os.listdir(ptmp_path):\n",
    "    run_path = os.path.join(ptmp_path, run, 'run/L35n2160TNG')\n",
    "    if os.path.exists(run_path):\n",
    "        for snap in snaps:\n",
    "            snap_path = os.path.join(run_path, snap)\n",
    "            if os.path.exists(snap_path):\n",
    "                for halo in os.listdir(snap_path):\n",
    "                    log_file = os.path.join(snap_path, halo, 'bin/run.out')\n",
    "                    if os.path.exists(log_file):\n",
    "                        size = os.path.getsize(log_file)/1e9\n",
    "                        if size > 1:\n",
    "                            print(log_file)\n",
    "                            print(size)"
   ]
  },
  {
   "cell_type": "code",
   "execution_count": null,
   "metadata": {},
   "outputs": [],
   "source": [
    "ptmp_path = '/freya/ptmp/mpa/mglatzle/TNG_f_esc'\n",
    "for run in os.listdir(ptmp_path):\n",
    "    run_path = os.path.join(ptmp_path, run, 'run/L35n2160TNG')\n",
    "    if os.path.exists(run_path):\n",
    "        for snap in snaps:\n",
    "            snap_path = os.path.join(run_path, snap)\n",
    "            if os.path.exists(snap_path):\n",
    "                for halo in os.listdir(snap_path):\n",
    "                    try:\n",
    "                        outputpath = os.path.join(snap_path, halo, 'Output')\n",
    "                        files = os.listdir(outputpath)\n",
    "                    except:\n",
    "                        print(outputpath)\n",
    "                        continue\n",
    "                    dump_files = [file for file in files if file.startswith('dump.in')]\n",
    "                    dump_files = sorted(dump_files)\n",
    "                    if len(dump_files)>1:\n",
    "                        print(outputpath)\n",
    "                        for i in range(len(dump_files)-1):\n",
    "                            dump_filepath = os.path.join(outputpath, dump_files[i])\n",
    "                            os.system(f'rm {dump_filepath}')"
   ]
  },
  {
   "cell_type": "code",
   "execution_count": null,
   "metadata": {},
   "outputs": [],
   "source": [
    "spec_counts = []\n",
    "run = 'new_main'\n",
    "db_path = '/ptmp/mpa/mglatzle/TNG_f_esc/full_esc/db/SPECTRA/L35n2160TNG'\n",
    "run_path = os.path.join(ptmp_path, run, 'run/L35n2160TNG')\n",
    "if os.path.exists(run_path):\n",
    "    for snap in snaps:\n",
    "        snap_path = os.path.join(run_path, snap)\n",
    "        db_snap = os.path.join(db_path, snap)\n",
    "        if os.path.exists(snap_path):\n",
    "            for halo in os.listdir(snap_path):\n",
    "                db_halo = os.path.join(db_snap, halo)\n",
    "                try:\n",
    "                    specs = os.listdir(db_halo)\n",
    "                    spec_counts.append(len(specs))\n",
    "                except:\n",
    "                    print(db_halo)"
   ]
  },
  {
   "cell_type": "code",
   "execution_count": null,
   "metadata": {},
   "outputs": [],
   "source": [
    "start = 0 \n",
    "run = 'new_main'\n",
    "db_path = '/ptmp/mpa/mglatzle/TNG_f_esc/new_main/db/SPECTRA/L35n2160TNG'\n",
    "run_path = os.path.join(ptmp_path, run, 'run/L35n2160TNG')\n",
    "for snap in snaps:\n",
    "    db_snap = os.path.join(db_path, snap)\n",
    "    if os.path.exists(db_snap):\n",
    "        for halo in os.listdir(db_snap):\n",
    "            db_halo = os.path.join(db_snap, halo)\n",
    "            try:\n",
    "                specs = os.listdir(db_halo)\n",
    "                if len(specs) > 50000:\n",
    "                    print(db_halo)\n",
    "                    start += len(specs)\n",
    "                    os.system(f'rm -r {db_halo}')\n",
    "            except:\n",
    "                print(f'Error in {db_halo}')"
   ]
  },
  {
   "cell_type": "code",
   "execution_count": null,
   "metadata": {},
   "outputs": [],
   "source": [
    "import numpy as np"
   ]
  },
  {
   "cell_type": "code",
   "execution_count": null,
   "metadata": {},
   "outputs": [],
   "source": [
    "import subprocess"
   ]
  },
  {
   "cell_type": "code",
   "execution_count": null,
   "metadata": {},
   "outputs": [],
   "source": [
    "misc_path = os.path.join(ptmp_path, 'MISC')\n",
    "for run in os.listdir(misc_path):\n",
    "    run_path = os.path.join(misc_path, run, 'run/L35n2160TNG')\n",
    "    if os.path.exists(run_path):\n",
    "        for snap in snaps:\n",
    "            snap_path = os.path.join(run_path, snap)\n",
    "            if os.path.exists(snap_path):\n",
    "                for halo in os.listdir(snap_path):\n",
    "                    output_dir = os.path.join(snap_path, halo, 'Output')\n",
    "                    if os.path.exists(output_dir):\n",
    "                        for file in os.listdir(output_dir):\n",
    "                            if file.startswith('dump.in_'):\n",
    "                                dump_file = os.path.join(output_dir, file)\n",
    "                                a = os.system(f'rm {dump_file}')"
   ]
  }
 ],
 "metadata": {
  "kernelspec": {
   "display_name": "envcrash",
   "language": "python",
   "name": "envcrash"
  },
  "language_info": {
   "codemirror_mode": {
    "name": "ipython",
    "version": 3
   },
   "file_extension": ".py",
   "mimetype": "text/x-python",
   "name": "python",
   "nbconvert_exporter": "python",
   "pygments_lexer": "ipython3",
   "version": "3.8.2"
  }
 },
 "nbformat": 4,
 "nbformat_minor": 4
}
