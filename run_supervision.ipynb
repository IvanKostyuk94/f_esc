{
 "cells": [
  {
   "cell_type": "code",
   "execution_count": 64,
   "metadata": {},
   "outputs": [
    {
     "data": {
      "text/html": [
       "<style>.container { width:85% !important; }</style>"
      ],
      "text/plain": [
       "<IPython.core.display.HTML object>"
      ]
     },
     "metadata": {},
     "output_type": "display_data"
    }
   ],
   "source": [
    "import matplotlib.pyplot as plt\n",
    "import numpy as np\n",
    "import os\n",
    "import pandas as pd\n",
    "import os\n",
    "from operator import itemgetter\n",
    "import subprocess\n",
    "import fileinput\n",
    "import shutil\n",
    "import glob\n",
    "import contextlib\n",
    "import astropy.units as u\n",
    "import datetime\n",
    "import warnings\n",
    "import time\n",
    "# import config\n",
    "# run_prep = __import__('4_run_prep')\n",
    "# run_submitter = __import__('5_run_submitter')\n",
    "\n",
    "from IPython.core.interactiveshell import InteractiveShell\n",
    "# pretty print all cell's output and not just the last one\n",
    "InteractiveShell.ast_node_interactivity = \"all\"\n",
    "from IPython.core.display import display, HTML\n",
    "display(HTML(\"<style>.container { width:85% !important; }</style>\"))"
   ]
  },
  {
   "cell_type": "code",
   "execution_count": 17,
   "metadata": {},
   "outputs": [],
   "source": [
    "def run_supervision(threshold=10, number=200):\n",
    "    counter = 0\n",
    "    while True:\n",
    "        #time.sleep(3600)\n",
    "        print('*'*80)\n",
    "        print(f'Starting iteration {counter}')\n",
    "        print('*'*80)\n",
    "        jobs_running = int(os.popen('squeue -u ivkos | wc -l').read())\n",
    "        if jobs_running < 2:\n",
    "            os.system('python 4_run_prep.py')\n",
    "            run_submitter.remove_jobs(answer='yes')\n",
    "            run_submitter.create_jobs(threshhold=threshold)\n",
    "            run_subitter.submit_jobs(number=number)\n",
    "            time.sleep(3600)\n",
    "        else:\n",
    "            time.sleep(3600)\n",
    "        counter+=1\n",
    "    return"
   ]
  },
  {
   "cell_type": "code",
   "execution_count": 60,
   "metadata": {},
   "outputs": [],
   "source": [
    "def get_all_halos(path, snap):\n",
    "    path_to_snap = os.path.join(path, snap)\n",
    "    files = os.listdir(path_to_snap)\n",
    "    halos = [int(halo[1:]) for halo in files if halo.startswith('g')]\n",
    "    return halos"
   ]
  },
  {
   "cell_type": "code",
   "execution_count": 58,
   "metadata": {},
   "outputs": [],
   "source": [
    "def remove_heavy_halos(path, star_mass_lim=1e8):\n",
    "    snaps = ['sn004','sn008','sn013']\n",
    "    df_name = 'sel_halos_df.pickle'\n",
    "    for snap in snaps:\n",
    "        halos = get_all_halos(path, snap)\n",
    "        df_path = os.path.join(path, snap, df_name)\n",
    "        all_halos = pd.read_pickle(df_path)\n",
    "        halos_used = all_halos.loc[halos]\n",
    "        \n",
    "        star_masses = halos_used[('GroupMassType', 4)]*1e10/0.6774\n",
    "        to_remove = np.array(star_masses[star_masses>star_mass_lim].index)\n",
    "        halos_to_remove = [f'g{halo}' for halo in to_remove]\n",
    "        \n",
    "        for halo in halos_to_remove:\n",
    "            path_to_halo = os.path.join(path, snap, halo)\n",
    "            print(f'Removing {path_to_halo}')\n",
    "            os.system(f'rm -r {path_to_halo}')\n",
    "    return"
   ]
  },
  {
   "cell_type": "code",
   "execution_count": 65,
   "metadata": {},
   "outputs": [
    {
     "name": "stdout",
     "output_type": "stream",
     "text": [
      "Removing /ptmp/mpa/mglatzle/TNG_f_esc/conv1e8/input/L35n2160TNG/sn004/g3\n",
      "Removing /ptmp/mpa/mglatzle/TNG_f_esc/conv1e8/input/L35n2160TNG/sn004/g5\n",
      "Removing /ptmp/mpa/mglatzle/TNG_f_esc/conv1e8/input/L35n2160TNG/sn008/g144\n",
      "Removing /ptmp/mpa/mglatzle/TNG_f_esc/conv1e8/input/L35n2160TNG/sn008/g8\n",
      "Removing /ptmp/mpa/mglatzle/TNG_f_esc/conv1e8/input/L35n2160TNG/sn008/g3\n",
      "Removing /ptmp/mpa/mglatzle/TNG_f_esc/conv1e8/input/L35n2160TNG/sn008/g2\n",
      "Removing /ptmp/mpa/mglatzle/TNG_f_esc/conv1e8/input/L35n2160TNG/sn008/g110\n",
      "Removing /ptmp/mpa/mglatzle/TNG_f_esc/conv1e8/input/L35n2160TNG/sn008/g1\n",
      "Removing /ptmp/mpa/mglatzle/TNG_f_esc/conv1e8/input/L35n2160TNG/sn008/g4\n",
      "Removing /ptmp/mpa/mglatzle/TNG_f_esc/conv1e8/input/L35n2160TNG/sn013/g65\n",
      "Removing /ptmp/mpa/mglatzle/TNG_f_esc/conv1e8/input/L35n2160TNG/sn013/g136\n",
      "Removing /ptmp/mpa/mglatzle/TNG_f_esc/conv1e8/input/L35n2160TNG/sn013/g202\n",
      "Removing /ptmp/mpa/mglatzle/TNG_f_esc/conv1e8/input/L35n2160TNG/sn013/g217\n",
      "Removing /ptmp/mpa/mglatzle/TNG_f_esc/conv1e8/input/L35n2160TNG/sn013/g170\n",
      "Removing /ptmp/mpa/mglatzle/TNG_f_esc/conv1e8/input/L35n2160TNG/sn013/g185\n",
      "Removing /ptmp/mpa/mglatzle/TNG_f_esc/conv1e8/input/L35n2160TNG/sn013/g744\n",
      "Removing /ptmp/mpa/mglatzle/TNG_f_esc/conv1e8/input/L35n2160TNG/sn013/g219\n",
      "Removing /ptmp/mpa/mglatzle/TNG_f_esc/conv1e8/input/L35n2160TNG/sn013/g646\n",
      "Removing /ptmp/mpa/mglatzle/TNG_f_esc/conv1e8/input/L35n2160TNG/sn013/g96\n",
      "Removing /ptmp/mpa/mglatzle/TNG_f_esc/conv1e8/input/L35n2160TNG/sn013/g512\n",
      "Removing /ptmp/mpa/mglatzle/TNG_f_esc/conv1e8/input/L35n2160TNG/sn013/g147\n",
      "Removing /ptmp/mpa/mglatzle/TNG_f_esc/conv1e8/input/L35n2160TNG/sn013/g574\n",
      "Removing /ptmp/mpa/mglatzle/TNG_f_esc/conv1e8/input/L35n2160TNG/sn013/g213\n",
      "Removing /ptmp/mpa/mglatzle/TNG_f_esc/conv1e8/input/L35n2160TNG/sn013/g494\n",
      "Removing /ptmp/mpa/mglatzle/TNG_f_esc/conv1e8/input/L35n2160TNG/sn013/g180\n",
      "Removing /ptmp/mpa/mglatzle/TNG_f_esc/conv1e8/input/L35n2160TNG/sn013/g335\n",
      "Removing /ptmp/mpa/mglatzle/TNG_f_esc/conv1e8/input/L35n2160TNG/sn013/g31\n",
      "Removing /ptmp/mpa/mglatzle/TNG_f_esc/conv1e8/input/L35n2160TNG/sn013/g179\n",
      "Removing /ptmp/mpa/mglatzle/TNG_f_esc/conv1e8/input/L35n2160TNG/sn013/g278\n",
      "Removing /ptmp/mpa/mglatzle/TNG_f_esc/conv1e8/input/L35n2160TNG/sn013/g103\n",
      "Removing /ptmp/mpa/mglatzle/TNG_f_esc/conv1e8/input/L35n2160TNG/sn013/g359\n",
      "Removing /ptmp/mpa/mglatzle/TNG_f_esc/conv1e8/input/L35n2160TNG/sn013/g119\n",
      "Removing /ptmp/mpa/mglatzle/TNG_f_esc/conv1e8/input/L35n2160TNG/sn013/g14\n",
      "Removing /ptmp/mpa/mglatzle/TNG_f_esc/conv1e8/input/L35n2160TNG/sn013/g411\n",
      "Removing /ptmp/mpa/mglatzle/TNG_f_esc/conv1e8/input/L35n2160TNG/sn013/g532\n",
      "Removing /ptmp/mpa/mglatzle/TNG_f_esc/conv1e8/input/L35n2160TNG/sn013/g1260\n",
      "Removing /ptmp/mpa/mglatzle/TNG_f_esc/conv1e8/input/L35n2160TNG/sn013/g168\n",
      "Removing /ptmp/mpa/mglatzle/TNG_f_esc/conv1e8/input/L35n2160TNG/sn013/g175\n",
      "Removing /ptmp/mpa/mglatzle/TNG_f_esc/conv1e8/input/L35n2160TNG/sn013/g735\n",
      "Removing /ptmp/mpa/mglatzle/TNG_f_esc/conv1e8/input/L35n2160TNG/sn013/g100\n",
      "Removing /ptmp/mpa/mglatzle/TNG_f_esc/conv1e8/input/L35n2160TNG/sn013/g301\n",
      "Removing /ptmp/mpa/mglatzle/TNG_f_esc/conv1e8/input/L35n2160TNG/sn013/g87\n",
      "Removing /ptmp/mpa/mglatzle/TNG_f_esc/conv1e8/input/L35n2160TNG/sn013/g123\n",
      "Removing /ptmp/mpa/mglatzle/TNG_f_esc/conv1e8/input/L35n2160TNG/sn013/g317\n",
      "Removing /ptmp/mpa/mglatzle/TNG_f_esc/conv1e8/input/L35n2160TNG/sn013/g178\n",
      "Removing /ptmp/mpa/mglatzle/TNG_f_esc/conv1e8/input/L35n2160TNG/sn013/g423\n",
      "Removing /ptmp/mpa/mglatzle/TNG_f_esc/conv1e8/input/L35n2160TNG/sn013/g890\n",
      "Removing /ptmp/mpa/mglatzle/TNG_f_esc/conv1e8/input/L35n2160TNG/sn013/g259\n",
      "Removing /ptmp/mpa/mglatzle/TNG_f_esc/conv1e8/input/L35n2160TNG/sn013/g270\n",
      "Removing /ptmp/mpa/mglatzle/TNG_f_esc/conv1e8/input/L35n2160TNG/sn013/g410\n",
      "Removing /ptmp/mpa/mglatzle/TNG_f_esc/conv1e8/input/L35n2160TNG/sn013/g72\n",
      "Removing /ptmp/mpa/mglatzle/TNG_f_esc/conv1e8/input/L35n2160TNG/sn013/g60\n",
      "Removing /ptmp/mpa/mglatzle/TNG_f_esc/conv1e8/input/L35n2160TNG/sn013/g367\n",
      "Removing /ptmp/mpa/mglatzle/TNG_f_esc/conv1e8/input/L35n2160TNG/sn013/g90\n",
      "Removing /ptmp/mpa/mglatzle/TNG_f_esc/conv1e8/input/L35n2160TNG/sn013/g134\n",
      "Removing /ptmp/mpa/mglatzle/TNG_f_esc/conv1e8/input/L35n2160TNG/sn013/g59\n",
      "Removing /ptmp/mpa/mglatzle/TNG_f_esc/conv1e8/input/L35n2160TNG/sn013/g89\n",
      "Removing /ptmp/mpa/mglatzle/TNG_f_esc/conv1e8/input/L35n2160TNG/sn013/g35\n",
      "Removing /ptmp/mpa/mglatzle/TNG_f_esc/conv1e8/input/L35n2160TNG/sn013/g27\n"
     ]
    }
   ],
   "source": [
    "path = '/ptmp/mpa/mglatzle/TNG_f_esc/conv1e8/input/L35n2160TNG'\n",
    "remove_heavy_halos(path)"
   ]
  },
  {
   "cell_type": "code",
   "execution_count": 66,
   "metadata": {},
   "outputs": [
    {
     "name": "stdout",
     "output_type": "stream",
     "text": [
      "Removing /ptmp/mpa/mglatzle/TNG_f_esc/conv1e9/input/L35n2160TNG/sn004/g3\n",
      "Removing /ptmp/mpa/mglatzle/TNG_f_esc/conv1e9/input/L35n2160TNG/sn004/g5\n",
      "Removing /ptmp/mpa/mglatzle/TNG_f_esc/conv1e9/input/L35n2160TNG/sn008/g144\n",
      "Removing /ptmp/mpa/mglatzle/TNG_f_esc/conv1e9/input/L35n2160TNG/sn008/g8\n",
      "Removing /ptmp/mpa/mglatzle/TNG_f_esc/conv1e9/input/L35n2160TNG/sn008/g3\n",
      "Removing /ptmp/mpa/mglatzle/TNG_f_esc/conv1e9/input/L35n2160TNG/sn008/g2\n",
      "Removing /ptmp/mpa/mglatzle/TNG_f_esc/conv1e9/input/L35n2160TNG/sn008/g110\n",
      "Removing /ptmp/mpa/mglatzle/TNG_f_esc/conv1e9/input/L35n2160TNG/sn008/g1\n",
      "Removing /ptmp/mpa/mglatzle/TNG_f_esc/conv1e9/input/L35n2160TNG/sn008/g4\n",
      "Removing /ptmp/mpa/mglatzle/TNG_f_esc/conv1e9/input/L35n2160TNG/sn013/g65\n",
      "Removing /ptmp/mpa/mglatzle/TNG_f_esc/conv1e9/input/L35n2160TNG/sn013/g136\n",
      "Removing /ptmp/mpa/mglatzle/TNG_f_esc/conv1e9/input/L35n2160TNG/sn013/g202\n",
      "Removing /ptmp/mpa/mglatzle/TNG_f_esc/conv1e9/input/L35n2160TNG/sn013/g217\n",
      "Removing /ptmp/mpa/mglatzle/TNG_f_esc/conv1e9/input/L35n2160TNG/sn013/g170\n",
      "Removing /ptmp/mpa/mglatzle/TNG_f_esc/conv1e9/input/L35n2160TNG/sn013/g185\n",
      "Removing /ptmp/mpa/mglatzle/TNG_f_esc/conv1e9/input/L35n2160TNG/sn013/g744\n",
      "Removing /ptmp/mpa/mglatzle/TNG_f_esc/conv1e9/input/L35n2160TNG/sn013/g219\n",
      "Removing /ptmp/mpa/mglatzle/TNG_f_esc/conv1e9/input/L35n2160TNG/sn013/g646\n",
      "Removing /ptmp/mpa/mglatzle/TNG_f_esc/conv1e9/input/L35n2160TNG/sn013/g96\n",
      "Removing /ptmp/mpa/mglatzle/TNG_f_esc/conv1e9/input/L35n2160TNG/sn013/g512\n",
      "Removing /ptmp/mpa/mglatzle/TNG_f_esc/conv1e9/input/L35n2160TNG/sn013/g147\n",
      "Removing /ptmp/mpa/mglatzle/TNG_f_esc/conv1e9/input/L35n2160TNG/sn013/g574\n",
      "Removing /ptmp/mpa/mglatzle/TNG_f_esc/conv1e9/input/L35n2160TNG/sn013/g213\n",
      "Removing /ptmp/mpa/mglatzle/TNG_f_esc/conv1e9/input/L35n2160TNG/sn013/g494\n",
      "Removing /ptmp/mpa/mglatzle/TNG_f_esc/conv1e9/input/L35n2160TNG/sn013/g180\n",
      "Removing /ptmp/mpa/mglatzle/TNG_f_esc/conv1e9/input/L35n2160TNG/sn013/g335\n",
      "Removing /ptmp/mpa/mglatzle/TNG_f_esc/conv1e9/input/L35n2160TNG/sn013/g31\n",
      "Removing /ptmp/mpa/mglatzle/TNG_f_esc/conv1e9/input/L35n2160TNG/sn013/g179\n",
      "Removing /ptmp/mpa/mglatzle/TNG_f_esc/conv1e9/input/L35n2160TNG/sn013/g278\n",
      "Removing /ptmp/mpa/mglatzle/TNG_f_esc/conv1e9/input/L35n2160TNG/sn013/g103\n",
      "Removing /ptmp/mpa/mglatzle/TNG_f_esc/conv1e9/input/L35n2160TNG/sn013/g359\n",
      "Removing /ptmp/mpa/mglatzle/TNG_f_esc/conv1e9/input/L35n2160TNG/sn013/g119\n",
      "Removing /ptmp/mpa/mglatzle/TNG_f_esc/conv1e9/input/L35n2160TNG/sn013/g14\n",
      "Removing /ptmp/mpa/mglatzle/TNG_f_esc/conv1e9/input/L35n2160TNG/sn013/g411\n",
      "Removing /ptmp/mpa/mglatzle/TNG_f_esc/conv1e9/input/L35n2160TNG/sn013/g532\n",
      "Removing /ptmp/mpa/mglatzle/TNG_f_esc/conv1e9/input/L35n2160TNG/sn013/g1260\n",
      "Removing /ptmp/mpa/mglatzle/TNG_f_esc/conv1e9/input/L35n2160TNG/sn013/g168\n",
      "Removing /ptmp/mpa/mglatzle/TNG_f_esc/conv1e9/input/L35n2160TNG/sn013/g175\n",
      "Removing /ptmp/mpa/mglatzle/TNG_f_esc/conv1e9/input/L35n2160TNG/sn013/g735\n",
      "Removing /ptmp/mpa/mglatzle/TNG_f_esc/conv1e9/input/L35n2160TNG/sn013/g100\n",
      "Removing /ptmp/mpa/mglatzle/TNG_f_esc/conv1e9/input/L35n2160TNG/sn013/g301\n",
      "Removing /ptmp/mpa/mglatzle/TNG_f_esc/conv1e9/input/L35n2160TNG/sn013/g87\n",
      "Removing /ptmp/mpa/mglatzle/TNG_f_esc/conv1e9/input/L35n2160TNG/sn013/g123\n",
      "Removing /ptmp/mpa/mglatzle/TNG_f_esc/conv1e9/input/L35n2160TNG/sn013/g317\n",
      "Removing /ptmp/mpa/mglatzle/TNG_f_esc/conv1e9/input/L35n2160TNG/sn013/g178\n",
      "Removing /ptmp/mpa/mglatzle/TNG_f_esc/conv1e9/input/L35n2160TNG/sn013/g423\n",
      "Removing /ptmp/mpa/mglatzle/TNG_f_esc/conv1e9/input/L35n2160TNG/sn013/g890\n",
      "Removing /ptmp/mpa/mglatzle/TNG_f_esc/conv1e9/input/L35n2160TNG/sn013/g259\n",
      "Removing /ptmp/mpa/mglatzle/TNG_f_esc/conv1e9/input/L35n2160TNG/sn013/g270\n",
      "Removing /ptmp/mpa/mglatzle/TNG_f_esc/conv1e9/input/L35n2160TNG/sn013/g410\n",
      "Removing /ptmp/mpa/mglatzle/TNG_f_esc/conv1e9/input/L35n2160TNG/sn013/g72\n",
      "Removing /ptmp/mpa/mglatzle/TNG_f_esc/conv1e9/input/L35n2160TNG/sn013/g60\n",
      "Removing /ptmp/mpa/mglatzle/TNG_f_esc/conv1e9/input/L35n2160TNG/sn013/g367\n",
      "Removing /ptmp/mpa/mglatzle/TNG_f_esc/conv1e9/input/L35n2160TNG/sn013/g90\n",
      "Removing /ptmp/mpa/mglatzle/TNG_f_esc/conv1e9/input/L35n2160TNG/sn013/g134\n",
      "Removing /ptmp/mpa/mglatzle/TNG_f_esc/conv1e9/input/L35n2160TNG/sn013/g59\n",
      "Removing /ptmp/mpa/mglatzle/TNG_f_esc/conv1e9/input/L35n2160TNG/sn013/g89\n",
      "Removing /ptmp/mpa/mglatzle/TNG_f_esc/conv1e9/input/L35n2160TNG/sn013/g35\n",
      "Removing /ptmp/mpa/mglatzle/TNG_f_esc/conv1e9/input/L35n2160TNG/sn013/g27\n"
     ]
    }
   ],
   "source": [
    "path = '/ptmp/mpa/mglatzle/TNG_f_esc/conv1e9/input/L35n2160TNG'\n",
    "remove_heavy_halos(path)"
   ]
  },
  {
   "cell_type": "code",
   "execution_count": null,
   "metadata": {},
   "outputs": [],
   "source": []
  }
 ],
 "metadata": {
  "kernelspec": {
   "display_name": "envcrash",
   "language": "python",
   "name": "envcrash"
  },
  "language_info": {
   "codemirror_mode": {
    "name": "ipython",
    "version": 3
   },
   "file_extension": ".py",
   "mimetype": "text/x-python",
   "name": "python",
   "nbconvert_exporter": "python",
   "pygments_lexer": "ipython3",
   "version": "3.8.2"
  }
 },
 "nbformat": 4,
 "nbformat_minor": 4
}
