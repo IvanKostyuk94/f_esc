{
 "cells": [
  {
   "cell_type": "markdown",
   "metadata": {},
   "source": [
    "Before use download crashpy from https://gitlab.mpcdf.mpg.de/CRASH/crashpy and add to your $PYTHONPATH"
   ]
  },
  {
   "cell_type": "code",
   "execution_count": 1,
   "metadata": {},
   "outputs": [
    {
     "data": {
      "text/html": [
       "<style>.container { width:75% !important; }</style>"
      ],
      "text/plain": [
       "<IPython.core.display.HTML object>"
      ]
     },
     "metadata": {},
     "output_type": "display_data"
    }
   ],
   "source": [
    "import matplotlib.pyplot as plt\n",
    "import numpy as np\n",
    "import os\n",
    "from matplotlib.colors import LogNorm\n",
    "from crashpy.utilities import crashMemMap\n",
    "\n",
    "from IPython.core.interactiveshell import InteractiveShell\n",
    "# pretty print all cell's output and not just the last one\n",
    "InteractiveShell.ast_node_interactivity = \"all\"\n",
    "from IPython.core.display import display, HTML\n",
    "display(HTML(\"<style>.container { width:75% !important; }</style>\"))"
   ]
  },
  {
   "cell_type": "markdown",
   "metadata": {},
   "source": [
    "A bunch of trivial helper function the function get_maps needs"
   ]
  },
  {
   "cell_type": "code",
   "execution_count": 7,
   "metadata": {},
   "outputs": [],
   "source": [
    "def get_simulation_paths(path_to_halo):\n",
    "    path_in_T = os.path.join(path_to_halo, 'Input/temp_ic00.in')\n",
    "    path_in_ion = os.path.join(path_to_halo, 'Input/ion.in')\n",
    "    path_dens = os.path.join(path_to_halo, 'Input/dens_ic00.in')\n",
    "#     path_in_T = os.path.join(path_to_halo, 'temp_ic00.in')\n",
    "#     path_in_ion = os.path.join(path_to_halo, 'ion.in')\n",
    "#     path_dens = os.path.join(path_to_halo, 'dens_ic00.in')\n",
    "    \n",
    "    path_out =  os.path.join(path_to_halo, 'Output/phys_ic00_rt05.out')\n",
    "    \n",
    "    return path_in_T, path_in_ion, path_dens, path_out\n",
    "\n",
    "def get_H_map(halo):\n",
    "    return np.ones(halo[1].shape)-halo[1]\n",
    "\n",
    "def get_He_map(halo):\n",
    "    return np.ones(halo[1].shape)-halo[2]-halo[3]"
   ]
  },
  {
   "cell_type": "markdown",
   "metadata": {},
   "source": [
    "### get_maps(path_to_halo, props=None)\n",
    "\n",
    "**Parameters**:\n",
    "- **path_to_halo**: Just the path where the halo file is located\n",
    "- **props**: What maps you want returned, default is all i.e 'T', 'xHI', 'xHII', 'xHeI', 'xHeII', 'xHeIII'\n",
    "\n",
    "**Returns**:\n",
    "- **maps**: A dictionary of dictionaries with the keywords 'in', 'out' and 'dens' corresponding to the input maps and the output after radiation transfer as well as to the gas density distribution. The first two contain a dictionary where the keyword is the map property and the value is the corresponding map in form of a 3D numpy array, the third just contains the array of the density map itself."
   ]
  },
  {
   "cell_type": "code",
   "execution_count": 10,
   "metadata": {},
   "outputs": [],
   "source": [
    "def get_maps(path_to_halo, props=None, xHI_only=False):\n",
    "    if props == None:\n",
    "        props = ['T', 'xHI', 'xHII', 'xHeI', 'xHeII', 'xHeIII', 'dens']\n",
    "    prop_dict = {'T':0, 'xHII':1, 'xHeII':2, 'xHeIII':3}\n",
    "    path_in_T, path_in_ion, path_dens, path_out = get_simulation_paths(path_to_halo) \n",
    "    \n",
    "    halo_in = crashMemMap(path_in_T, 'all')\n",
    "    halo_in.extend(crashMemMap(path_in_ion, 'all'))\n",
    "    halo_dens = crashMemMap(path_dens, 'all')\n",
    "    halo_out = crashMemMap(path_out, 'all')\n",
    "    \n",
    "    maps = {}\n",
    "    maps['in'] = {}\n",
    "    maps['out'] = {}\n",
    "    for prop in props:\n",
    "        if prop in prop_dict:\n",
    "            maps['in'][prop] = halo_in[prop_dict[prop]] \n",
    "            maps['out'][prop] = halo_out[prop_dict[prop]]\n",
    "        elif prop == 'xHI':\n",
    "            maps['in'][prop] = get_H_map(halo_in)\n",
    "            maps['out'][prop] = get_H_map(halo_out)\n",
    "        elif prop == 'xHeI':\n",
    "            maps['in'][prop] = get_He_map(halo_in)\n",
    "            maps['out'][prop] = get_He_map(halo_out)\n",
    "        elif prop == 'dens':\n",
    "            maps['dens'] = halo_dens[0]\n",
    "        else:\n",
    "            raise ValueError(f'The property {prop} does not exist.')\n",
    "    if xHI_only:\n",
    "        HI_in = (maps['in']['xHI']*maps['dens']).sum()/maps['dens'].sum()\n",
    "        HI_out = (maps['out']['xHI']*maps['dens']).sum()/maps['dens'].sum()\n",
    "        return HI_in, HI_out\n",
    "    else:\n",
    "        return maps"
   ]
  },
  {
   "cell_type": "markdown",
   "metadata": {},
   "source": [
    "### Example:"
   ]
  },
  {
   "cell_type": "code",
   "execution_count": 5,
   "metadata": {},
   "outputs": [],
   "source": [
    "plt.rcParams[\"figure.figsize\"] = (10,10)"
   ]
  },
  {
   "cell_type": "code",
   "execution_count": 11,
   "metadata": {},
   "outputs": [],
   "source": [
    "xHI_in, xHI_out = get_maps('/ptmp/mpa/mglatzle/TNG_f_esc/z3/run/L35n2160TNG/sn025/g863', xHI_only=True)\n",
    "#maps_dust = get_maps('/ptmp/mpa/mglatzle/TNG_f_esc/fid2/input/L35n2160TNG/sn013/g649')"
   ]
  },
  {
   "cell_type": "code",
   "execution_count": 12,
   "metadata": {},
   "outputs": [
    {
     "name": "stdout",
     "output_type": "stream",
     "text": [
      "0.30606949435704806\n",
      "0.19795933718643866\n"
     ]
    }
   ],
   "source": [
    "print(xHI_in)\n",
    "print(xHI_out)"
   ]
  },
  {
   "cell_type": "code",
   "execution_count": 32,
   "metadata": {},
   "outputs": [],
   "source": [
    "maps_1_5 = get_maps('/ptmp/mpa/mglatzle/TNG_f_esc/test/input/L35n270TNG/sn008/g1')\n",
    "maps_1 = get_maps('/ptmp/mpa/mglatzle/TNG_f_esc/test2/input/L35n270TNG/sn008/g1')"
   ]
  },
  {
   "cell_type": "code",
   "execution_count": 23,
   "metadata": {},
   "outputs": [
    {
     "data": {
      "text/plain": [
       "1618210.9"
      ]
     },
     "execution_count": 23,
     "metadata": {},
     "output_type": "execute_result"
    },
    {
     "data": {
      "text/plain": [
       "0.2238075429136358"
      ]
     },
     "execution_count": 23,
     "metadata": {},
     "output_type": "execute_result"
    },
    {
     "data": {
      "text/plain": [
       "999.99963"
      ]
     },
     "execution_count": 23,
     "metadata": {},
     "output_type": "execute_result"
    },
    {
     "data": {
      "text/plain": [
       "1618210.9"
      ]
     },
     "execution_count": 23,
     "metadata": {},
     "output_type": "execute_result"
    },
    {
     "data": {
      "text/plain": [
       "0.08402899906408397"
      ]
     },
     "execution_count": 23,
     "metadata": {},
     "output_type": "execute_result"
    },
    {
     "data": {
      "text/plain": [
       "999.99976"
      ]
     },
     "execution_count": 23,
     "metadata": {},
     "output_type": "execute_result"
    }
   ],
   "source": [
    "maps_649['in']['T'].max()\n",
    "maps_649['in']['xHI'].mean()\n",
    "maps_649['in']['T'].min()\n",
    "maps_649['out']['T'].max()\n",
    "maps_649['out']['xHI'].mean()\n",
    "maps_649['out']['T'].min()"
   ]
  },
  {
   "cell_type": "code",
   "execution_count": 39,
   "metadata": {
    "scrolled": false
   },
   "outputs": [
    {
     "data": {
      "image/png": "[encoded data removed]",
      "text/plain": [
       "<Figure size 720x720 with 1 Axes>"
      ]
     },
     "metadata": {
      "needs_background": "light"
     },
     "output_type": "display_data"
    }
   ],
   "source": [
    "plt.imshow(maps_1_5['dens'][32,...], norm = LogNorm());"
   ]
  },
  {
   "cell_type": "code",
   "execution_count": 38,
   "metadata": {},
   "outputs": [
    {
     "data": {
      "text/plain": [
       "(44, 44)"
      ]
     },
     "execution_count": 38,
     "metadata": {},
     "output_type": "execute_result"
    },
    {
     "data": {
      "text/plain": [
       "(65, 65)"
      ]
     },
     "execution_count": 38,
     "metadata": {},
     "output_type": "execute_result"
    }
   ],
   "source": [
    "maps_1['dens'][23,...].shape\n",
    "maps_1_5['dens'][32,...].shape"
   ]
  },
  {
   "cell_type": "code",
   "execution_count": 40,
   "metadata": {},
   "outputs": [
    {
     "data": {
      "image/png": "[encoded data removed]",
      "text/plain": [
       "<Figure size 720x720 with 1 Axes>"
      ]
     },
     "metadata": {
      "needs_background": "light"
     },
     "output_type": "display_data"
    }
   ],
   "source": [
    "plt.imshow(maps_1['dens'][22,...], norm = LogNorm());"
   ]
  },
  {
   "cell_type": "code",
   "execution_count": 48,
   "metadata": {
    "scrolled": false
   },
   "outputs": [
    {
     "data": {
      "image/png": "[encoded data removed]",
      "text/plain": [
       "<Figure size 720x720 with 1 Axes>"
      ]
     },
     "metadata": {
      "needs_background": "light"
     },
     "output_type": "display_data"
    }
   ],
   "source": [
    "plt.imshow(maps_no_dust['out']['xHI'][15,...]-maps_dust['out']['xHI'][15,...], norm = LogNorm());"
   ]
  },
  {
   "cell_type": "code",
   "execution_count": 47,
   "metadata": {},
   "outputs": [
    {
     "data": {
      "text/plain": [
       "False"
      ]
     },
     "execution_count": 47,
     "metadata": {},
     "output_type": "execute_result"
    }
   ],
   "source": [
    "(maps_no_dust['out']['xHI']-maps_dust['out']['xHI']==0).all()"
   ]
  },
  {
   "cell_type": "code",
   "execution_count": null,
   "metadata": {},
   "outputs": [],
   "source": []
  }
 ],
 "metadata": {
  "kernelspec": {
   "display_name": "envcrash",
   "language": "python",
   "name": "envcrash"
  },
  "language_info": {
   "codemirror_mode": {
    "name": "ipython",
    "version": 3
   },
   "file_extension": ".py",
   "mimetype": "text/x-python",
   "name": "python",
   "nbconvert_exporter": "python",
   "pygments_lexer": "ipython3",
   "version": "3.8.2"
  }
 },
 "nbformat": 4,
 "nbformat_minor": 4
}
