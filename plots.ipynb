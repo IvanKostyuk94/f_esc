{
 "cells": [
  {
   "cell_type": "code",
   "execution_count": 4,
   "metadata": {},
   "outputs": [],
   "source": [
    "import matplotlib.pyplot as plt\n",
    "import importlib.util\n",
    "import pandas as pd\n",
    "import numpy as np\n",
    "import h5py\n",
    "import tables\n",
    "import tensorflow as tf\n",
    "import os\n",
    "from mpl_toolkits.axes_grid1 import make_axes_locatable\n",
    "from crashpy.dataclasses.simulation import LoadedSimulation as Sim\n",
    "from get_spectrum import get_spectra\n",
    "\n",
    "import warnings\n",
    "warnings.filterwarnings('ignore')\n",
    "\n",
    "from IPython.core.interactiveshell import InteractiveShell\n",
    "\n",
    "# pretty print all cell's output and not just the last one\n",
    "InteractiveShell.ast_node_interactivity = \"all\""
   ]
  },
  {
   "cell_type": "code",
   "execution_count": 224,
   "metadata": {},
   "outputs": [
    {
     "data": {
      "text/html": [
       "<style>.container { width:75% !important; }</style>"
      ],
      "text/plain": [
       "<IPython.core.display.HTML object>"
      ]
     },
     "metadata": {},
     "output_type": "display_data"
    }
   ],
   "source": [
    "from IPython.core.display import display, HTML\n",
    "display(HTML(\"<style>.container { width:75% !important; }</style>\"))"
   ]
  },
  {
   "cell_type": "code",
   "execution_count": 5,
   "metadata": {},
   "outputs": [],
   "source": [
    "import matplotlib\n",
    "matplotlib.rc('xtick', labelsize=20) \n",
    "matplotlib.rc('ytick', labelsize=20) \n",
    "plt.rcParams[\"figure.figsize\"] = (20,80)"
   ]
  },
  {
   "cell_type": "markdown",
   "metadata": {},
   "source": [
    "### Function which creates f_esc vs. halo mass scatter plots with a third halo property used for the color scale\n",
    "\n",
    "- **df_dust**: Dataframe with the runs taking dust into account\n",
    "- **df_no_dust**: Dataframe which does not take dust into account\n",
    "- **halo_prop**: List of halo-property keys relative to which the relative escape fraction is plotted \n",
    "- **x_axis**: Quantity to be plotted on the x-axis. Usually chosen to be the Halo Mass\n",
    "- **y_axis**: Quantity to be plotted on the y-axis. With the obvious choice being the escape fraction.\n",
    "- **titles**: List of titles for the individual plots. Should have the same length as halo_prop. By default no titles are used.\n",
    "- **norms**: Norms for the color scale. Might be usefull if the colorscales are to be kept consistend across differen plots. By default the norms are determined by the range of the given halo property\n",
    "- **labels**: Labels for the color scales. By default the corresponding halo_prop key is used\n",
    "- **lognorm**: Use a logarithmic norm for the colorscale. By default this is set to False\n",
    "- **relative**: Should the colorscale be normalized by the the median of the quantity"
   ]
  },
  {
   "cell_type": "code",
   "execution_count": 6,
   "metadata": {},
   "outputs": [],
   "source": [
    "def plot_color_coded(dataframe, halo_prop, x_axis='HaloMass', y_axis='f_esc', \n",
    "                     titles=None, norms=None, labels=None, lognorm=False, relative=True):\n",
    "    \n",
    "    if x_axis=='HaloMass':\n",
    "        x_label='Halo Mass [$10^{10}M_{\\mathrm{sun}}$]'\n",
    "    elif x_axis=='StarMass':\n",
    "        x_label='Stellar Mass [$10^{6}M_{\\mathrm{sun}}$]'\n",
    "    \n",
    "    figure, subfigs = plt.subplots(int(np.ceil(len(halo_prop)/2)),2)\n",
    "    if labels==None:\n",
    "        if relative:\n",
    "            labels = []\n",
    "            for prop in halo_prop:\n",
    "                labels.append(f'{prop}/median({prop})')\n",
    "        else:\n",
    "            labels=halo_prop\n",
    "    for i,prop in enumerate(halo_prop):\n",
    "        color_data = dataframe.loc[:,prop]#/dataframe[x_axis]\n",
    "        if relative:\n",
    "            color_data = color_data/color_data.median()\n",
    "        if norms == None:\n",
    "            norm = plt.Normalize(color_data.min(), color_data.max())\n",
    "        else:\n",
    "            norm = norms[i]\n",
    "        if lognorm==True:\n",
    "            subfig = subfigs[i//2,i%2].scatter(dataframe.loc[:,x_axis], dataframe.loc[:,y_axis], \n",
    "                                        c=color_data, s=30, norm=matplotlib.colors.LogNorm())\n",
    "        else:\n",
    "            subfig = subfigs[i//2,i%2].scatter(dataframe.loc[:,x_axis], dataframe.loc[:,y_axis], c=color_data,\n",
    "                                        s=30, norm=norm)\n",
    "        subfigs[i//2,i%2].set_xscale('log')\n",
    "        subfigs[i//2,i%2].set_yscale('symlog', linthreshy=1e-3)\n",
    "        subfigs[i//2,i%2].set_ylim(0.0,1.0)\n",
    "        \n",
    "        bar = figure.colorbar(subfig, ax=subfigs[i//2,i%2])\n",
    "        \n",
    "        subfigs[i//2,i%2].set_ylabel('$f_{esc}$', size='25')\n",
    "        bar.set_label(labels[i], fontsize=25)\n",
    "        #if i==len(halo_prop)-1:\n",
    "        subfigs[i//2,i%2].set_xlabel(x_label, size='25')\n",
    "        \n",
    "        if titles!=None:\n",
    "            subfigs[i//2,i%2].set_title(titles[i],fontsize=30)\n",
    "        plt.rcParams[\"figure.figsize\"] = (20,6*len(halo_prop))\n",
    "            \n",
    "    plt.show();"
   ]
  },
  {
   "cell_type": "markdown",
   "metadata": {},
   "source": [
    "### A simple function which returns the intersection of the dust and no_dust run dataframes. Since the halos have to overlap in all properties but the scape fraction all these quantities are automatically overlayed\n",
    "\n",
    "- **df_dust**: Dataframe with the runs taking dust into account\n",
    "- **df_no_dust**: Dataframe which does not take dust into account"
   ]
  },
  {
   "cell_type": "code",
   "execution_count": 7,
   "metadata": {
    "scrolled": true
   },
   "outputs": [],
   "source": [
    "def intersect(df_dust, df_no_dust):\n",
    "    df_intersect = pd.merge(df_dust, df_no_dust, how='inner', on=['HaloMass', 'StarMass'], suffixes=('_dust', '_no_dust'), left_index=True)\n",
    "    return df_intersect"
   ]
  },
  {
   "cell_type": "markdown",
   "metadata": {},
   "source": [
    "### Function which plots the relative diviations of escape fractions between radiation-transfer runs which take dust into account and the ones which do not with respect to different properties of the halos:\n",
    "- **df_dust**: Dataframe with the runs taking dust into account\n",
    "- **df_no_dust**: Dataframe which does not take dust into account\n",
    "- **halo_prop**: List of halo-property keys relative to which the relative escape fraction is plotted \n",
    "- **x_axis_labels**: List of labels for the x-axis, should have the same length as halo_prop. By default halo_prop keys are used.\n",
    "- **titles**: List of titles for the individual plots. Should have the same length as halo_prop. By default no titles are used. "
   ]
  },
  {
   "cell_type": "code",
   "execution_count": 8,
   "metadata": {},
   "outputs": [],
   "source": [
    "def plot_comparisons(df_dust, df_no_dust, halo_prop, x_axis_labels=None, titles=None):\n",
    "    dataframe = intersect(df_dust, df_no_dust)\n",
    "    print(dataframe.columns)\n",
    "    \n",
    "    if x_axis_labels == None:\n",
    "        x_axis_labels = halo_prop\n",
    "    \n",
    "    figure, subfigs = plt.subplots(len(halo_prop))\n",
    "    rel_difference = (dataframe.loc[:,'f_esc_no_dust']-dataframe.loc[:,'f_esc_dust'])#/dataframe['f_esc_no_dust']\n",
    "    for i,prop in enumerate(halo_prop):\n",
    "        data = dataframe.loc[:,prop]    \n",
    "            \n",
    "        subfigs[i].scatter(dataframe.loc[:,prop], rel_difference, s=200)\n",
    "        subfigs[i].set_xscale('log')\n",
    "        subfigs[i].set_xlim((dataframe.loc[:,prop].min(),dataframe.loc[:,prop].max()))\n",
    "        \n",
    "        subfigs[i].set_ylabel(r'$\\frac{f_{\\mathrm{esc}_{\\mathrm{no\\_dust}}}-f_{\\mathrm{esc}_{\\mathrm{dust}}}}{f_{\\mathrm{esc}_{\\mathrm{no\\_dust}}}}$', size='25')\n",
    "        subfigs[i].set_xlabel(x_axis_labels[i], size='25')\n",
    "\n",
    "        #subfigs[i].legend(fontsize=20)\n",
    "        \n",
    "        if titles!=None:\n",
    "            subfigs[i].set_title(titles[i],fontsize=30)\n",
    "        plt.rcParams[\"figure.figsize\"] = (20,20*len(halo_prop))\n",
    "    plt.show();"
   ]
  },
  {
   "cell_type": "markdown",
   "metadata": {},
   "source": [
    "### Function which plots the average or median frequency dependent escape fraction:\n",
    "- **dataframes**: List of dataframes for which the escape fraction needs to be analysed\n",
    "- **mode**: Do you want to take the mean or the average over the halo escape fractions\n",
    "- **labels**: Labels for the graphs, by default they will be named 'dataframe n' where n is the number of the dataframe as it appears in the dataframes list"
   ]
  },
  {
   "cell_type": "code",
   "execution_count": 9,
   "metadata": {},
   "outputs": [],
   "source": [
    "def freq_fesc(dataframes, mode='mean', labels=None):\n",
    "    plt.rcParams[\"figure.figsize\"] = (30,20)\n",
    "    #Set natural constants to convert photon frequency to energy in eV\n",
    "    h = 6.62607004e-34\n",
    "    e = 1.60217662e-19\n",
    "    if labels == None:\n",
    "        labels=[]\n",
    "        for i in range(len(dataframes)):\n",
    "            labels.append(f'dataframe {i+1}')\n",
    "    for i, dataframe in enumerate(dataframes):\n",
    "        energies = dataframe.iloc[0]['frequencies']*h/e\n",
    "        print(np.min(energies))\n",
    "        print(np.max(energies))\n",
    "        print(energies[-1])\n",
    "        print(energies[-2])\n",
    "        per_freq_data = np.vstack(dataframe.loc[:,'per_freq'].to_numpy())\n",
    "        error = np.std(per_freq_data, axis=0)/np.sqrt(len(per_freq_data))\n",
    "\n",
    "        if mode == 'mean':\n",
    "            values = np.mean(per_freq_data, axis=0)\n",
    "        elif mode == 'median':\n",
    "            values = np.median(per_freq_data, axis=0)\n",
    "        else:\n",
    "            raise ValueError('The possible modes are \"mean\" and \"median\"')\n",
    "        plt.ylim(0,0.35)\n",
    "        plt.errorbar(energies, values, yerr=error, linewidth=5, elinewidth=1, capsize=10, label=str(labels[i]))\n",
    "    plt.xlabel(r'$E[\\mathrm{eV}]$', fontsize = 45)\n",
    "    plt.ylabel(r'$f_{\\mathrm{esc}}$', fontsize = 45)\n",
    "    plt.legend(fontsize=30)\n",
    "    return "
   ]
  },
  {
   "cell_type": "markdown",
   "metadata": {},
   "source": [
    "### Funktion which calculates a histogram for the single source escape fraction distribution:\n",
    "- **dataframe**: Dataframe containing all the single source escape fractions\n",
    "- **bin_edges**: Desired bin edges for the histogram, by default the incorporated list of edges is used\n",
    "- **bin_labels**: Labels for the bins, if bin_edges are provided but not the labels the bins will only be numerater\n",
    "- **plot**: The function creates a plot of the histogram if this variable is set to 'True'\n",
    "- **return_hist**: If set to true this function returns the histogram, which can be further processed by other functions"
   ]
  },
  {
   "cell_type": "code",
   "execution_count": 10,
   "metadata": {},
   "outputs": [],
   "source": [
    "def single_source_dist(dataframe, bin_edges=None, bin_labels=None, plot=True, return_hist=False):\n",
    "    plt.rcParams[\"figure.figsize\"] = (30,20)\n",
    "    if bin_edges == None:\n",
    "        bin_edges = [-np.inf, 1e-5, 1e-4, 1e-3, 1e-2, .05, .1, .2, .3, .4, .5, .6, .7, .8, .9, 1.]\n",
    "        bin_labels = ['<1e-5', '<1e-4', '<1e-3', '<1e-2', '<0.05', '<0.1', '<0.2', '<0.3', '<0.4', '<0.5', '<0.6', \n",
    "                  '<0.7', '<0.8', '<0.9', '<1']\n",
    "        \n",
    "    if bin_edges != None and bin_labels == None:\n",
    "        bin_labels = np.arange(hist_size)\n",
    "    \n",
    "    per_source = np.hstack(dataframe.loc[:,'per_source'].to_numpy())\n",
    "    hist, _ = np.histogram(per_source, bins=bin_edges)\n",
    "    norm_hist=hist/hist.sum()\n",
    "    x_axis = np.arange(hist.size) \n",
    "    \n",
    "    if plot:\n",
    "        plt.bar(x_axis, norm_hist, width=0.5, label=f'Samplesize {hist.sum()} samples')\n",
    "        plt.ylabel(r'$P(f_\\mathrm{esc})$', size='30')\n",
    "        plt.xlabel(r'$f_{\\mathrm{esc}}$')\n",
    "        plt.xticks(x_axis, bin_labels)\n",
    "        plt.legend(fontsize=35)\n",
    "    if return_hist:\n",
    "        return norm_hist"
   ]
  },
  {
   "cell_type": "markdown",
   "metadata": {},
   "source": [
    "### Funktion to plot several histograms for the escape fraction together for comparison:\n",
    "- **histograms**: Histograms to be plotted\n",
    "- **labels**: Labels for the individual histograms\n",
    "- **x_axis**: Labels for the x-axis"
   ]
  },
  {
   "cell_type": "code",
   "execution_count": 11,
   "metadata": {},
   "outputs": [],
   "source": [
    "def compare_hist(histograms, labels=None, bin_labels=None):\n",
    "    num = len(histograms)\n",
    "    width = 1./(num+1)\n",
    "    steps_to_left = np.floor(len(histograms)/2)\n",
    "    if labels==None:\n",
    "        labels = np.arange(len(histograms))\n",
    "    if bin_labels==None:\n",
    "        bin_labels = np.arange(histograms[0].size)\n",
    "    for i, hist in enumerate(histograms):\n",
    "        plt.bar(np.arange(hist.size)-width*(steps_to_left-i), hist, width = width, label=labels[i])\n",
    "    \n",
    "    x_axis = np.arange(histograms[0].size)\n",
    "    plt.xticks(x_axis, bin_labels)\n",
    "    plt.legend(fontsize=35)\n",
    "    plt.ylabel(r'$P(f_\\mathrm{esc})$', size= 40)\n",
    "    plt.xlabel(r'$f_{\\mathrm{esc}}$', size = 40)"
   ]
  },
  {
   "cell_type": "markdown",
   "metadata": {},
   "source": [
    "### Funktion which generates single source escape fraction histograms from different dataframes for comparisons:\n",
    "- **dataframes**: List of dataframes the single source esape fractions of which should be compared\n",
    "- **bin_edges**: Desired bin edges for the histogram, by default the incorporated list of edges is used\n",
    "- **bin_labels**: Labels for the bins, if bin_edges are provided but not the labels the bins will only be numerater\n",
    "- **labels**: Labels in the dataframe used for comparison"
   ]
  },
  {
   "cell_type": "code",
   "execution_count": 12,
   "metadata": {},
   "outputs": [],
   "source": [
    "def compare_single_source_dist(dataframes, bin_edges=None, bin_labels=None, labels=None):\n",
    "    if bin_edges == None:\n",
    "        bin_edges = [-np.inf, 1e-5, 1e-4, 1e-3, 1e-2, .05, .1, .2, .3, .4, .5, .6, .7, .8, .9, 1.]\n",
    "    if bin_labels == None:\n",
    "        bin_labels = ['<1e-5', '<1e-4', '<1e-3', '<1e-2', '<0.05', '<0.1', '<0.2', '<0.3', \n",
    "                      '<0.4', '<0.5', '<0.6', '<0.7', '<0.8', '<0.9', '<1']\n",
    "    histograms = []\n",
    "    for dataframe in dataframes:\n",
    "        hist = single_source_dist(dataframe, bin_edges=bin_edges, bin_labels=bin_labels, \n",
    "                                  plot=False, return_hist=True)\n",
    "        histograms.append(hist)\n",
    "        \n",
    "    compare_hist(histograms, labels=labels, bin_labels=bin_labels)\n",
    "    "
   ]
  },
  {
   "cell_type": "markdown",
   "metadata": {},
   "source": [
    "### Helper function which that creates a table containing the halos in each mass bin and at each redshift that was processed by CRASH to be directly inserted into Latex:\n",
    "\n",
    "It is not very general and strictly build for the three settings and redshift scenario I am currently using"
   ]
  },
  {
   "cell_type": "code",
   "execution_count": 191,
   "metadata": {},
   "outputs": [],
   "source": [
    "def count_halos(dataframes):\n",
    "    dataframe_dict = {}\n",
    "    for num, dataframe in enumerate(dataframes):\n",
    "        edges = 10**np.linspace(6.0, 11.0, 51)\n",
    "        redshift_dict = {}\n",
    "        for z in [6,8,10]:\n",
    "            counts = []\n",
    "            mass_bins = []\n",
    "            for i in range(len(edges)-1):\n",
    "                star_mass = dataframe.HaloMass*dataframe.FractionStars*1e10/0.6774 \n",
    "                filt = (star_mass<edges[i+1]) & (star_mass>edges[i]) & (dataframe.z==z)\n",
    "                mass_bins.append(f'{edges[i]/10**6:.2f}-{edges[i+1]/10**6:.2f}')\n",
    "                counts.append(len(dataframe[filt]))\n",
    "            dictionary = dict(zip(mass_bins[:35],counts[:35]))\n",
    "            redshift_dict[z] = dictionary\n",
    "            print(f'{num} at z={z}: {np.array(counts).sum()}')\n",
    "        dataframe_dict[num] = redshift_dict \n",
    "    for element in dictionary:\n",
    "        print(f'${element}$ \\\n",
    " & {dataframe_dict[0][6][element]} \\\n",
    " & {dataframe_dict[0][8][element]} \\\n",
    " & {dataframe_dict[0][10][element]} \\\n",
    " & {dataframe_dict[1][6][element]} \\\n",
    " & {dataframe_dict[1][8][element]} \\\n",
    " & {dataframe_dict[1][10][element]} \\\n",
    " & {dataframe_dict[2][6][element]} \\\n",
    " & {dataframe_dict[2][8][element]} \\\n",
    " & {dataframe_dict[2][10][element]} \\\\\\\\ \\n \\\\hline')"
   ]
  },
  {
   "cell_type": "markdown",
   "metadata": {},
   "source": [
    "### Function which calculates the total escape fraction for a whole data frame "
   ]
  },
  {
   "cell_type": "code",
   "execution_count": 14,
   "metadata": {},
   "outputs": [],
   "source": [
    "def get_tot_fesc(df):\n",
    "    escaped = 0\n",
    "    emitted = 0\n",
    "    for esc, em, it in zip(df['escaped_photons'],df['emitted_photons'], df['n_iterations']):\n",
    "        escaped += esc.sum()/it\n",
    "        emitted += em.sum()/it\n",
    "    return escaped/emitted "
   ]
  },
  {
   "cell_type": "markdown",
   "metadata": {},
   "source": [
    "###  Compare frequency dependent average  f_esc for subsets of a dataframe by subdividing the dataframe in bins along its variation in a given halo property\n",
    "- **df**: Dataframe for which you want to analyse the frequency dependent escape fraction\n",
    "- **halo_property**: Halo property the variation of which will be used to subdivide the dataframe\n",
    "- **bins**: Number of bins to subdivide the dataframe into, default:3\n",
    "- **mode**: Should f_esc be determined by the mean or the median of the set, defaulf:mean\n",
    "- **scale**: Should the bins be scaled linearly (lin) or logarithmically (log), default:'lin'"
   ]
  },
  {
   "cell_type": "code",
   "execution_count": 15,
   "metadata": {},
   "outputs": [],
   "source": [
    "def compare_prop_dep(df, halo_property, bins=3, mode='mean', scale='lin'):\n",
    "    min_value = df[halo_property].min()\n",
    "    max_value = df[halo_property].max()\n",
    "    \n",
    "    labels = []\n",
    "    sub_dfs = []\n",
    "    \n",
    "    if scale == 'lin':\n",
    "        bin_edges = np.linspace(min_value, max_value, bins+1)\n",
    "    elif scale == 'log':\n",
    "        bin_edges = np.logspace(np.log10(min_value), np.log10(max_value), bins+1)\n",
    "        \n",
    "    for i in range(bins):\n",
    "        filt = (df[halo_property] >= bin_edges[i]) & (df[halo_property] <= bin_edges[i+1])\n",
    "        sub_dfs.append(df[filt])\n",
    "        labels.append(f'{halo_property} = {bin_edges[i]:.3e}-{bin_edges[i+1]:.3e}')\n",
    "    freq_fesc(sub_dfs, mode=mode, labels=labels)\n",
    "    return"
   ]
  },
  {
   "cell_type": "markdown",
   "metadata": {},
   "source": [
    "### Plot scatter with median\n",
    "- **df**: Dataframe\n",
    "- **halo_property**: Halo property to use for the x-axis\n",
    "- **bins**: Number of bins aver which the escape fraction should be averaged, default:30\n",
    "- **mode**: Should f_esc be determined by the mean or the median of the set, defaulf:median"
   ]
  },
  {
   "cell_type": "code",
   "execution_count": 16,
   "metadata": {},
   "outputs": [],
   "source": [
    "def plot_scatter(df, prop='HaloMass', bins=30, mode='median'):\n",
    "    \n",
    "    if prop == 'HaloMass':\n",
    "        halo_prop = 'HaloMass'\n",
    "        x_label = 'Halo Mass [$10^{10}M_{\\mathrm{sun}}$]'\n",
    "    elif prop == 'StarMass':    \n",
    "        halo_prop = 'StarMass'\n",
    "        df['StarMass']= df['HaloMass']*df['FractionStars']*1e4\n",
    "        x_label = 'Stellar Mass [$10^{6}M_{\\mathrm{sun}}$]'\n",
    "    else:\n",
    "        raise ValueError(\"Only defined for the properties 'HaloMass' and 'StarMass'\")\n",
    "        \n",
    "    f_esc = df.loc[:,'f_esc']\n",
    "    x_values = df.loc[:,halo_prop]\n",
    "    edges = np.logspace(np.log10(x_values.min()),np.log10(x_values.max()), bins)\n",
    "    \n",
    "    means = []\n",
    "    error = []\n",
    "    centers = []\n",
    "    variance = []\n",
    "    for i in range(len(edges)-1):\n",
    "        sub_fesc = df[(edges[i]*(1-1e-10)<df[halo_prop]) & (df[halo_prop]<edges[i+1])]['f_esc']\n",
    "        centers.append(np.exp((np.log(edges[i+1])+np.log(edges[i]))/2.))\n",
    "        \n",
    "        if mode == 'median':\n",
    "            means.append(sub_fesc.median())\n",
    "        elif mode == 'mean':\n",
    "            means.append(sub_fesc.mean())\n",
    "    \n",
    "        error.append(sub_fesc.std()/np.sqrt(sub_fesc.shape[0]))\n",
    "        variance.append(sub_fesc.var())\n",
    "        \n",
    "    y_axis = 'f_esc' \n",
    "    y_label = '$f_\\mathrm{esc}$'\n",
    "\n",
    "    \n",
    "    f = plt.figure()\n",
    "    plt.subplots_adjust(hspace=0.001)\n",
    "\n",
    "    #ax1 = plt.subplot(311)\n",
    "    ax1 = plt.subplot2grid((3,1), (0,0), rowspan=2)\n",
    "    ax1.scatter(x_values, f_esc)\n",
    "    ax1.errorbar(centers, means, yerr=error, linewidth=4, elinewidth=2, capsize=10, color='red')\n",
    "    ax1.set_xscale('log')\n",
    "    ax1.set_yscale('symlog', linthreshy=1e-3)\n",
    "    ax1.set_ylim(0,1)\n",
    "    ax1.set_ylabel(y_label, size='25')\n",
    "\n",
    "    #ax2 = plt.subplot(312, sharex=ax1)\n",
    "    ax2 = plt.subplot2grid((3,1), (2,0), sharex=ax1)\n",
    "    ax2.plot(centers, variance)\n",
    "    ax2.set_ylabel('$\\mathrm{var}(f_\\mathrm{esc})$', size='25')\n",
    "    ax2.set_xlabel(x_label, size='25')\n",
    "    ax2.set_yscale('log')\n",
    "\n",
    "    xticklabels = ax1.get_xticklabels() + ax2.get_xticklabels()\n",
    "    plt.setp(xticklabels, visible=True)\n",
    "    plt.rcParams[\"figure.figsize\"] = (20,20)\n",
    "    plt.show();"
   ]
  },
  {
   "cell_type": "code",
   "execution_count": 17,
   "metadata": {},
   "outputs": [],
   "source": [
    "from crashpy.utilities import crashMemMap\n",
    "def redshift_to_snap(redshift):\n",
    "    correspondense = {6:'sn013', 8:'sn008', 10:'sn004'}\n",
    "    return correspondense[redshift]\n",
    "\n",
    "def get_simulation_path(halo_id, conf, redshift):\n",
    "    snap = redshift_to_snap(redshift)\n",
    "    conf_dir = os.path.join('/ptmp/mpa/mglatzle/TNG_f_esc', conf)\n",
    "    simulation_path =  os.path.join(conf_dir, f'run/L35n2160TNG/{snap}/g{halo_id}/Output/phys_ic00_rt05.out')\n",
    "    return simulation_path\n",
    "\n",
    "def get_H_map(halo):\n",
    "    return np.ones(halo[1].shape)-halo[1]\n",
    "\n",
    "def get_He_map(halo):\n",
    "    return np.ones(halo[1].shape)-halo[2]-halo[3]\n",
    "\n",
    "def get_slice(cube, center, axis):\n",
    "    if axis == 0:\n",
    "        return cube[center,...]\n",
    "    elif axis == 1:\n",
    "        return cube[:, center, :]\n",
    "    elif axis == 2:\n",
    "        return cube[:,:,center]\n",
    "    else:\n",
    "        raise ValueError('Axis number out of bounds')\n",
    "        \n",
    "def print_data(maps, props):\n",
    "    for i, prop in enumerate(props):\n",
    "        maxi = np.max(maps[i])\n",
    "        mini = np.min(maps[i])\n",
    "        average = np.average(maps[i])\n",
    "        median = np.median(maps[i])\n",
    "        print(f'''For {prop} the max value is {maxi:.2f}, the min value is {mini:.2f}\n",
    "        , the average is {average:.2f} and the median is {median:.2f}.''')\n",
    "        print('*'*85)\n",
    "    \n",
    "\n",
    "def get_maps(halo_id, conf, redshift, props, axis=0, get_data=True):\n",
    "    prop_dict = {'T':0, 'xHII':1, 'xHeII':2, 'xHeIII':3}\n",
    "    path = get_simulation_path(halo_id, conf, redshift) \n",
    "    halo = crashMemMap(path, 'all')\n",
    "    center = halo[0].shape[0]//2\n",
    "    \n",
    "    maps = []\n",
    "    for prop in props:\n",
    "        if prop in prop_dict:\n",
    "            if prop != 'T':\n",
    "                maps.append(halo[prop_dict[prop]])\n",
    "            else:\n",
    "                maps.append(np.log10(halo[prop_dict[prop]]))\n",
    "        elif prop == 'xHI':\n",
    "            maps.append(get_H_map(halo))\n",
    "        elif prop == 'xHeI':\n",
    "            maps.append(get_He_map(halo))\n",
    "        else:\n",
    "            raise ValueError(f'The property {prop} does not exist.')\n",
    "    \n",
    "    if get_data:\n",
    "        print(maps[0].shape)\n",
    "        print_data(maps, props)\n",
    "    \n",
    "    f, axarr = plt.subplots(int(np.ceil(len(props)/2)), 2)\n",
    "    for i,cube in enumerate(maps):\n",
    "        subfig = axarr[i//2, i%2].imshow(get_slice(cube, center, axis))\n",
    "        axarr[i//2, i%2].axis('off')\n",
    "        if props[i] != 'T':\n",
    "            axarr[i//2, i%2].set_title(props[i], size=30)\n",
    "        else:\n",
    "            axarr[i//2, i%2].set_title('log(T)', size=30)\n",
    "        divider = make_axes_locatable(axarr[i//2, i%2])\n",
    "        cax = divider.append_axes(\"right\", size=\"5%\", pad=0.1)\n",
    "        f.colorbar(subfig, cax=cax)\n",
    "    plt.tight_layout(h_pad=1)\n",
    "    plt.show()\n",
    "    return"
   ]
  },
  {
   "cell_type": "code",
   "execution_count": 211,
   "metadata": {},
   "outputs": [],
   "source": [
    "def get_bin_widths():\n",
    "    h = 6.62607004e-34\n",
    "    e = 1.60217662e-19\n",
    "    freq_path = '/ptmp/mpa/mglatzle/TNG_f_esc/fid2/BB_T1d4_L2d38_r67_DUST.ps'\n",
    "    freq = np.loadtxt(freq_path, skiprows=1)[1:,0]\n",
    "    bin_widths = []\n",
    "    centroids = []\n",
    "    for i in range(len(freq)-1):\n",
    "        bin_widths.append(freq[i+1]-freq[i])\n",
    "        centroids.append(freq[i]/2+freq[i+1]/2)\n",
    "    energies = np.array(centroids)*h/e    \n",
    "    return (np.array(bin_widths)*h/e, energies)\n",
    "\n",
    "def get_tot_photons(df,IDs=None,emitted=True):\n",
    "    if IDs==None:\n",
    "        IDs = df.index.values\n",
    "    tot_photons = np.zeros(df.loc[IDs[0]]['emitted_photons'].shape[0])\n",
    "    for ID in IDs:\n",
    "        if emitted:\n",
    "            photons = df.loc[ID]['emitted_photons']/df.loc[ID]['n_iterations']\n",
    "        else:\n",
    "            photons = df.loc[ID]['escaped_photons']/df.loc[ID]['n_iterations']\n",
    "        photons_cum = photons.sum(axis=1)\n",
    "        tot_photons += photons_cum\n",
    "    return tot_photons\n",
    "\n",
    "def get_spectrum(df, IDs=None, emitted=True):\n",
    "    bin_widths, energies = get_bin_widths()\n",
    "    tot_photons = get_tot_photons(df, IDs, emitted)\n",
    "    tot_photons_norm = tot_photons/tot_photons.sum()\n",
    "    spectrum = tot_photons_norm/bin_widths\n",
    "    return (energies, bin_widths, spectrum)\n",
    "\n",
    "def plot_spectra_comparison(df, IDs=None):\n",
    "    energies, widths, spec_em = get_spectrum(df, IDs=IDs, emitted=True)\n",
    "    energies, widths, spec_es = get_spectrum(df, IDs=IDs, emitted=False)\n",
    "    plt.bar(energies, spec_em, width=widths, alpha=0.5, label='emitted spectrum')\n",
    "    plt.bar(energies, spec_es, width=widths, alpha=0.5, label='escaped spectrum')\n",
    "    plt.yscale('log')\n",
    "    plt.xlabel('$E_\\gamma$[eV]', fontsize=35)\n",
    "    plt.ylabel('$P(\\gamma)$', fontsize=35)\n",
    "    plt.legend(fontsize=25)\n",
    "    plt.rcParams[\"figure.figsize\"] = (20,20);\n",
    "    return"
   ]
  },
  {
   "cell_type": "code",
   "execution_count": 149,
   "metadata": {},
   "outputs": [],
   "source": [
    "def update_df(df):\n",
    "    #df.set_index('ID', inplace=True)\n",
    "    df['Q0/HaloMass']=df['Q0']/df['HaloMass']\n",
    "    df['R_v^3/HaloMass']=df['HaloRadii']**3/df['HaloMass']\n",
    "    df['StarMass']= df['HaloMass']*df['FractionStars']*1e4\n",
    "    return"
   ]
  },
  {
   "cell_type": "code",
   "execution_count": 150,
   "metadata": {},
   "outputs": [],
   "source": [
    "df_dust = pd.read_hdf('df_f_esc_freq.h5', 'dust')\n",
    "update_df(df_dust)\n",
    "\n",
    "df_no_dust = pd.read_hdf('df_f_esc_freq.h5', 'no_dust')\n",
    "update_df(df_no_dust)\n",
    "\n",
    "df_full_esc = pd.read_hdf('df_full_esc_freq.h5', 'no_dust')\n",
    "update_df(df_full_esc)"
   ]
  },
  {
   "cell_type": "code",
   "execution_count": 206,
   "metadata": {
    "scrolled": true
   },
   "outputs": [
    {
     "data": {
      "text/plain": [
       "count    3124.000000\n",
       "mean       27.031040\n",
       "std        49.825167\n",
       "min         0.678468\n",
       "25%         2.245664\n",
       "50%         7.421248\n",
       "75%        27.184805\n",
       "max       697.413906\n",
       "Name: StarMass, dtype: float64"
      ]
     },
     "execution_count": 206,
     "metadata": {},
     "output_type": "execute_result"
    }
   ],
   "source": [
    "df_no_dust.StarMass.describe()"
   ]
  },
  {
   "cell_type": "code",
   "execution_count": 221,
   "metadata": {},
   "outputs": [],
   "source": [
    "filtz6 = df_no_dust.z==6\n",
    "filtz8 = df_no_dust.z==8\n",
    "filtz10 = df_no_dust.z==10\n",
    "filt_f_esc = df_no_dust.f_esc > 0.1\n",
    "filt_f_esc_small = df_no_dust.f_esc < 0.01\n",
    "filt_star = df_no_dust.StarMass > 100\n",
    "filt_star_small = df_no_dust.StarMass < 1"
   ]
  },
  {
   "cell_type": "code",
   "execution_count": 222,
   "metadata": {
    "scrolled": false
   },
   "outputs": [
    {
     "data": {
      "image/png": "[encoded data removed]",
      "text/plain": [
       "<Figure size 1440x1440 with 1 Axes>"
      ]
     },
     "metadata": {
      "needs_background": "light"
     },
     "output_type": "display_data"
    }
   ],
   "source": [
    "plot_spectra_comparison(df_no_dust[filt_star])"
   ]
  },
  {
   "cell_type": "code",
   "execution_count": 223,
   "metadata": {},
   "outputs": [
    {
     "data": {
      "image/png": "[encoded data removed]",
      "text/plain": [
       "<Figure size 1440x1440 with 1 Axes>"
      ]
     },
     "metadata": {
      "needs_background": "light"
     },
     "output_type": "display_data"
    }
   ],
   "source": [
    "plot_spectra_comparison(df_no_dust[filt_star_small])"
   ]
  },
  {
   "cell_type": "code",
   "execution_count": null,
   "metadata": {},
   "outputs": [],
   "source": [
    "for i,row in intersect(df_dust, df_no_dust).iterrows():\n",
    "    if row['f_esc_no_dust']-row['f_esc_dust']<-0.10:\n",
    "        print(i)\n",
    "        print(row['z'])"
   ]
  },
  {
   "cell_type": "code",
   "execution_count": 200,
   "metadata": {},
   "outputs": [],
   "source": [
    "halo_props = ['FractionDust', 'aStar', 'Q0/HaloMass', 'R_v^3/HaloMass', 'Temperature', 'xHII', 'xHeII', 'xHeIII']"
   ]
  },
  {
   "cell_type": "code",
   "execution_count": null,
   "metadata": {},
   "outputs": [],
   "source": []
  }
 ],
 "metadata": {
  "kernelspec": {
   "display_name": "envcrash",
   "language": "python",
   "name": "envcrash"
  },
  "language_info": {
   "codemirror_mode": {
    "name": "ipython",
    "version": 3
   },
   "file_extension": ".py",
   "mimetype": "text/x-python",
   "name": "python",
   "nbconvert_exporter": "python",
   "pygments_lexer": "ipython3",
   "version": "3.8.2"
  }
 },
 "nbformat": 4,
 "nbformat_minor": 2
}
