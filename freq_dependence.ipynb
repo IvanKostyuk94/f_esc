{
 "cells": [
  {
   "cell_type": "code",
   "execution_count": 1,
   "metadata": {},
   "outputs": [],
   "source": [
    "import matplotlib.pyplot as plt\n",
    "import importlib.util\n",
    "import pandas as pd\n",
    "import numpy as np\n",
    "import os\n",
    "from mpl_toolkits.axes_grid1 import make_axes_locatable\n",
    "import matplotlib\n",
    "\n",
    "import warnings\n",
    "warnings.filterwarnings('ignore')\n",
    "\n",
    "from IPython.core.interactiveshell import InteractiveShell\n",
    "\n",
    "# pretty print all cell's output and not just the last one\n",
    "InteractiveShell.ast_node_interactivity = \"all\"\n",
    "import illustris_python as il"
   ]
  },
  {
   "cell_type": "code",
   "execution_count": 2,
   "metadata": {},
   "outputs": [
    {
     "data": {
      "text/html": [
       "<style>.container { width:75% !important; }</style>"
      ],
      "text/plain": [
       "<IPython.core.display.HTML object>"
      ]
     },
     "metadata": {},
     "output_type": "display_data"
    }
   ],
   "source": [
    "from IPython.core.display import display, HTML\n",
    "display(HTML(\"<style>.container { width:75% !important; }</style>\"))"
   ]
  },
  {
   "cell_type": "code",
   "execution_count": 3,
   "metadata": {},
   "outputs": [],
   "source": [
    "def build_df_comparison(df_arr):\n",
    "    ID = []\n",
    "    z = []\n",
    "    HaloMass = []\n",
    "    Metallicity = []\n",
    "    FractionStars = []\n",
    "    FractionGas = []\n",
    "    FractionDust = []\n",
    "    Q0 = []\n",
    "    aStar = []\n",
    "    HaloRadii = []\n",
    "    Q0_HaloMass = []\n",
    "    R_v_3_HaloMass = []\n",
    "    StarMass = []\n",
    "    f_esc_no_dust = []\n",
    "    f_esc_full = []\n",
    "    f_esc_dust = []\n",
    "\n",
    "    for _, element in df_arr[1].iterrows():\n",
    "        halo_exist = []\n",
    "        for df in df_arr:\n",
    "            exist_in_df = len(df[(df.z==element.z)&(df.ID==element.ID)])\n",
    "            halo_exist.append(exist_in_df)\n",
    "        halo_exist = np.array(halo_exist)\n",
    "\n",
    "        if ((halo_exist==1).all()):\n",
    "            ID.append(element.ID)\n",
    "            z.append(element.z)\n",
    "            HaloMass.append(element.HaloMass)\n",
    "            Metallicity.append(element.Metallicity)\n",
    "            FractionStars.append(element.FractionStars)\n",
    "            FractionGas.append(element.FractionGas)\n",
    "            FractionDust.append(element.FractionDust)\n",
    "            Q0.append(element.Q0)\n",
    "            aStar.append(element.aStar)\n",
    "            HaloRadii.append(element.HaloRadii)\n",
    "            Q0_HaloMass.append(element['Q0/HaloMass'])\n",
    "            R_v_3_HaloMass.append(element['R_v^3/HaloMass'])\n",
    "            StarMass.append(element.StarMass)\n",
    "\n",
    "            f_esc_no_dust.append(float(df_arr[0][(df_arr[0].z==element.z)&(df_arr[0].ID==element.ID)].f_esc))\n",
    "            f_esc_full.append(float(df_arr[1][(df_arr[1].z==element.z)&(df_arr[1].ID==element.ID)].f_esc))\n",
    "            f_esc_dust.append(float(df_arr[2][(df_arr[2].z==element.z)&(df_arr[2].ID==element.ID)].f_esc))\n",
    "    df_comparison = pd.DataFrame({'ID':ID, 'z':z, 'HaloMass':HaloMass, 'Metallicity':Metallicity, 'FractionStars':FractionStars, 'FractionGas':FractionGas, 'FractionDust':FractionDust, \n",
    "                                  'Q0':Q0, 'aStar':aStar, 'HaloRadii':HaloRadii,'Q0/HaloMass':Q0_HaloMass, 'R_v^3/HaloMass':R_v_3_HaloMass, 'StarMass':StarMass,\n",
    "                                  'f_esc_no_dust':f_esc_no_dust, 'f_esc_full':f_esc_full, 'f_esc_dust':f_esc_dust})\n",
    "    return df_comparison"
   ]
  },
  {
   "cell_type": "code",
   "execution_count": 4,
   "metadata": {},
   "outputs": [],
   "source": [
    "def update_df(df):\n",
    "    #df.set_index('ID', inplace=True)\n",
    "    df['Q0/HaloMass']=df['Q0']/df['HaloMass']\n",
    "    df['R_v^3/HaloMass']=df['HaloRadii']**3/df['HaloMass']\n",
    "    df['StarMass']= df['HaloMass']*df['FractionStars']*1e4\n",
    "    return\n",
    "\n",
    "def get_dataframes():\n",
    "    df_dust = pd.read_hdf('df_f_esc_freq.h5', 'dust')\n",
    "    update_df(df_dust)\n",
    "\n",
    "    df_no_dust = pd.read_hdf('df_f_esc_freq.h5', 'no_dust')\n",
    "    update_df(df_no_dust)\n",
    "\n",
    "    df_full_esc = pd.read_hdf('df_full_esc_freq.h5', 'no_dust')\n",
    "    update_df(df_full_esc)\n",
    "    df_arr = [df_no_dust, df_full_esc, df_dust]\n",
    "    return df_arr"
   ]
  },
  {
   "cell_type": "code",
   "execution_count": 5,
   "metadata": {},
   "outputs": [],
   "source": [
    "def plot_scatter(df, prop='StarMass', bins=20, mode='median', abs_esc=False):\n",
    "    \n",
    "    if prop == 'HaloMass':\n",
    "        halo_prop = 'HaloMass'\n",
    "        x_label = 'Halo Mass [$10^{10}M_{\\mathrm{sun}}$]'\n",
    "    elif prop == 'StarMass':    \n",
    "        halo_prop = 'StarMass'\n",
    "        x_label = 'Stellar Mass [$10^{6}M_{\\mathrm{sun}}$]'\n",
    "    else:\n",
    "        raise ValueError(\"Only defined for the properties 'HaloMass' and 'StarMass'\")\n",
    "    \n",
    "    if abs_esc:\n",
    "        loc_escs = np.array([0.1,0.3,0.5,0.7,1.0])\n",
    "    else:\n",
    "        loc_escs = np.ones(5)\n",
    "    \n",
    "    x_values = df.loc[:,halo_prop]\n",
    "    edges = np.logspace(np.log10(x_values.min()),np.log10(x_values.max()), bins)\n",
    "    f_escs = ['f_esc_no_dust', 'f_esc_full', 'f_esc_dust']\n",
    "    labels = ['no dust', 'full escape', 'dust', '0.7', '1.0']\n",
    "    \n",
    "    fig, ax1 = plt.subplots()\n",
    "    for j, esc in enumerate(f_escs):     \n",
    "        means = []\n",
    "        error = []\n",
    "        centers = []\n",
    "        variance = []\n",
    "        for i in range(len(edges)-1):\n",
    "            sub_fesc = df[(edges[i]*(1-1e-10)<df[halo_prop]) & (df[halo_prop]<edges[i+1])][esc]*loc_escs[j]\n",
    "            centers.append(np.exp((np.log(edges[i+1])+np.log(edges[i]))/2.))\n",
    "\n",
    "            if mode == 'median':\n",
    "                means.append(sub_fesc.median())\n",
    "            elif mode == 'mean':\n",
    "                means.append(sub_fesc.mean())\n",
    "\n",
    "            error.append(sub_fesc.std()/np.sqrt(sub_fesc.shape[0]))\n",
    "            variance.append(sub_fesc.var())\n",
    "            \n",
    "        #ax1.scatter(x_values, f_esc)\n",
    "        ax1.errorbar(centers, means, yerr=error, linewidth=3, elinewidth=2, capsize=10, label='$f_\\mathrm{esc,loc}=$'+labels[j])\n",
    "    ax1.set_xscale('log')\n",
    "    ax1.set_yscale('symlog', linthreshy=1e-3)\n",
    "    ax1.set_ylim(0,1)\n",
    "    ax1.set_ylabel(r'$ \\langle f_\\mathrm{esc} \\rangle $', size=35)\n",
    "    if prop== 'StarMass':\n",
    "        ax1.set_xlabel('$M_\\mathrm{star}[10^6M_\\mathrm{sun}]$', size=35)\n",
    "    elif prop == 'HaloMass':\n",
    "        ax1.set_xlabel('$M_\\mathrm{halo}[10^{10}M_\\mathrm{sun}]$', size=35)\n",
    "    ax1.legend(fontsize=25)\n",
    "    plt.rcParams[\"figure.figsize\"] = (20,20)\n",
    "    plt.show();"
   ]
  },
  {
   "cell_type": "code",
   "execution_count": 6,
   "metadata": {},
   "outputs": [],
   "source": [
    "def intersect(df_dust, df_no_dust):\n",
    "    df_intersect = pd.merge(df_dust, df_no_dust, how='inner', on=['HaloMass', 'StarMass'], suffixes=('_dust', '_no_dust'), left_index=True)\n",
    "    return df_intersect"
   ]
  },
  {
   "cell_type": "code",
   "execution_count": 7,
   "metadata": {},
   "outputs": [],
   "source": [
    "def plot_comparisons(df_dust, df_no_dust, halo_prop=['HaloMass', 'StarMass'], x_axis_labels=None, titles=None):\n",
    "    dataframe = intersect(df_dust, df_no_dust)\n",
    "    \n",
    "    if x_axis_labels == None:\n",
    "        x_axis_labels = halo_prop\n",
    "    \n",
    "    figure, subfigs = plt.subplots(len(halo_prop))\n",
    "    rel_difference = (dataframe.loc[:,'f_esc_no_dust']-dataframe.loc[:,'f_esc_dust'])#/dataframe['f_esc_no_dust']\n",
    "    for i,prop in enumerate(halo_prop):\n",
    "        data = dataframe.loc[:,prop]    \n",
    "            \n",
    "        subfigs[i].scatter(dataframe.loc[:,prop], rel_difference, s=200)\n",
    "        subfigs[i].set_xscale('log')\n",
    "        subfigs[i].set_xlim((dataframe.loc[:,prop].min(),dataframe.loc[:,prop].max()))\n",
    "        \n",
    "        #subfigs[i].set_ylabel(r'$\\frac{f_{\\mathrm{esc}_{\\mathrm{no\\_dust}}}-f_{\\mathrm{esc}_{\\mathrm{dust}}}}{f_{\\mathrm{esc}_{\\mathrm{no\\_dust}}}}$', size='25')\n",
    "        subfigs[i].set_xlabel(x_axis_labels[i], size='25')\n",
    "\n",
    "        #subfigs[i].legend(fontsize=20)\n",
    "        \n",
    "        if titles!=None:\n",
    "            subfigs[i].set_title(titles[i],fontsize=30)\n",
    "        plt.rcParams[\"figure.figsize\"] = (20,20*len(halo_prop))\n",
    "    plt.show();"
   ]
  },
  {
   "cell_type": "code",
   "execution_count": 8,
   "metadata": {},
   "outputs": [],
   "source": [
    "df = pd.read_pickle('dfs/esc_analysis.pickle')\n",
    "update_df(df)"
   ]
  },
  {
   "cell_type": "code",
   "execution_count": 83,
   "metadata": {
    "scrolled": false
   },
   "outputs": [
    {
     "name": "stdout",
     "output_type": "stream",
     "text": [
      "1140\n",
      "8289\n",
      "3456\n",
      "71\n",
      "5130\n",
      "38\n",
      "17317\n"
     ]
    }
   ],
   "source": [
    "for i,row in intersect(df_dust[df_dust.z==8], df_no_dust[df_no_dust.z==8]).iterrows():\n",
    "    if row['f_esc_no_dust']-row['f_esc_dust']>0.0010:\n",
    "        print(row['ID_dust'])\n",
    "        #break"
   ]
  }
 ],
 "metadata": {
  "kernelspec": {
   "display_name": "envcrash",
   "language": "python",
   "name": "envcrash"
  },
  "language_info": {
   "codemirror_mode": {
    "name": "ipython",
    "version": 3
   },
   "file_extension": ".py",
   "mimetype": "text/x-python",
   "name": "python",
   "nbconvert_exporter": "python",
   "pygments_lexer": "ipython3",
   "version": "3.8.2"
  }
 },
 "nbformat": 4,
 "nbformat_minor": 4
}
