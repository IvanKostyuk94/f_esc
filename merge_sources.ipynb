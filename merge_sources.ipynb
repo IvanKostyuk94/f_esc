{
 "cells": [
  {
   "cell_type": "code",
   "execution_count": 308,
   "metadata": {},
   "outputs": [
    {
     "data": {
      "text/html": [
       "<style>.container { width:85% !important; }</style>"
      ],
      "text/plain": [
       "<IPython.core.display.HTML object>"
      ]
     },
     "metadata": {},
     "output_type": "display_data"
    }
   ],
   "source": [
    "import matplotlib.pyplot as plt\n",
    "import numpy as np\n",
    "import os\n",
    "import pandas as pd\n",
    "\n",
    "from IPython.core.interactiveshell import InteractiveShell\n",
    "# pretty print all cell's output and not just the last one\n",
    "InteractiveShell.ast_node_interactivity = \"all\"\n",
    "from IPython.core.display import display, HTML\n",
    "display(HTML(\"<style>.container { width:85% !important; }</style>\"))\n",
    "\n",
    "from crashpy.dataclasses import spectrum \n",
    "import scipy.constants as constants"
   ]
  },
  {
   "cell_type": "code",
   "execution_count": null,
   "metadata": {},
   "outputs": [],
   "source": [
    "column_names=['x', 'y', 'z', 'a', 'Q', 'b', 'name', 'c',\n",
    "'halo', 'd', 'packets', 'e', 'loc_uv', 'f', 'loc_x']\n",
    "sources_path = '/ptmp/mpa/mglatzle/TNG_f_esc/e6/input/L/sn008/g111/sources_ic00.in'\n",
    "sources = pd.read_table(sources_path, delimiter='\\t', names=column_names)\n",
    "sources['Q'] = sources['Q'].str.replace('d','e').astype('float')\n",
    "sources_updated = sources[sources['Q']>0.01*sources['Q'].max()]\n",
    "sources_updated['Q'] = sources_updated['Q'].astype(str)\n",
    "sources_updated.to_csv(sources_path, sep='\\t', header=False, index=False)"
   ]
  },
  {
   "cell_type": "code",
   "execution_count": 223,
   "metadata": {},
   "outputs": [],
   "source": [
    "column_names=['x', 'y', 'z', 'a', 'Q', 'b', 'name', 'c',\n",
    "'halo', 'd', 'packets', 'e', 'loc_uv', 'f', 'loc_x']\n",
    "sources_path = '/ptmp/mpa/mglatzle/TNG_f_esc/merger_testing/input/L/sn008/g1029/sources_ic00.in'\n",
    "sources = pd.read_table(sources_path, delimiter='\\t', names=column_names)\n",
    "#sources['Q'] = sources['Q'].str.replace('d','e').astype('float')\n",
    "#sources['Q'] = sources['Q'].str.replace('d','e').astype('float')"
   ]
  },
  {
   "cell_type": "code",
   "execution_count": 193,
   "metadata": {},
   "outputs": [],
   "source": [
    "lum_sources = sources[sources['Q']>0.01*sources['Q'].max()]\n",
    "faint_sources = sources[sources['Q']<0.01*sources['Q'].max()]"
   ]
  },
  {
   "cell_type": "code",
   "execution_count": 309,
   "metadata": {},
   "outputs": [],
   "source": [
    "def get_nearest_lum_source(faint_source, lum_sources):\n",
    "    distances = []\n",
    "    for _, source in lum_sources.iterrows():\n",
    "        distance = np.sqrt((source.x-faint_source.x)**2+\n",
    "                          (source.y-faint_source.y)**2+\n",
    "                          (source.z-faint_source.z)**2)\n",
    "        distances.append(distance)\n",
    "    distances = np.array(distances)\n",
    "    min_index = np.argmin(distances)\n",
    "    min_value = distances[min_index]\n",
    "    index = lum_sources.iloc[min_index].name\n",
    "    return min_value, index"
   ]
  },
  {
   "cell_type": "code",
   "execution_count": 310,
   "metadata": {},
   "outputs": [],
   "source": [
    "def source_merger(source_df, lum_source_idx, faint_source_idx, path_to_halo_spec):\n",
    "    faint_source = source_df.loc[faint_source_idx]\n",
    "    lum_source = source_df.loc[lum_source_idx]\n",
    "    \n",
    "    faint_spec_path = os.path.join(path_to_halo_spec, faint_source['name'][1:-1]+'.ps')\n",
    "    lum_spec_path = os.path.join(path_to_halo_spec, lum_source['name'][1:-1]+'.ps')\n",
    "    \n",
    "    spec_faint = spectrum.CrashSpectrum.fromFile(faint_spec_path)\n",
    "    spec_lum = spectrum.CrashSpectrum.fromFile(lum_spec_path)\n",
    "    \n",
    "    lum_faint = faint_source['Q']\n",
    "    lum_lum = lum_source['Q']\n",
    "    \n",
    "    spec_faint.setEmissivity(lum_faint)\n",
    "    spec_lum.setEmissivity(lum_lum)\n",
    "    \n",
    "    summed_spectrum = spectrum.CrashSpectrum(constants.e/constants.h*spec_lum.spectrum['hnu'], \n",
    "                                             spec_lum.spectrum['Lnu']+spec_faint.spectrum['Lnu'])\n",
    "    \n",
    "    out_path = lum_spec_path\n",
    "    #out_path = os.path.join(path_to_halo_spec, f'test{lum_source_idx}.ps')\n",
    "    summed_spectrum.toFile(path=out_path, f=True)\n",
    "    \n",
    "    source_df.loc[lum_source_idx,'Q'] = lum_faint+lum_lum\n",
    "    source_df.drop(faint_source_idx, inplace=True)\n",
    "    return"
   ]
  },
  {
   "cell_type": "code",
   "execution_count": 311,
   "metadata": {},
   "outputs": [],
   "source": [
    "def merge_halo_sources(path_to_input, path_to_spectra, snap, halo_id, threshold=0.01, max_dist=1.9):\n",
    "    column_names=['x', 'y', 'z', 'a', 'Q', 'b', 'name', 'c',\n",
    "    'halo', 'd', 'packets', 'e', 'loc_uv', 'f', 'loc_x']\n",
    "    sources_path = os.path.join(path_to_input, snap, f'g{halo_id}','sources_ic00.in')\n",
    "    spectra_path = os.path.join(path_to_spectra, snap, f'g{halo_id}')\n",
    "    \n",
    "    source_df = pd.read_table(sources_path, delimiter='\\t', names=column_names)\n",
    "    source_df['Q'] = source_df['Q'].str.replace('d','e').astype('float')\n",
    "    \n",
    "    lum_sources = source_df[source_df['Q']>threshold*source_df['Q'].max()]\n",
    "    faint_sources = source_df[source_df['Q']<threshold*source_df['Q'].max()]\n",
    "    for faint_idx, source in faint_sources.iterrows():\n",
    "        dist, lum_source_idx = get_nearest_lum_source(faint_source=source, lum_sources=lum_sources)\n",
    "        if dist > max_dist:\n",
    "            source_df.drop(faint_idx, inplace=True)\n",
    "        else:\n",
    "            source_merger(source_df=source_df, lum_source_idx=lum_source_idx, \n",
    "                          faint_source_idx=faint_idx, \n",
    "                          path_to_halo_spec=spectra_path)\n",
    "            \n",
    "    source_df['Q'] = source_df['Q'].apply('{:.3e}'.format)\n",
    "    source_df['Q'] = source_df['Q'].str.replace('e','d')\n",
    "    source_df.to_csv(sources_path, sep='\\t', header=False, index=False)\n",
    "    return"
   ]
  },
  {
   "cell_type": "code",
   "execution_count": 313,
   "metadata": {},
   "outputs": [],
   "source": [
    "def get_all_halos(path, snap):\n",
    "    path_to_snap = os.path.join(path, snap)\n",
    "    files = os.listdir(path_to_snap)\n",
    "    halos = [int(halo[1:]) for halo in files if halo.startswith('g')]\n",
    "    return halos"
   ]
  },
  {
   "cell_type": "code",
   "execution_count": 317,
   "metadata": {},
   "outputs": [],
   "source": [
    "def all_halo_merge(path_to_input, path_to_spectra, threshold=0.01, max_dist=1.9):\n",
    "    snaps = ['sn004','sn008','sn013']\n",
    "    for snap in snaps:\n",
    "        halos = get_all_halos(path_to_input, snap)\n",
    "        for halo in halos:\n",
    "            print(f'Merging sources in halo {halo} in snap {snap}')\n",
    "            merge_halo_sources(path_to_input=path_to_input, path_to_spectra=path_to_spectra, snap=snap, \n",
    "                               halo_id=halo, threshold=threshold, max_dist=max_dist)\n",
    "    return"
   ]
  },
  {
   "cell_type": "code",
   "execution_count": 326,
   "metadata": {},
   "outputs": [],
   "source": [
    "path_to_input = '/ptmp/mpa/mglatzle/TNG_f_esc/source_conv/input/L35n2160TNG'\n",
    "path_to_spectra = '/ptmp/mpa/mglatzle/TNG_f_esc/source_conv/db/SPECTRA/L35n2160TNG'\n",
    "snap='sn008'\n",
    "merge_halo_sources(path_to_input, path_to_spectra, snap, halo_id=1, threshold=0.001, max_dist=1.9)\n",
    "merge_halo_sources(path_to_input, path_to_spectra, snap, halo_id=100, threshold=0.005, max_dist=1.9)\n",
    "merge_halo_sources(path_to_input, path_to_spectra, snap, halo_id=111, threshold=0.01, max_dist=1.9)\n",
    "merge_halo_sources(path_to_input, path_to_spectra, snap, halo_id=1029, threshold=0.05, max_dist=1.9)"
   ]
  },
  {
   "cell_type": "code",
   "execution_count": 324,
   "metadata": {},
   "outputs": [
    {
     "name": "stdout",
     "output_type": "stream",
     "text": [
      "Merging sources in halo 7348 in snap sn004\n",
      "Merging sources in halo 6053 in snap sn004\n",
      "Merging sources in halo 758 in snap sn004\n",
      "Merging sources in halo 218 in snap sn004\n",
      "Merging sources in halo 825 in snap sn004\n",
      "Merging sources in halo 872 in snap sn004\n",
      "Merging sources in halo 2048 in snap sn004\n",
      "Merging sources in halo 214 in snap sn004\n",
      "Merging sources in halo 3995 in snap sn004\n",
      "Merging sources in halo 2184 in snap sn004\n",
      "Merging sources in halo 2302 in snap sn004\n",
      "Merging sources in halo 71 in snap sn004\n",
      "Merging sources in halo 663 in snap sn004\n",
      "Merging sources in halo 611 in snap sn004\n",
      "Merging sources in halo 3854 in snap sn004\n",
      "Merging sources in halo 1415 in snap sn004\n",
      "Merging sources in halo 361 in snap sn004\n",
      "Merging sources in halo 4276 in snap sn004\n",
      "Merging sources in halo 4679 in snap sn008\n",
      "Merging sources in halo 2634 in snap sn008\n",
      "Merging sources in halo 5604 in snap sn008\n",
      "Merging sources in halo 791 in snap sn008\n",
      "Merging sources in halo 386 in snap sn008\n",
      "Merging sources in halo 1029 in snap sn008\n",
      "Merging sources in halo 252 in snap sn008\n",
      "Merging sources in halo 2149 in snap sn008\n",
      "Merging sources in halo 2226 in snap sn008\n",
      "Merging sources in halo 16090 in snap sn008\n",
      "Merging sources in halo 4994 in snap sn008\n",
      "Merging sources in halo 2268 in snap sn008\n",
      "Merging sources in halo 17656 in snap sn008\n",
      "Merging sources in halo 2310 in snap sn008\n",
      "Merging sources in halo 575 in snap sn008\n",
      "Merging sources in halo 3203 in snap sn008\n",
      "Merging sources in halo 10638 in snap sn008\n",
      "Merging sources in halo 897 in snap sn008\n",
      "Merging sources in halo 577 in snap sn008\n",
      "Merging sources in halo 418 in snap sn008\n",
      "Merging sources in halo 7984 in snap sn008\n",
      "Merging sources in halo 919 in snap sn008\n",
      "Merging sources in halo 127 in snap sn008\n",
      "Merging sources in halo 693 in snap sn008\n",
      "Merging sources in halo 1218 in snap sn008\n",
      "Merging sources in halo 5970 in snap sn008\n",
      "Merging sources in halo 3837 in snap sn008\n",
      "Merging sources in halo 663 in snap sn008\n",
      "Merging sources in halo 1940 in snap sn008\n",
      "Merging sources in halo 1201 in snap sn008\n",
      "Merging sources in halo 804 in snap sn008\n",
      "Merging sources in halo 2397 in snap sn008\n",
      "Merging sources in halo 1285 in snap sn008\n",
      "Merging sources in halo 294 in snap sn008\n",
      "Merging sources in halo 1997 in snap sn008\n",
      "Merging sources in halo 12909 in snap sn008\n",
      "Merging sources in halo 314 in snap sn008\n",
      "Merging sources in halo 4690 in snap sn013\n",
      "Merging sources in halo 2251 in snap sn013\n",
      "Merging sources in halo 2537 in snap sn013\n",
      "Merging sources in halo 3528 in snap sn013\n",
      "Merging sources in halo 3919 in snap sn013\n",
      "Merging sources in halo 1466 in snap sn013\n",
      "Merging sources in halo 1207 in snap sn013\n",
      "Merging sources in halo 25191 in snap sn013\n",
      "Merging sources in halo 1757 in snap sn013\n",
      "Merging sources in halo 4238 in snap sn013\n",
      "Merging sources in halo 2154 in snap sn013\n",
      "Merging sources in halo 2668 in snap sn013\n",
      "Merging sources in halo 22258 in snap sn013\n",
      "Merging sources in halo 1913 in snap sn013\n",
      "Merging sources in halo 1679 in snap sn013\n",
      "Merging sources in halo 1399 in snap sn013\n",
      "Merging sources in halo 5037 in snap sn013\n",
      "Merging sources in halo 20088 in snap sn013\n",
      "Merging sources in halo 61869 in snap sn013\n",
      "Merging sources in halo 1401 in snap sn013\n",
      "Merging sources in halo 1205 in snap sn013\n",
      "Merging sources in halo 33619 in snap sn013\n",
      "Merging sources in halo 41526 in snap sn013\n",
      "Merging sources in halo 24258 in snap sn013\n",
      "Merging sources in halo 1812 in snap sn013\n",
      "Merging sources in halo 5500 in snap sn013\n",
      "Merging sources in halo 20279 in snap sn013\n",
      "Merging sources in halo 2104 in snap sn013\n",
      "Merging sources in halo 20915 in snap sn013\n",
      "Merging sources in halo 1176 in snap sn013\n",
      "Merging sources in halo 2044 in snap sn013\n",
      "Merging sources in halo 1278 in snap sn013\n",
      "Merging sources in halo 723 in snap sn013\n",
      "Merging sources in halo 665 in snap sn013\n",
      "Merging sources in halo 34017 in snap sn013\n",
      "Merging sources in halo 3090 in snap sn013\n",
      "Merging sources in halo 19512 in snap sn013\n",
      "Merging sources in halo 1992 in snap sn013\n",
      "Merging sources in halo 62846 in snap sn013\n",
      "Merging sources in halo 8727 in snap sn013\n",
      "Merging sources in halo 21424 in snap sn013\n",
      "Merging sources in halo 2498 in snap sn013\n",
      "Merging sources in halo 17206 in snap sn013\n",
      "Merging sources in halo 40553 in snap sn013\n",
      "Merging sources in halo 3361 in snap sn013\n"
     ]
    }
   ],
   "source": [
    "path_to_input = '/ptmp/mpa/mglatzle/TNG_f_esc/conv1e9/input/L35n2160TNG'\n",
    "path_to_spectra = '/ptmp/mpa/mglatzle/TNG_f_esc/conv1e9/db/SPECTRA/L35n2160TNG'\n",
    "all_halo_merge(path_to_input, path_to_spectra, threshold=0.01, max_dist=1.9)"
   ]
  },
  {
   "cell_type": "code",
   "execution_count": 307,
   "metadata": {},
   "outputs": [],
   "source": [
    "path_to_input = '/ptmp/mpa/mglatzle/TNG_f_esc/merger8/input/L'\n",
    "path_to_spectra = '/ptmp/mpa/mglatzle/TNG_f_esc/merger8/db/SPECTRA/L35n2160TNG'\n",
    "snap = 'sn008'\n",
    "halo_id = 1029\n",
    "merge_halo_sources(path_to_input, path_to_spectra, snap, halo_id, threshold=0.01, max_dist=5.3)"
   ]
  },
  {
   "cell_type": "code",
   "execution_count": 322,
   "metadata": {},
   "outputs": [],
   "source": [
    "def get_job_list(jobnum=200):\n",
    "    jobs = ''\n",
    "    folder_name = os.getcwd().split('/')[-1]\n",
    "    job_name = f'run-{folder_name}-chunk'\n",
    "    for i in range(jobnum):\n",
    "        jobs += f'{job_name}{i},'\n",
    "    return jobs"
   ]
  },
  {
   "cell_type": "code",
   "execution_count": 320,
   "metadata": {},
   "outputs": [
    {
     "data": {
      "text/plain": [
       "'run-analysis-chunk0,run-analysis-chunk1,run-analysis-chunk2,run-analysis-chunk3,run-analysis-chunk4,run-analysis-chunk5,run-analysis-chunk6,run-analysis-chunk7,run-analysis-chunk8,run-analysis-chunk9,run-analysis-chunk10,run-analysis-chunk11,run-analysis-chunk12,run-analysis-chunk13,run-analysis-chunk14,run-analysis-chunk15,run-analysis-chunk16,run-analysis-chunk17,run-analysis-chunk18,run-analysis-chunk19,run-analysis-chunk20,run-analysis-chunk21,run-analysis-chunk22,run-analysis-chunk23,run-analysis-chunk24,run-analysis-chunk25,run-analysis-chunk26,run-analysis-chunk27,run-analysis-chunk28,run-analysis-chunk29,run-analysis-chunk30,run-analysis-chunk31,run-analysis-chunk32,run-analysis-chunk33,run-analysis-chunk34,run-analysis-chunk35,run-analysis-chunk36,run-analysis-chunk37,run-analysis-chunk38,run-analysis-chunk39,run-analysis-chunk40,run-analysis-chunk41,run-analysis-chunk42,run-analysis-chunk43,run-analysis-chunk44,run-analysis-chunk45,run-analysis-chunk46,run-analysis-chunk47,run-analysis-chunk48,run-analysis-chunk49,run-analysis-chunk50,run-analysis-chunk51,run-analysis-chunk52,run-analysis-chunk53,run-analysis-chunk54,run-analysis-chunk55,run-analysis-chunk56,run-analysis-chunk57,run-analysis-chunk58,run-analysis-chunk59,run-analysis-chunk60,run-analysis-chunk61,run-analysis-chunk62,run-analysis-chunk63,run-analysis-chunk64,run-analysis-chunk65,run-analysis-chunk66,run-analysis-chunk67,run-analysis-chunk68,run-analysis-chunk69,run-analysis-chunk70,run-analysis-chunk71,run-analysis-chunk72,run-analysis-chunk73,run-analysis-chunk74,run-analysis-chunk75,run-analysis-chunk76,run-analysis-chunk77,run-analysis-chunk78,run-analysis-chunk79,run-analysis-chunk80,run-analysis-chunk81,run-analysis-chunk82,run-analysis-chunk83,run-analysis-chunk84,run-analysis-chunk85,run-analysis-chunk86,run-analysis-chunk87,run-analysis-chunk88,run-analysis-chunk89,run-analysis-chunk90,run-analysis-chunk91,run-analysis-chunk92,run-analysis-chunk93,run-analysis-chunk94,run-analysis-chunk95,run-analysis-chunk96,run-analysis-chunk97,run-analysis-chunk98,run-analysis-chunk99,run-analysis-chunk100,run-analysis-chunk101,run-analysis-chunk102,run-analysis-chunk103,run-analysis-chunk104,run-analysis-chunk105,run-analysis-chunk106,run-analysis-chunk107,run-analysis-chunk108,run-analysis-chunk109,run-analysis-chunk110,run-analysis-chunk111,run-analysis-chunk112,run-analysis-chunk113,run-analysis-chunk114,run-analysis-chunk115,run-analysis-chunk116,run-analysis-chunk117,run-analysis-chunk118,run-analysis-chunk119,run-analysis-chunk120,run-analysis-chunk121,run-analysis-chunk122,run-analysis-chunk123,run-analysis-chunk124,run-analysis-chunk125,run-analysis-chunk126,run-analysis-chunk127,run-analysis-chunk128,run-analysis-chunk129,run-analysis-chunk130,run-analysis-chunk131,run-analysis-chunk132,run-analysis-chunk133,run-analysis-chunk134,run-analysis-chunk135,run-analysis-chunk136,run-analysis-chunk137,run-analysis-chunk138,run-analysis-chunk139,run-analysis-chunk140,run-analysis-chunk141,run-analysis-chunk142,run-analysis-chunk143,run-analysis-chunk144,run-analysis-chunk145,run-analysis-chunk146,run-analysis-chunk147,run-analysis-chunk148,run-analysis-chunk149,run-analysis-chunk150,run-analysis-chunk151,run-analysis-chunk152,run-analysis-chunk153,run-analysis-chunk154,run-analysis-chunk155,run-analysis-chunk156,run-analysis-chunk157,run-analysis-chunk158,run-analysis-chunk159,run-analysis-chunk160,run-analysis-chunk161,run-analysis-chunk162,run-analysis-chunk163,run-analysis-chunk164,run-analysis-chunk165,run-analysis-chunk166,run-analysis-chunk167,run-analysis-chunk168,run-analysis-chunk169,run-analysis-chunk170,run-analysis-chunk171,run-analysis-chunk172,run-analysis-chunk173,run-analysis-chunk174,run-analysis-chunk175,run-analysis-chunk176,run-analysis-chunk177,run-analysis-chunk178,run-analysis-chunk179,run-analysis-chunk180,run-analysis-chunk181,run-analysis-chunk182,run-analysis-chunk183,run-analysis-chunk184,run-analysis-chunk185,run-analysis-chunk186,run-analysis-chunk187,run-analysis-chunk188,run-analysis-chunk189,run-analysis-chunk190,run-analysis-chunk191,run-analysis-chunk192,run-analysis-chunk193,run-analysis-chunk194,run-analysis-chunk195,run-analysis-chunk196,run-analysis-chunk197,run-analysis-chunk198,run-analysis-chunk199,'"
      ]
     },
     "execution_count": 320,
     "metadata": {},
     "output_type": "execute_result"
    }
   ],
   "source": [
    "jobs"
   ]
  },
  {
   "cell_type": "code",
   "execution_count": 195,
   "metadata": {},
   "outputs": [],
   "source": [
    "path_to_halo_spec = '/ptmp/mpa/mglatzle/TNG_f_esc/merger_testing/db/SPECTRA/L35n2160TNG/sn008/g1029'\n",
    "faint_source1 = sources.loc[2]\n",
    "faint_source2 = sources.loc[4]\n",
    "faint_source3 = sources.loc[23]\n",
    "faint_source4 = sources.loc[41]\n",
    "\n",
    "lum_source = sources.loc[1]\n",
    "\n",
    "faint_spec_path1 = os.path.join(path_to_halo_spec, faint_source1['name'][1:-1]+'.ps')\n",
    "faint_spec_path2 = os.path.join(path_to_halo_spec, faint_source2['name'][1:-1]+'.ps')\n",
    "faint_spec_path3 = os.path.join(path_to_halo_spec, faint_source3['name'][1:-1]+'.ps')\n",
    "faint_spec_path4 = os.path.join(path_to_halo_spec, faint_source4['name'][1:-1]+'.ps')\n",
    "\n",
    "lum_spec_path = os.path.join(path_to_halo_spec, lum_source['name'][1:-1]+'.ps')\n",
    "\n",
    "spec_faint1 = spectrum.CrashSpectrum.fromFile(faint_spec_path1)\n",
    "spec_faint2 = spectrum.CrashSpectrum.fromFile(faint_spec_path2)\n",
    "spec_faint3 = spectrum.CrashSpectrum.fromFile(faint_spec_path3)\n",
    "spec_faint4 = spectrum.CrashSpectrum.fromFile(faint_spec_path4)\n",
    "spec_lum = spectrum.CrashSpectrum.fromFile(lum_spec_path)\n",
    "\n",
    "lum_faint1 = faint_source1['Q']\n",
    "lum_faint2 = faint_source2['Q']\n",
    "lum_faint3 = faint_source3['Q']\n",
    "lum_faint4 = faint_source4['Q']\n",
    "lum_lum = lum_source['Q']\n",
    "\n",
    "spec_faint1.setEmissivity(lum_faint1)\n",
    "spec_faint2.setEmissivity(lum_faint2)\n",
    "spec_faint3.setEmissivity(lum_faint3)\n",
    "spec_faint4.setEmissivity(lum_faint4)\n",
    "spec_lum.setEmissivity(lum_lum)\n",
    "\n",
    "summed_spectrum = spectrum.CrashSpectrum(constants.e/constants.h*spec_lum.spectrum['hnu'], \n",
    "                                         spec_lum.spectrum['Lnu']+spec_faint1.spectrum['Lnu']+spec_faint2.spectrum['Lnu']+\n",
    "                                         +spec_faint3.spectrum['Lnu']+spec_faint4.spectrum['Lnu'])\n",
    "\n",
    "out_path = os.path.join(path_to_halo_spec, f'test.ps')\n",
    "summed_spectrum.toFile(path=out_path, f=True)"
   ]
  }
 ],
 "metadata": {
  "kernelspec": {
   "display_name": "envcrash",
   "language": "python",
   "name": "envcrash"
  },
  "language_info": {
   "codemirror_mode": {
    "name": "ipython",
    "version": 3
   },
   "file_extension": ".py",
   "mimetype": "text/x-python",
   "name": "python",
   "nbconvert_exporter": "python",
   "pygments_lexer": "ipython3",
   "version": "3.8.2"
  }
 },
 "nbformat": 4,
 "nbformat_minor": 4
}
