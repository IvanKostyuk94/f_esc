{
 "cells": [
  {
   "cell_type": "code",
   "execution_count": 4,
   "metadata": {},
   "outputs": [],
   "source": [
    "import matplotlib.pyplot as plt\n",
    "import importlib.util\n",
    "import pandas as pd\n",
    "import numpy as np\n",
    "import h5py\n",
    "from crashpy.dataclasses.simulation import LoadedSimulation as Sim"
   ]
  },
  {
   "cell_type": "code",
   "execution_count": 5,
   "metadata": {},
   "outputs": [],
   "source": [
    "from IPython.core.interactiveshell import InteractiveShell\n",
    "\n",
    "# pretty print all cell's output and not just the last one\n",
    "InteractiveShell.ast_node_interactivity = \"all\""
   ]
  },
  {
   "cell_type": "code",
   "execution_count": 6,
   "metadata": {},
   "outputs": [],
   "source": [
    "# load the config module for the fiducial 2 configuration\n",
    "spec = importlib.util.spec_from_file_location(\"module.name\",\"/freya/ptmp/mpa/mglatzle/TNG_f_esc/fid2d/config.py\")\n",
    "config = importlib.util.module_from_spec(spec)\n",
    "spec.loader.exec_module(config)"
   ]
  },
  {
   "cell_type": "code",
   "execution_count": 7,
   "metadata": {},
   "outputs": [
    {
     "name": "stdout",
     "output_type": "stream",
     "text": [
      "ModuleSpec(name='module.name', loader=<_frozen_importlib_external.SourceFileLoader object at 0x2b3ba4221a90>, origin='/freya/ptmp/mpa/mglatzle/TNG_f_esc/fid2d/config.py')\n"
     ]
    }
   ],
   "source": [
    "print(spec)"
   ]
  },
  {
   "cell_type": "code",
   "execution_count": 8,
   "metadata": {},
   "outputs": [
    {
     "name": "stdout",
     "output_type": "stream",
     "text": [
      "<module 'module.name' from '/freya/ptmp/mpa/mglatzle/TNG_f_esc/fid2d/config.py'>\n"
     ]
    }
   ],
   "source": [
    "print(config)"
   ]
  },
  {
   "cell_type": "code",
   "execution_count": 9,
   "metadata": {},
   "outputs": [
    {
     "name": "stdout",
     "output_type": "stream",
     "text": [
      "<bound method _LoaderBasics.exec_module of <_frozen_importlib_external.SourceFileLoader object at 0x2b3ba4221a90>>\n"
     ]
    }
   ],
   "source": [
    "print(spec.loader.exec_module)"
   ]
  },
  {
   "cell_type": "code",
   "execution_count": 10,
   "metadata": {},
   "outputs": [],
   "source": [
    "def h5toDict(f):\n",
    "    \"\"\"\n",
    "    Load data from h5py file into a dict.\n",
    "\n",
    "    This assumes all datasets contained in the h5py file can be converted to\n",
    "    numpy arrays.\n",
    "\n",
    "    Parameters\n",
    "    ----------\n",
    "    f : h5py.File\n",
    "        h5py file object to load data from.\n",
    "\n",
    "    Returns\n",
    "    -------\n",
    "    dd : dict\n",
    "        Dictionary of all group and datasets contained in 'f'. Hierarchical\n",
    "        structure is kept identical.\n",
    "    \"\"\"\n",
    "    d = {}\n",
    "\n",
    "    def visitor(name, node):\n",
    "        if isinstance(node, h5py.Dataset):\n",
    "            d[name] = np.array(node)\n",
    "        return \n",
    "    \n",
    "    f.visititems(visitor)\n",
    "\n",
    "    # restore hierarchical structure as the visitor flattens it\n",
    "    dd = {}\n",
    "    for key, val in d.items():\n",
    "        keys = key.split('/')\n",
    "        ddd = dd\n",
    "        for k in keys[:-1]:\n",
    "            if k in ddd:\n",
    "                ddd = ddd[k]\n",
    "            else:\n",
    "                ddd[k] = {}\n",
    "                ddd = ddd[k]\n",
    "        ddd[keys[-1]] = val\n",
    "\n",
    "    return dd"
   ]
  },
  {
   "cell_type": "code",
   "execution_count": 11,
   "metadata": {},
   "outputs": [],
   "source": [
    "import warnings\n",
    "warnings.filterwarnings('ignore')"
   ]
  },
  {
   "cell_type": "code",
   "execution_count": 12,
   "metadata": {},
   "outputs": [
    {
     "name": "stdout",
     "output_type": "stream",
     "text": [
      "dict_items([('L35n2160TNG', [13, 8, 4])])\n"
     ]
    }
   ],
   "source": [
    "print(config.to_process.items())"
   ]
  },
  {
   "cell_type": "code",
   "execution_count": 13,
   "metadata": {},
   "outputs": [],
   "source": [
    "# dict of dicts, first level is TNG simulation, second level is simulation\n",
    "# snapshot. For each snapshot, load its header (key 'header') and a halo\n",
    "# dataframe (key 'df').\n",
    "halos = {}\n",
    "for simname, snaps in config.to_process.items():\n",
    "    sim = config.get_sim(simname)\n",
    "    halos[simname] = {}\n",
    "    for snap in snaps:\n",
    "        dic = {}\n",
    "\n",
    "        dic['header'] = sim.snap_cat[snap].header\n",
    "\n",
    "        df = pd.read_pickle(config.selected_halo_df_file(simname, config.snap_name(snap)))\n",
    "        df['csim_path', 0] = np.nan\n",
    "        for i in range(config.n_rcs):\n",
    "            df['f_esc', i] = np.nan\n",
    "        for ID in config.completed_haloIDs(simname, config.snap_name(snap)):\n",
    "            rundir = config.rundir(simname, config.snap_name(snap), config.halo_name(ID))\n",
    "            df.loc[ID, 'csim_path'] = rundir\n",
    "            csim = Sim(rundir)\n",
    "            ls = []\n",
    "            for i, pf in enumerate(csim.getAllphysfiles()):\n",
    "                with h5py.File(config.f_esc_file(pf)) as f:\n",
    "                    fesc = h5toDict(f)\n",
    "                ls.append(fesc)\n",
    "            df.loc[ID, 'f_esc'] = np.array(ls)\n",
    "        dic['df'] = df\n",
    "\n",
    "        halos[simname][config.snap_name(snap)] = dic "
   ]
  },
  {
   "cell_type": "code",
   "execution_count": 10,
   "metadata": {},
   "outputs": [],
   "source": [
    "object_methods = [method_name for method_name in dir(config)\n",
    "                  if callable(getattr(config, method_name))]"
   ]
  },
  {
   "cell_type": "code",
   "execution_count": 14,
   "metadata": {},
   "outputs": [],
   "source": [
    "# escape fraction of halo 27586 of snapshot 4 at the first CRASH output:\n",
    "df = halos['L35n2160TNG']['sn004']['df']"
   ]
  },
  {
   "cell_type": "code",
   "execution_count": 15,
   "metadata": {},
   "outputs": [
    {
     "data": {
      "text/plain": [
       "MultiIndex([(            'GroupBHMass', 0),\n",
       "            (            'GroupBHMdot', 0),\n",
       "            (                'GroupCM', 0),\n",
       "            (                'GroupCM', 1),\n",
       "            (                'GroupCM', 2),\n",
       "            (          'GroupFirstSub', 0),\n",
       "            ( 'GroupGasMetalFractions', 0),\n",
       "            ( 'GroupGasMetalFractions', 1),\n",
       "            ( 'GroupGasMetalFractions', 2),\n",
       "            ( 'GroupGasMetalFractions', 3),\n",
       "            ( 'GroupGasMetalFractions', 4),\n",
       "            ( 'GroupGasMetalFractions', 5),\n",
       "            ( 'GroupGasMetalFractions', 6),\n",
       "            ( 'GroupGasMetalFractions', 7),\n",
       "            ( 'GroupGasMetalFractions', 8),\n",
       "            ( 'GroupGasMetalFractions', 9),\n",
       "            (    'GroupGasMetallicity', 0),\n",
       "            (               'GroupLen', 0),\n",
       "            (           'GroupLenType', 0),\n",
       "            (           'GroupLenType', 1),\n",
       "            (           'GroupLenType', 2),\n",
       "            (           'GroupLenType', 3),\n",
       "            (           'GroupLenType', 4),\n",
       "            (           'GroupLenType', 5),\n",
       "            (              'GroupMass', 0),\n",
       "            (          'GroupMassType', 0),\n",
       "            (          'GroupMassType', 1),\n",
       "            (          'GroupMassType', 2),\n",
       "            (          'GroupMassType', 3),\n",
       "            (          'GroupMassType', 4),\n",
       "            (          'GroupMassType', 5),\n",
       "            (             'GroupNsubs', 0),\n",
       "            (               'GroupPos', 0),\n",
       "            (               'GroupPos', 1),\n",
       "            (               'GroupPos', 2),\n",
       "            (               'GroupSFR', 0),\n",
       "            ('GroupStarMetalFractions', 0),\n",
       "            ('GroupStarMetalFractions', 1),\n",
       "            ('GroupStarMetalFractions', 2),\n",
       "            ('GroupStarMetalFractions', 3),\n",
       "            ('GroupStarMetalFractions', 4),\n",
       "            ('GroupStarMetalFractions', 5),\n",
       "            ('GroupStarMetalFractions', 6),\n",
       "            ('GroupStarMetalFractions', 7),\n",
       "            ('GroupStarMetalFractions', 8),\n",
       "            ('GroupStarMetalFractions', 9),\n",
       "            (   'GroupStarMetallicity', 0),\n",
       "            (               'GroupVel', 0),\n",
       "            (               'GroupVel', 1),\n",
       "            (               'GroupVel', 2),\n",
       "            (          'GroupWindMass', 0),\n",
       "            (        'Group_M_Crit200', 0),\n",
       "            (        'Group_M_Crit500', 0),\n",
       "            (        'Group_M_Mean200', 0),\n",
       "            (      'Group_M_TopHat200', 0),\n",
       "            (        'Group_R_Crit200', 0),\n",
       "            (        'Group_R_Crit500', 0),\n",
       "            (        'Group_R_Mean200', 0),\n",
       "            (      'Group_R_TopHat200', 0),\n",
       "            (                 'M_star', 0),\n",
       "            (                 'N_star', 0),\n",
       "            (                    'Q_0', 0),\n",
       "            (                 'a_star', 0),\n",
       "            (              'dust_mass', 0),\n",
       "            (               'gas_mass', 0),\n",
       "            (               'hsml_min', 0),\n",
       "            (                  'shape', 0),\n",
       "            (                  'shape', 1),\n",
       "            (                  'shape', 2),\n",
       "            (              'shape_req', 0),\n",
       "            (              'shape_req', 1),\n",
       "            (              'shape_req', 2),\n",
       "            (                   'size', 0),\n",
       "            (                   'size', 1),\n",
       "            (                   'size', 2),\n",
       "            (              'csim_path', 0),\n",
       "            (                  'f_esc', 0),\n",
       "            (                  'f_esc', 1),\n",
       "            (                  'f_esc', 2),\n",
       "            (                  'f_esc', 3),\n",
       "            (                  'f_esc', 4)],\n",
       "           )"
      ]
     },
     "execution_count": 15,
     "metadata": {},
     "output_type": "execute_result"
    }
   ],
   "source": [
    "df.keys()"
   ]
  },
  {
   "cell_type": "code",
   "execution_count": null,
   "metadata": {},
   "outputs": [],
   "source": [
    "df.sort_values(by=('GroupMass', 0))"
   ]
  },
  {
   "cell_type": "code",
   "execution_count": 12,
   "metadata": {},
   "outputs": [],
   "source": [
    "f_esc=[]\n",
    "metal=[]\n",
    "mass=[]\n",
    "sfr=[]\n",
    "for ID in config.completed_haloIDs(simname, config.snap_name(snap)):\n",
    "    try:\n",
    "        f_esc.append(float(x['f_esc'][0][ID]['5.0e-2']['1.0e0']['cum']))\n",
    "        metal.append(x['GroupStarMetallicity'][0][ID])\n",
    "        mass.append(x['GroupMass'][0][ID])\n",
    "        sfr.append(x['GroupSFR'][0][ID])\n",
    "    except:\n",
    "        pass"
   ]
  },
  {
   "cell_type": "code",
   "execution_count": 13,
   "metadata": {
    "scrolled": true
   },
   "outputs": [
    {
     "data": {
      "text/plain": [
       "array([0.00075348, 0.00139817, 0.00114135, ..., 0.00083715, 0.00085711,\n",
       "       0.00046831], dtype=float32)"
      ]
     },
     "execution_count": 13,
     "metadata": {},
     "output_type": "execute_result"
    }
   ],
   "source": [
    "x['GroupStarMetallicity'][0].values"
   ]
  },
  {
   "cell_type": "code",
   "execution_count": 17,
   "metadata": {
    "scrolled": true
   },
   "outputs": [
    {
     "data": {
      "image/png": "[encoded data removed]",
      "text/plain": [
       "<Figure size 432x288 with 1 Axes>"
      ]
     },
     "metadata": {
      "needs_background": "light"
     },
     "output_type": "display_data"
    }
   ],
   "source": [
    "full_range=max(metal)-min(metal)\n",
    "plt.scatter(metal,f_esc)\n",
    "\n",
    "plt.xscale('log')\n",
    "plt.xlim(min(metal), max(metal));"
   ]
  },
  {
   "cell_type": "code",
   "execution_count": 15,
   "metadata": {
    "scrolled": true
   },
   "outputs": [
    {
     "data": {
      "image/png": "[encoded data removed]",
      "text/plain": [
       "<Figure size 432x288 with 1 Axes>"
      ]
     },
     "metadata": {
      "needs_background": "light"
     },
     "output_type": "display_data"
    }
   ],
   "source": [
    "plt.scatter(mass,f_esc)\n",
    "plt.xscale('log')"
   ]
  },
  {
   "cell_type": "code",
   "execution_count": 16,
   "metadata": {
    "scrolled": false
   },
   "outputs": [
    {
     "data": {
      "text/plain": [
       "(0.0023804952, 3.6609867)"
      ]
     },
     "execution_count": 16,
     "metadata": {},
     "output_type": "execute_result"
    },
    {
     "data": {
      "image/png": "[encoded data removed]",
      "text/plain": [
       "<Figure size 432x288 with 1 Axes>"
      ]
     },
     "metadata": {
      "needs_background": "light"
     },
     "output_type": "display_data"
    }
   ],
   "source": [
    "full_range=max(sfr)-min(sfr)\n",
    "plt.scatter(sfr,f_esc)\n",
    "plt.xscale('log')\n",
    "plt.xlim(min(sfr), max(sfr))"
   ]
  },
  {
   "cell_type": "code",
   "execution_count": 29,
   "metadata": {},
   "outputs": [
    {
     "data": {
      "text/plain": [
       "6"
      ]
     },
     "execution_count": 29,
     "metadata": {},
     "output_type": "execute_result"
    }
   ],
   "source": [
    "max([3,4,6,4])"
   ]
  },
  {
   "cell_type": "code",
   "execution_count": 30,
   "metadata": {},
   "outputs": [],
   "source": [
    "def euclid(n,m):\n",
    "    left = max([n,m])\n",
    "    right = min([n,m])\n",
    "    while True:\n",
    "        r=left%right\n",
    "        if r==0:\n",
    "            print(right)\n",
    "            break\n",
    "        left=right\n",
    "        right=r\n",
    "        "
   ]
  },
  {
   "cell_type": "code",
   "execution_count": 38,
   "metadata": {},
   "outputs": [
    {
     "name": "stdout",
     "output_type": "stream",
     "text": [
      "3\n"
     ]
    }
   ],
   "source": [
    "euclid(51,42)"
   ]
  },
  {
   "cell_type": "code",
   "execution_count": null,
   "metadata": {},
   "outputs": [],
   "source": []
  }
 ],
 "metadata": {
  "kernelspec": {
   "display_name": "envcrash",
   "language": "python",
   "name": "envcrash"
  },
  "language_info": {
   "codemirror_mode": {
    "name": "ipython",
    "version": 3
   },
   "file_extension": ".py",
   "mimetype": "text/x-python",
   "name": "python",
   "nbconvert_exporter": "python",
   "pygments_lexer": "ipython3",
   "version": "3.8.2"
  }
 },
 "nbformat": 4,
 "nbformat_minor": 2
}
