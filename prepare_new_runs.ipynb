{
 "cells": [
  {
   "cell_type": "code",
   "execution_count": 5,
   "metadata": {},
   "outputs": [
    {
     "data": {
      "text/html": [
       "<style>.container { width:85% !important; }</style>"
      ],
      "text/plain": [
       "<IPython.core.display.HTML object>"
      ]
     },
     "metadata": {},
     "output_type": "display_data"
    }
   ],
   "source": [
    "import matplotlib.pyplot as plt\n",
    "import numpy as np\n",
    "import os\n",
    "import pandas as pd\n",
    "\n",
    "from IPython.core.interactiveshell import InteractiveShell\n",
    "# pretty print all cell's output and not just the last one\n",
    "InteractiveShell.ast_node_interactivity = \"all\"\n",
    "from IPython.core.display import display, HTML\n",
    "display(HTML(\"<style>.container { width:85% !important; }</style>\"))\n",
    "\n",
    "from crashpy.dataclasses import spectrum \n",
    "import scipy.constants as constants"
   ]
  },
  {
   "cell_type": "code",
   "execution_count": 1,
   "metadata": {},
   "outputs": [],
   "source": [
    "def get_nearest_lum_source(faint_source, lum_sources):\n",
    "    distances = []\n",
    "    for _, source in lum_sources.iterrows():\n",
    "        distance = np.sqrt((source.x-faint_source.x)**2+\n",
    "                          (source.y-faint_source.y)**2+\n",
    "                          (source.z-faint_source.z)**2)\n",
    "        distances.append(distance)\n",
    "    distances = np.array(distances)\n",
    "    min_index = np.argmin(distances)\n",
    "    min_value = distances[min_index]\n",
    "    index = lum_sources.iloc[min_index].name\n",
    "    return min_value, index"
   ]
  },
  {
   "cell_type": "code",
   "execution_count": 2,
   "metadata": {},
   "outputs": [],
   "source": [
    "def source_merger(source_df, lum_source_idx, faint_source_idx, path_to_halo_spec):\n",
    "    faint_source = source_df.loc[faint_source_idx]\n",
    "    lum_source = source_df.loc[lum_source_idx]\n",
    "    \n",
    "    faint_spec_path = os.path.join(path_to_halo_spec, faint_source['name'][1:-1]+'.ps')\n",
    "    lum_spec_path = os.path.join(path_to_halo_spec, lum_source['name'][1:-1]+'.ps')\n",
    "    \n",
    "    spec_faint = spectrum.CrashSpectrum.fromFile(faint_spec_path)\n",
    "    spec_lum = spectrum.CrashSpectrum.fromFile(lum_spec_path)\n",
    "    \n",
    "    lum_faint = faint_source['Q']\n",
    "    lum_lum = lum_source['Q']\n",
    "    \n",
    "    spec_faint.setEmissivity(lum_faint)\n",
    "    spec_lum.setEmissivity(lum_lum)\n",
    "    \n",
    "    summed_spectrum = spectrum.CrashSpectrum(constants.e/constants.h*spec_lum.spectrum['hnu'], \n",
    "                                             spec_lum.spectrum['Lnu']+spec_faint.spectrum['Lnu'])\n",
    "    \n",
    "    out_path = lum_spec_path\n",
    "    summed_spectrum.toFile(path=out_path, f=True)\n",
    "    \n",
    "    source_df.loc[lum_source_idx, 'Q'] = lum_faint+lum_lum\n",
    "    source_df.drop(faint_source_idx, inplace=True)\n",
    "    return"
   ]
  },
  {
   "cell_type": "code",
   "execution_count": 3,
   "metadata": {},
   "outputs": [],
   "source": [
    "def merge_halo_sources(path_to_input, path_to_spectra, snap, halo_id, threshold=0.01, max_dist=1.9):\n",
    "    column_names=['x', 'y', 'z', 'a', 'Q', 'b', 'name', 'c',\n",
    "    'halo', 'd', 'packets', 'e', 'loc_uv', 'f', 'loc_x']\n",
    "    sources_path = os.path.join(path_to_input, snap, f'g{halo_id}','sources_ic00.in')\n",
    "    spectra_path = os.path.join(path_to_spectra, snap, f'g{halo_id}')\n",
    "    \n",
    "    source_df = pd.read_table(sources_path, delimiter='\\t', names=column_names)\n",
    "    source_df['Q'] = source_df['Q'].str.replace('d','e').astype('float')\n",
    "    \n",
    "    lum_sources = source_df[source_df['Q']>threshold*source_df['Q'].max()]\n",
    "    faint_sources = source_df[source_df['Q']<threshold*source_df['Q'].max()]\n",
    "    for faint_idx, source in faint_sources.iterrows():\n",
    "        dist, lum_source_idx = get_nearest_lum_source(faint_source=source, lum_sources=lum_sources)\n",
    "        if dist > max_dist:\n",
    "            source_df.drop(faint_idx, inplace=True)\n",
    "        else:\n",
    "            source_merger(source_df=source_df, lum_source_idx=lum_source_idx, \n",
    "                          faint_source_idx=faint_idx, \n",
    "                          path_to_halo_spec=spectra_path)\n",
    "            \n",
    "    source_df['Q'] = source_df['Q'].apply('{:.3e}'.format)\n",
    "    source_df['Q'] = source_df['Q'].str.replace('e','d')\n",
    "    source_df.to_csv(sources_path, sep='\\t', header=False, index=False)\n",
    "    return"
   ]
  },
  {
   "cell_type": "code",
   "execution_count": 4,
   "metadata": {},
   "outputs": [],
   "source": [
    "def get_all_halos(path, snap):\n",
    "    path_to_snap = os.path.join(path, snap)\n",
    "    files = os.listdir(path_to_snap)\n",
    "    halos = [int(halo[1:]) for halo in files if halo.startswith('g')]\n",
    "    return halos"
   ]
  },
  {
   "cell_type": "code",
   "execution_count": null,
   "metadata": {},
   "outputs": [],
   "source": [
    "def all_halo_merge(path_to_input, path_to_spectra, threshold=0.01, max_dist=5):\n",
    "    snaps = ['sn004','sn008','sn013']\n",
    "    for snap in snaps:\n",
    "        halos = get_all_halos(path_to_input, snap)\n",
    "        for halo in halos:\n",
    "            print(f'Merging sources in halo {halo} in snap {snap}')\n",
    "            column_names=['x', 'y', 'z', 'a', 'Q', 'b', 'name', 'c',\n",
    "            'halo', 'd', 'packets', 'e', 'loc_uv', 'f', 'loc_x']\n",
    "            sources_path = os.path.join(path_to_input, snap, f'g{halo_id}','sources_ic00.in')\n",
    "            spectra_path = os.path.join(path_to_spectra, snap, f'g{halo_id}')\n",
    "\n",
    "            source_df = pd.read_table(sources_path, delimiter='\\t', names=column_names)\n",
    "            source_df['Q'] = source_df['Q'].str.replace('d','e').astype('float')\n",
    "\n",
    "            lum_sources = source_df[source_df['Q']>threshold*source_df['Q'].max()]\n",
    "            faint_sources = source_df[source_df['Q']<threshold*source_df['Q'].max()]\n",
    "            for faint_idx, source in faint_sources.iterrows():\n",
    "                dist, lum_source_idx = get_nearest_lum_source(faint_source=source, lum_sources=lum_sources)\n",
    "                if dist > max_dist:\n",
    "                    source_df.drop(faint_idx, inplace=True)\n",
    "                else:\n",
    "                    source_merger(source_df=source_df, lum_source_idx=lum_source_idx, \n",
    "                                  faint_source_idx=faint_idx, \n",
    "                                  path_to_halo_spec=spectra_path)\n",
    "\n",
    "            source_df['Q'] = source_df['Q'].apply('{:.3e}'.format)\n",
    "            source_df['Q'] = source_df['Q'].str.replace('e','d')\n",
    "            source_df.to_csv(sources_path, sep='\\t', header=False, index=False)\n",
    "    return"
   ]
  },
  {
   "cell_type": "code",
   "execution_count": null,
   "metadata": {},
   "outputs": [],
   "source": [
    "def set_packet_num(input_dir, packet_num):\n",
    "    column_names=['x', 'y', 'z', 'a', 'Q', 'b', 'name', 'c', 'halo', 'd', 'packets', 'e', 'loc_uv', 'f', 'loc_x']\n",
    "    for snap in os.listdir(input_dir):\n",
    "        packets = packet_num\n",
    "        snap_dir = os.path.join(input_dir, snap)\n",
    "        for halo in os.listdir(snap_dir):\n",
    "            try:\n",
    "                print(f'Setting the packet number to {packets} in halo {halo} of snap {snap}')\n",
    "                halo_dir = os.path.join(snap_dir, halo)\n",
    "                sources_path = os.path.join(halo_dir, 'sources_ic00.in')\n",
    "\n",
    "                sources = pd.read_table(sources_path, delimiter='\\t', names=column_names)\n",
    "                sources.packets = packets\n",
    "                sources.to_csv(sources_path, sep='\\t', header=False, index=False)\n",
    "            except:\n",
    "                print(halo)\n",
    "                continue"
   ]
  },
  {
   "cell_type": "code",
   "execution_count": null,
   "metadata": {},
   "outputs": [],
   "source": [
    "def remove_heavy_halos(path, star_mass_lim=1e8):\n",
    "    snaps = ['sn004','sn008','sn013']\n",
    "    df_name = 'sel_halos_df.pickle'\n",
    "    for snap in snaps:\n",
    "        halos = get_all_halos(path, snap)\n",
    "        df_path = os.path.join(path, snap, df_name)\n",
    "        all_halos = pd.read_pickle(df_path)\n",
    "        halos_used = all_halos.loc[halos]\n",
    "        \n",
    "        star_masses = halos_used[('GroupMassType', 4)]*1e10/0.6774\n",
    "        to_remove = np.array(star_masses[star_masses>star_mass_lim].index)\n",
    "        halos_to_remove = [f'g{halo}' for halo in to_remove]\n",
    "        \n",
    "        for halo in halos_to_remove:\n",
    "            path_to_halo = os.path.join(path, snap, halo)\n",
    "            print(f'Removing {path_to_halo}')\n",
    "            os.system(f'rm -r {path_to_halo}')\n",
    "    return"
   ]
  },
  {
   "cell_type": "code",
   "execution_count": null,
   "metadata": {},
   "outputs": [],
   "source": [
    "def prepare_halos(conf, threshold=0.01, max_dist=5, packet_number='1.000d+08'):\n",
    "    basepath = '/ptmp/mpa/mglatzle/TNG_f_esc'\n",
    "    path_to_conf = os.path.join(basepath, conf)\n",
    "    path_to_input = os.path.join(path_to_conf, 'input', 'L35n2160TNG')\n",
    "    path_to_spectra = os.path.join(path_to_conf, 'db', 'SPECTRA', 'L35n2160TNG')\n",
    "    \n",
    "    remove_heavy_halos(path_to_input, star_mass_lim=1e9)\n",
    "    all_halo_merge(path_to_input, path_to_spectra, threshold=0.01, max_dist=5)\n",
    "    set_packet_num(path_to_input, packet_number)\n",
    "    return"
   ]
  },
  {
   "cell_type": "code",
   "execution_count": null,
   "metadata": {},
   "outputs": [],
   "source": []
  }
 ],
 "metadata": {
  "kernelspec": {
   "display_name": "envcrash",
   "language": "python",
   "name": "envcrash"
  },
  "language_info": {
   "codemirror_mode": {
    "name": "ipython",
    "version": 3
   },
   "file_extension": ".py",
   "mimetype": "text/x-python",
   "name": "python",
   "nbconvert_exporter": "python",
   "pygments_lexer": "ipython3",
   "version": "3.8.2"
  }
 },
 "nbformat": 4,
 "nbformat_minor": 4
}
