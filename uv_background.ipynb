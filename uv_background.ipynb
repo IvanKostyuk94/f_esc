{
 "cells": [
  {
   "cell_type": "code",
   "execution_count": 1,
   "metadata": {},
   "outputs": [],
   "source": [
    "import matplotlib.pyplot as plt\n",
    "import importlib.util\n",
    "import pandas as pd\n",
    "import numpy as np\n",
    "import h5py\n",
    "import tables\n",
    "import tensorflow as tf\n",
    "import os\n",
    "from mpl_toolkits.axes_grid1 import make_axes_locatable\n",
    "from crashpy.dataclasses.simulation import LoadedSimulation as Sim\n",
    "from get_spectrum import get_spectra\n",
    "\n",
    "import warnings\n",
    "warnings.filterwarnings('ignore')\n",
    "\n",
    "from IPython.core.interactiveshell import InteractiveShell\n",
    "\n",
    "# pretty print all cell's output and not just the last one\n",
    "InteractiveShell.ast_node_interactivity = \"all\"\n",
    "import illustris_python as il"
   ]
  },
  {
   "cell_type": "code",
   "execution_count": 113,
   "metadata": {},
   "outputs": [
    {
     "data": {
      "text/html": [
       "<style>.container { width:75% !important; }</style>"
      ],
      "text/plain": [
       "<IPython.core.display.HTML object>"
      ]
     },
     "metadata": {},
     "output_type": "display_data"
    }
   ],
   "source": [
    "from IPython.core.display import display, HTML\n",
    "display(HTML(\"<style>.container { width:75% !important; }</style>\"))"
   ]
  },
  {
   "cell_type": "code",
   "execution_count": 24,
   "metadata": {},
   "outputs": [],
   "source": [
    "basePath = '/virgo/simulations/IllustrisTNG/L35n2160TNG/output'\n",
    "fields = ['GroupMass']\n",
    "h = 0.6774\n",
    "mass_norm =  1e10\n",
    "all_masses = il.groupcat.loadHalos(basePath,13,fields=['GroupMass','GroupMassType'])"
   ]
  },
  {
   "cell_type": "code",
   "execution_count": 90,
   "metadata": {},
   "outputs": [
    {
     "data": {
      "text/plain": [
       "(11455631,)"
      ]
     },
     "execution_count": 90,
     "metadata": {},
     "output_type": "execute_result"
    }
   ],
   "source": [
    "il.groupcat.loadHalos(basePath,13,fields='GroupMassType')[:,4].shape"
   ]
  },
  {
   "cell_type": "code",
   "execution_count": 28,
   "metadata": {},
   "outputs": [],
   "source": [
    "halo_mass = all_masses['GroupMass']/h*mass_norm\n",
    "star_mass = all_masses['GroupMassType'][:,4]/h*mass_norm\n",
    "dm_mass =  all_masses['GroupMassType'][:,1]/h*mass_norm"
   ]
  },
  {
   "cell_type": "code",
   "execution_count": 93,
   "metadata": {},
   "outputs": [
    {
     "data": {
      "text/plain": [
       "{'BoxSize': 35000.0,\n",
       " 'FlagDoubleprecision': 0,\n",
       " 'Git_commit': b'd203ec8b07c7e2bdda5f608aa0babea46d603699',\n",
       " 'Git_date': b'Thu Apr 7 14:14:27 2016 +0200',\n",
       " 'HubbleParam': 0.6774,\n",
       " 'Ngroups_ThisFile': 9345,\n",
       " 'Ngroups_Total': 8454982,\n",
       " 'Nids_ThisFile': 2115755,\n",
       " 'Nids_Total': 1275248686,\n",
       " 'Nsubgroups_ThisFile': 10733,\n",
       " 'Nsubgroups_Total': 6797991,\n",
       " 'NumFiles': 680,\n",
       " 'Omega0': 0.3089,\n",
       " 'OmegaLambda': 0.6911,\n",
       " 'Redshift': 8.012172948865935,\n",
       " 'Time': 0.11096103078290759}"
      ]
     },
     "execution_count": 93,
     "metadata": {},
     "output_type": "execute_result"
    }
   ],
   "source": [
    "il.groupcat.loadHeader(basePath,8)"
   ]
  },
  {
   "cell_type": "code",
   "execution_count": 87,
   "metadata": {},
   "outputs": [],
   "source": [
    "box_size = 35"
   ]
  },
  {
   "cell_type": "code",
   "execution_count": null,
   "metadata": {},
   "outputs": [],
   "source": [
    "def get_median_escape(df, edges, mass_type):\n",
    "    means = []\n",
    "    error = []\n",
    "    centers = []\n",
    "    variance = []\n",
    "    for i in range(len(edges)-1):\n",
    "        sub_fesc = df[(edges[i]*(1-1e-10)<df[halo_prop]) & (df[halo_prop]<edges[i+1])]['f_esc']\n",
    "        centers.append(np.exp((np.log(edges[i+1])+np.log(edges[i]))/2.))\n",
    "        \n",
    "        if mode == 'median':\n",
    "            means.append(sub_fesc.median())\n",
    "        elif mode == 'mean':\n",
    "            means.append(sub_fesc.mean())\n",
    "    \n",
    "        error.append(sub_fesc.std()/np.sqrt(sub_fesc.shape[0]))\n",
    "        variance.append(sub_fesc.var())\n",
    "    "
   ]
  },
  {
   "cell_type": "code",
   "execution_count": 101,
   "metadata": {},
   "outputs": [],
   "source": [
    "def get_tng_masses(mass_type, snap):\n",
    "    basePath = '/virgo/simulations/IllustrisTNG/L35n2160TNG/output'\n",
    "    h = 0.6774\n",
    "    if mass_type == 'StarMass':\n",
    "        mass_norm = 1e4\n",
    "        masses = il.groupcat.loadHalos(basePath,snap,fields='GroupMassType')[:,4]/h*mass_norm\n",
    "    elif mass_type == 'HaloMass':\n",
    "        masses = il.groupcat.loadHalos(basePath,snap,fields='GroupMass')/h\n",
    "    else:\n",
    "        raise ValueError(f'\"mass_type\" has to be \"StarMass\" or \"GroupMass\" received {mass_type} instead')\n",
    "    return masses"
   ]
  },
  {
   "cell_type": "code",
   "execution_count": 106,
   "metadata": {},
   "outputs": [],
   "source": [
    "def get_halos_per_bin(df, redshift, bins=30, mass_type='StarMass'):\n",
    "    redshift_map = {6:13, 8:8, 10:4}\n",
    "    box_size=35.\n",
    "    tng_masses = get_tng_masses(mass_type, snap=redshift_map[redshift])\n",
    "    mass_min = df[df.z==redshift][mass_type].min()\n",
    "    mass_max = df[df.z==redshift][mass_type].max()\n",
    "    masses_cut = tng_masses[(tng_masses>mass_min)*(tng_masses<mass_max)]\n",
    "    \n",
    "    edges = np.logspace(mass_min,mass_max, bins)\n",
    "    centroids = []\n",
    "    widths = []\n",
    "    for i in range(len(edges)-1):\n",
    "        centroids.append(edges[i]/2+edges[i+1]/2)\n",
    "        widths.append(edges_star[i+1]-edges_star[i])\n",
    "    centroids = np.array(centroids)\n",
    "    widths = np.array(widths)\n",
    "    hist, _ = np.histogram(masses_cut, bins=edges)\n",
    "    hist_norm = hist/box_size**3\n",
    "    \n",
    "    print(masses_cut.min())\n",
    "    print(masses_cut.max())\n",
    "    print(masses_cut.shape)"
   ]
  },
  {
   "cell_type": "code",
   "execution_count": 108,
   "metadata": {},
   "outputs": [
    {
     "name": "stdout",
     "output_type": "stream",
     "text": [
      "0.68631166\n",
      "392.3264\n",
      "(31172,)\n"
     ]
    }
   ],
   "source": [
    "get_halos_per_bin(df_no_dust, redshift=8)"
   ]
  },
  {
   "cell_type": "code",
   "execution_count": 109,
   "metadata": {},
   "outputs": [
    {
     "name": "stdout",
     "output_type": "stream",
     "text": [
      "0.6784866\n",
      "262.65918\n",
      "(14759,)\n"
     ]
    }
   ],
   "source": [
    "get_halos_per_bin(df_no_dust, redshift=10)"
   ]
  },
  {
   "cell_type": "code",
   "execution_count": 107,
   "metadata": {},
   "outputs": [
    {
     "name": "stdout",
     "output_type": "stream",
     "text": [
      "0.6785585\n",
      "697.2953\n",
      "(56928,)\n"
     ]
    }
   ],
   "source": [
    "get_halos_per_bin(df_no_dust, redshift=6)"
   ]
  },
  {
   "cell_type": "code",
   "execution_count": 7,
   "metadata": {},
   "outputs": [],
   "source": [
    "def update_df(df):\n",
    "    #df.set_index('ID', inplace=True)\n",
    "    df['Q0/HaloMass']=df['Q0']/df['HaloMass']\n",
    "    df['R_v^3/HaloMass']=df['HaloRadii']**3/df['HaloMass']\n",
    "    df['StarMass']= df['HaloMass']*df['FractionStars']*1e4\n",
    "    return"
   ]
  },
  {
   "cell_type": "code",
   "execution_count": 98,
   "metadata": {},
   "outputs": [],
   "source": [
    "df_no_dust = pd.read_hdf('df_f_esc_freq.h5', 'no_dust')\n",
    "update_df(df_no_dust)"
   ]
  },
  {
   "cell_type": "code",
   "execution_count": 85,
   "metadata": {},
   "outputs": [
    {
     "data": {
      "text/plain": [
       "697.41390645504"
      ]
     },
     "execution_count": 85,
     "metadata": {},
     "output_type": "execute_result"
    }
   ],
   "source": [
    "df_no_dust.StarMass.max()"
   ]
  },
  {
   "cell_type": "code",
   "execution_count": 86,
   "metadata": {},
   "outputs": [
    {
     "data": {
      "text/plain": [
       "0.6784678407711908"
      ]
     },
     "execution_count": 86,
     "metadata": {},
     "output_type": "execute_result"
    }
   ],
   "source": [
    "df_no_dust.StarMass.min()"
   ]
  },
  {
   "cell_type": "code",
   "execution_count": 46,
   "metadata": {},
   "outputs": [],
   "source": [
    "bins=40\n",
    "edges = np.logspace(np.log10(halo_mass.min()),np.log10(halo_mass.max()), bins)\n",
    "edges_star = np.logspace(np.log10(star_mass[star_mass != 0].min()),np.log10(star_mass.max()), bins)"
   ]
  },
  {
   "cell_type": "code",
   "execution_count": 47,
   "metadata": {},
   "outputs": [],
   "source": [
    "centroids = []\n",
    "for i in range(len(edges)-1):\n",
    "    centroids.append(edges_star[i]/2+edges_star[i+1]/2)\n",
    "centroids = np.array(centroids)"
   ]
  },
  {
   "cell_type": "code",
   "execution_count": 88,
   "metadata": {},
   "outputs": [],
   "source": [
    "hist, _ = np.histogram(star_mass, bins=edges_star)\n",
    "hist_norm = hist/box_size**3"
   ]
  },
  {
   "cell_type": "code",
   "execution_count": 89,
   "metadata": {},
   "outputs": [
    {
     "data": {
      "image/png": "[encoded data removed]",
      "text/plain": [
       "<Figure size 1080x1080 with 1 Axes>"
      ]
     },
     "metadata": {
      "needs_background": "light"
     },
     "output_type": "display_data"
    }
   ],
   "source": [
    "_ = plt.hist(star_mass, bins=edges_star, color = 'blue', alpha=0.8)\n",
    "plt.bar(centroids,hist_norm, width=widths, alpha=0.9, color='red')\n",
    "plt.yscale('log')\n",
    "plt.xscale('log')\n",
    "plt.rcParams[\"figure.figsize\"] = (15,15);"
   ]
  },
  {
   "cell_type": "code",
   "execution_count": 80,
   "metadata": {},
   "outputs": [
    {
     "name": "stdout",
     "output_type": "stream",
     "text": [
      "[2.26432681e+04 3.29578363e+04 4.79709452e+04 6.98228963e+04\n",
      " 1.01628951e+05 1.47923450e+05 2.15306237e+05 3.13383549e+05\n",
      " 4.56137501e+05 6.63919405e+05 9.66351102e+05 1.40654791e+06\n",
      " 2.04726525e+06 2.97984516e+06 4.33723827e+06 6.31295749e+06\n",
      " 9.18866565e+06 1.33743299e+07 1.94666677e+07 2.83342160e+07\n",
      " 4.12411516e+07 6.00275154e+07 8.73715322e+07 1.27171424e+08\n",
      " 1.85101151e+08 2.69419300e+08 3.92146449e+08 5.70778848e+08\n",
      " 8.30782719e+08 1.20922478e+09 1.76005655e+09 2.56180581e+09\n",
      " 3.72877166e+09 5.42731930e+09 7.89959738e+09 1.14980592e+10\n",
      " 1.67357093e+10 2.43592385e+10 3.54554737e+10]\n"
     ]
    }
   ],
   "source": [
    "widths = []\n",
    "for i in range(len(edges_star)-1):\n",
    "    widths.append(edges_star[i+1]-edges_star[i])\n",
    "widths = np.array(widths)\n",
    "print(centroids)"
   ]
  },
  {
   "cell_type": "code",
   "execution_count": 73,
   "metadata": {},
   "outputs": [
    {
     "data": {
      "text/plain": [
       "(39,)"
      ]
     },
     "execution_count": 73,
     "metadata": {},
     "output_type": "execute_result"
    },
    {
     "data": {
      "text/plain": [
       "(39,)"
      ]
     },
     "execution_count": 73,
     "metadata": {},
     "output_type": "execute_result"
    },
    {
     "data": {
      "text/plain": [
       "(39,)"
      ]
     },
     "execution_count": 73,
     "metadata": {},
     "output_type": "execute_result"
    }
   ],
   "source": [
    "hist.shape\n",
    "centroids.shape\n",
    "widths.shape"
   ]
  },
  {
   "cell_type": "code",
   "execution_count": 79,
   "metadata": {},
   "outputs": [
    {
     "name": "stdout",
     "output_type": "stream",
     "text": [
      "[    2 20303 86836 88181 78492 71245 57082 42177 29782 20020 13859  9699\n",
      "  6938  5045  3797  2889  2108  1534  1152   796   636   425   341   226\n",
      "   175    94    78    45    23    23     8     6     1     5     5     0\n",
      "     0     1     2]\n",
      "[1.03527883e+06 1.44134946e+06 2.00669445e+06 2.79378646e+06\n",
      " 3.88960201e+06 5.41523270e+06 7.53926627e+06 1.04964161e+07\n",
      " 1.46134581e+07 2.03453402e+07 2.83254563e+07 3.94356381e+07\n",
      " 5.49036012e+07 7.64386115e+07 1.06420366e+08 1.48161957e+08\n",
      " 2.06275982e+08 2.87184252e+08 3.99827425e+08 5.56652980e+08\n",
      " 7.74990710e+08 1.07896773e+09 1.50217460e+09 2.09137721e+09\n",
      " 2.91168460e+09 4.05374371e+09 5.64375621e+09 7.85742427e+09\n",
      " 1.09393662e+10 1.52301479e+10 2.12039162e+10 2.95207942e+10\n",
      " 4.10998271e+10 5.72205401e+10 7.96643306e+10 1.10911319e+11\n",
      " 1.54414410e+11 2.14980855e+11 2.99303464e+11]\n"
     ]
    },
    {
     "data": {
      "text/plain": [
       "array([2.26432681e+04, 3.29578363e+04, 4.79709452e+04, 6.98228963e+04,\n",
       "       1.01628951e+05, 1.47923450e+05, 2.15306237e+05, 3.13383549e+05,\n",
       "       4.56137501e+05, 6.63919405e+05, 9.66351102e+05, 1.40654791e+06,\n",
       "       2.04726525e+06, 2.97984516e+06, 4.33723827e+06, 6.31295749e+06,\n",
       "       9.18866565e+06, 1.33743299e+07, 1.94666677e+07, 2.83342160e+07,\n",
       "       4.12411516e+07, 6.00275154e+07, 8.73715322e+07, 1.27171424e+08,\n",
       "       1.85101151e+08, 2.69419300e+08, 3.92146449e+08, 5.70778848e+08,\n",
       "       8.30782719e+08, 1.20922478e+09, 1.76005655e+09, 2.56180581e+09,\n",
       "       3.72877166e+09, 5.42731930e+09, 7.89959738e+09, 1.14980592e+10,\n",
       "       1.67357093e+10, 2.43592385e+10, 3.54554737e+10])"
      ]
     },
     "execution_count": 79,
     "metadata": {},
     "output_type": "execute_result"
    },
    {
     "data": {
      "text/plain": [
       "array([2.63944782e+06, 3.67472665e+06, 5.11607611e+06, 7.12277056e+06,\n",
       "       9.91655702e+06, 1.38061590e+07, 1.92213917e+07, 2.67606580e+07,\n",
       "       3.72570741e+07, 5.18705322e+07, 7.22158724e+07, 1.00541329e+08,\n",
       "       1.39976967e+08, 1.94880568e+08, 2.71319180e+08, 3.77739545e+08,\n",
       "       5.25901502e+08, 7.32177485e+08, 1.01936174e+09, 1.41918916e+09,\n",
       "       1.97584214e+09, 2.75083285e+09, 3.82980058e+09, 5.33197517e+09,\n",
       "       7.42335238e+09, 1.03350370e+10, 1.43887807e+10, 2.00325369e+10,\n",
       "       2.78899612e+10, 3.88293274e+10, 5.40594753e+10, 7.52633914e+10,\n",
       "       1.04784186e+11, 1.45884013e+11, 2.03104553e+11, 2.82768883e+11,\n",
       "       3.93680202e+11, 5.48094612e+11, 7.63075467e+11, 1.06237893e+12])"
      ]
     },
     "execution_count": 79,
     "metadata": {},
     "output_type": "execute_result"
    }
   ],
   "source": [
    "print(hist)\n",
    "print(widths)\n",
    "centroids\n",
    "edges"
   ]
  },
  {
   "cell_type": "code",
   "execution_count": 81,
   "metadata": {
    "scrolled": false
   },
   "outputs": [
    {
     "data": {
      "image/png": "[encoded data removed]",
      "text/plain": [
       "<Figure size 1080x1080 with 1 Axes>"
      ]
     },
     "metadata": {
      "needs_background": "light"
     },
     "output_type": "display_data"
    }
   ],
   "source": [
    "plt.bar(centroids,hist, width=widths)\n",
    "plt.yscale('log')\n",
    "plt.xscale('log')\n",
    "plt.rcParams[\"figure.figsize\"] = (15,15);"
   ]
  },
  {
   "cell_type": "code",
   "execution_count": null,
   "metadata": {},
   "outputs": [],
   "source": []
  }
 ],
 "metadata": {
  "kernelspec": {
   "display_name": "envcrash",
   "language": "python",
   "name": "envcrash"
  },
  "language_info": {
   "codemirror_mode": {
    "name": "ipython",
    "version": 3
   },
   "file_extension": ".py",
   "mimetype": "text/x-python",
   "name": "python",
   "nbconvert_exporter": "python",
   "pygments_lexer": "ipython3",
   "version": "3.8.2"
  }
 },
 "nbformat": 4,
 "nbformat_minor": 4
}
